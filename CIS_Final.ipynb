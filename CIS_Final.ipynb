{
  "nbformat": 4,
  "nbformat_minor": 0,
  "metadata": {
    "colab": {
      "name": "CIS_Final.ipynb",
      "provenance": [],
      "toc_visible": true,
      "include_colab_link": true
    },
    "kernelspec": {
      "name": "python3",
      "display_name": "Python 3"
    }
  },
  "cells": [
    {
      "cell_type": "markdown",
      "metadata": {
        "id": "view-in-github",
        "colab_type": "text"
      },
      "source": [
        "<a href=\"https://colab.research.google.com/github/kdenning/Political-ANN/blob/master/CIS_Final.ipynb\" target=\"_parent\"><img src=\"https://colab.research.google.com/assets/colab-badge.svg\" alt=\"Open In Colab\"/></a>"
      ]
    },
    {
      "cell_type": "markdown",
      "metadata": {
        "id": "_gk8oMpzZO-g",
        "colab_type": "text"
      },
      "source": [
        "# **Data Set-up**"
      ]
    },
    {
      "cell_type": "code",
      "metadata": {
        "id": "4_0ycfDAhsSS",
        "colab_type": "code",
        "outputId": "b3b160ef-b5f6-4746-f424-ff2e7a5bd9eb",
        "colab": {
          "base_uri": "https://localhost:8080/",
          "height": 465
        }
      },
      "source": [
        "# importing the data\n",
        "import pandas as pd\n",
        "url = 'https://docs.google.com/spreadsheets/d/e/2PACX-1vTl96SRjmGCo6hCFRYJzuP_v17kqx08ZC9fubES5aUOCVZjsHWXXxwPix2pvpF5WzOYyHb1SCbaEBDF/pub?output=csv'\n",
        "pt_table = pd.read_csv(url, error_bad_lines=False, encoding='utf-8', delimiter=\",\")\n",
        "pd.set_option('display.max_columns', None)\n",
        "pt_table.head()"
      ],
      "execution_count": 23,
      "outputs": [
        {
          "output_type": "execute_result",
          "data": {
            "text/html": [
              "<div>\n",
              "<style scoped>\n",
              "    .dataframe tbody tr th:only-of-type {\n",
              "        vertical-align: middle;\n",
              "    }\n",
              "\n",
              "    .dataframe tbody tr th {\n",
              "        vertical-align: top;\n",
              "    }\n",
              "\n",
              "    .dataframe thead th {\n",
              "        text-align: right;\n",
              "    }\n",
              "</style>\n",
              "<table border=\"1\" class=\"dataframe\">\n",
              "  <thead>\n",
              "    <tr style=\"text-align: right;\">\n",
              "      <th></th>\n",
              "      <th>subid</th>\n",
              "      <th>PoliOrient_1</th>\n",
              "      <th>VotePref</th>\n",
              "      <th>Day_Clin_In_PT</th>\n",
              "      <th>Day_Clin_In_C</th>\n",
              "      <th>Day_Clin_Out_PT</th>\n",
              "      <th>Day_Clin_Out_C</th>\n",
              "      <th>Day_Trump_Out_PT</th>\n",
              "      <th>Day_Trump_Out_C</th>\n",
              "      <th>Day_Trump_In_PT</th>\n",
              "      <th>Day_Trump_In_C</th>\n",
              "    </tr>\n",
              "  </thead>\n",
              "  <tbody>\n",
              "    <tr>\n",
              "      <th>0</th>\n",
              "      <td>1</td>\n",
              "      <td>2</td>\n",
              "      <td>1</td>\n",
              "      <td>NaN</td>\n",
              "      <td>NaN</td>\n",
              "      <td>NaN</td>\n",
              "      <td>Jen gets up and feeds her 5 kids. She goes to ...</td>\n",
              "      <td>NaN</td>\n",
              "      <td>NaN</td>\n",
              "      <td>NaN</td>\n",
              "      <td>NaN</td>\n",
              "    </tr>\n",
              "    <tr>\n",
              "      <th>1</th>\n",
              "      <td>4</td>\n",
              "      <td>5</td>\n",
              "      <td>2</td>\n",
              "      <td>NaN</td>\n",
              "      <td>NaN</td>\n",
              "      <td>NaN</td>\n",
              "      <td>NaN</td>\n",
              "      <td>NaN</td>\n",
              "      <td>I BELIEVE A TYPICAL DAY FOR JEN IS FILLED WITH...</td>\n",
              "      <td>NaN</td>\n",
              "      <td>NaN</td>\n",
              "    </tr>\n",
              "    <tr>\n",
              "      <th>2</th>\n",
              "      <td>5</td>\n",
              "      <td>4</td>\n",
              "      <td>2</td>\n",
              "      <td>NaN</td>\n",
              "      <td>NaN</td>\n",
              "      <td>NaN</td>\n",
              "      <td>NaN</td>\n",
              "      <td>NaN</td>\n",
              "      <td>NaN</td>\n",
              "      <td>NaN</td>\n",
              "      <td>She wakes up early, gets ready for work, makes...</td>\n",
              "    </tr>\n",
              "    <tr>\n",
              "      <th>3</th>\n",
              "      <td>6</td>\n",
              "      <td>1</td>\n",
              "      <td>1</td>\n",
              "      <td>NaN</td>\n",
              "      <td>Jen is a graudate student in Social work and t...</td>\n",
              "      <td>NaN</td>\n",
              "      <td>NaN</td>\n",
              "      <td>NaN</td>\n",
              "      <td>NaN</td>\n",
              "      <td>NaN</td>\n",
              "      <td>NaN</td>\n",
              "    </tr>\n",
              "    <tr>\n",
              "      <th>4</th>\n",
              "      <td>7</td>\n",
              "      <td>3</td>\n",
              "      <td>1</td>\n",
              "      <td>A feminist goes about her day, ranting about h...</td>\n",
              "      <td>NaN</td>\n",
              "      <td>NaN</td>\n",
              "      <td>NaN</td>\n",
              "      <td>NaN</td>\n",
              "      <td>NaN</td>\n",
              "      <td>NaN</td>\n",
              "      <td>NaN</td>\n",
              "    </tr>\n",
              "  </tbody>\n",
              "</table>\n",
              "</div>"
            ],
            "text/plain": [
              "   subid  PoliOrient_1  VotePref  \\\n",
              "0      1             2         1   \n",
              "1      4             5         2   \n",
              "2      5             4         2   \n",
              "3      6             1         1   \n",
              "4      7             3         1   \n",
              "\n",
              "                                      Day_Clin_In_PT  \\\n",
              "0                                                NaN   \n",
              "1                                                NaN   \n",
              "2                                                NaN   \n",
              "3                                                NaN   \n",
              "4  A feminist goes about her day, ranting about h...   \n",
              "\n",
              "                                       Day_Clin_In_C Day_Clin_Out_PT  \\\n",
              "0                                                NaN             NaN   \n",
              "1                                                NaN             NaN   \n",
              "2                                                NaN             NaN   \n",
              "3  Jen is a graudate student in Social work and t...             NaN   \n",
              "4                                                NaN             NaN   \n",
              "\n",
              "                                      Day_Clin_Out_C Day_Trump_Out_PT  \\\n",
              "0  Jen gets up and feeds her 5 kids. She goes to ...              NaN   \n",
              "1                                                NaN              NaN   \n",
              "2                                                NaN              NaN   \n",
              "3                                                NaN              NaN   \n",
              "4                                                NaN              NaN   \n",
              "\n",
              "                                     Day_Trump_Out_C Day_Trump_In_PT  \\\n",
              "0                                                NaN             NaN   \n",
              "1  I BELIEVE A TYPICAL DAY FOR JEN IS FILLED WITH...             NaN   \n",
              "2                                                NaN             NaN   \n",
              "3                                                NaN             NaN   \n",
              "4                                                NaN             NaN   \n",
              "\n",
              "                                      Day_Trump_In_C  \n",
              "0                                                NaN  \n",
              "1                                                NaN  \n",
              "2  She wakes up early, gets ready for work, makes...  \n",
              "3                                                NaN  \n",
              "4                                                NaN  "
            ]
          },
          "metadata": {
            "tags": []
          },
          "execution_count": 23
        }
      ]
    },
    {
      "cell_type": "code",
      "metadata": {
        "id": "eApK1XCYYkJ8",
        "colab_type": "code",
        "outputId": "92ce8df7-f214-4475-a378-8a3ad3e4aed8",
        "colab": {
          "base_uri": "https://localhost:8080/",
          "height": 260
        }
      },
      "source": [
        "# getting data in long format\n",
        "table_long = pd.melt(pt_table, id_vars=['subid', 'VotePref'], value_vars=['Day_Clin_In_PT', 'Day_Clin_In_C', 'Day_Clin_Out_PT', 'Day_Clin_Out_C', 'Day_Trump_Out_PT', 'Day_Trump_Out_C', 'Day_Trump_In_PT', \"Day_Trump_In_C\" ])\n",
        "# removing NaN's\n",
        "long_nonan = table_long.dropna()\n",
        "# checking the data looks right and is the right number of rows; should be 773\n",
        "print(long_nonan.head())\n",
        "print(len(long_nonan))"
      ],
      "execution_count": 24,
      "outputs": [
        {
          "output_type": "stream",
          "text": [
            "    subid  VotePref        variable  \\\n",
            "4       7         1  Day_Clin_In_PT   \n",
            "8      11         1  Day_Clin_In_PT   \n",
            "18     21         1  Day_Clin_In_PT   \n",
            "20     23         1  Day_Clin_In_PT   \n",
            "27     30         1  Day_Clin_In_PT   \n",
            "\n",
            "                                                value  \n",
            "4   A feminist goes about her day, ranting about h...  \n",
            "8   I am a gym teacher. My typical week begins wit...  \n",
            "18  I think Jen is a very intelligent hard working...  \n",
            "20  I wake up in the morning, take a shower then e...  \n",
            "27                   She wants equality for everyone.  \n",
            "773\n"
          ],
          "name": "stdout"
        }
      ]
    },
    {
      "cell_type": "code",
      "metadata": {
        "id": "IWq82TxTduyp",
        "colab_type": "code",
        "colab": {
          "base_uri": "https://localhost:8080/",
          "height": 104
        },
        "outputId": "7c33ec05-d5b7-42d4-be7b-40bf04cc0e12"
      },
      "source": [
        "# Looking at the types of variables in my set, so that I can recode VotPref\n",
        "print(long_nonan.dtypes)"
      ],
      "execution_count": 21,
      "outputs": [
        {
          "output_type": "stream",
          "text": [
            "subid        int64\n",
            "VotePref     int64\n",
            "variable    object\n",
            "value       object\n",
            "dtype: object\n"
          ],
          "name": "stdout"
        }
      ]
    },
    {
      "cell_type": "code",
      "metadata": {
        "id": "Tp7FbYzfcbd3",
        "colab_type": "code",
        "colab": {
          "base_uri": "https://localhost:8080/",
          "height": 415
        },
        "outputId": "e2a0c80e-6669-41fb-aff6-cc6d87c81bb6"
      },
      "source": [
        "# make the outcome variable binary (1, 0)\n",
        "long_nonan.replace({'VotePref': 2}, 0) # Now 1 = voted for Clinton, 0 = voted for Trump"
      ],
      "execution_count": 25,
      "outputs": [
        {
          "output_type": "execute_result",
          "data": {
            "text/html": [
              "<div>\n",
              "<style scoped>\n",
              "    .dataframe tbody tr th:only-of-type {\n",
              "        vertical-align: middle;\n",
              "    }\n",
              "\n",
              "    .dataframe tbody tr th {\n",
              "        vertical-align: top;\n",
              "    }\n",
              "\n",
              "    .dataframe thead th {\n",
              "        text-align: right;\n",
              "    }\n",
              "</style>\n",
              "<table border=\"1\" class=\"dataframe\">\n",
              "  <thead>\n",
              "    <tr style=\"text-align: right;\">\n",
              "      <th></th>\n",
              "      <th>subid</th>\n",
              "      <th>VotePref</th>\n",
              "      <th>variable</th>\n",
              "      <th>value</th>\n",
              "    </tr>\n",
              "  </thead>\n",
              "  <tbody>\n",
              "    <tr>\n",
              "      <th>4</th>\n",
              "      <td>7</td>\n",
              "      <td>1</td>\n",
              "      <td>Day_Clin_In_PT</td>\n",
              "      <td>A feminist goes about her day, ranting about h...</td>\n",
              "    </tr>\n",
              "    <tr>\n",
              "      <th>8</th>\n",
              "      <td>11</td>\n",
              "      <td>1</td>\n",
              "      <td>Day_Clin_In_PT</td>\n",
              "      <td>I am a gym teacher. My typical week begins wit...</td>\n",
              "    </tr>\n",
              "    <tr>\n",
              "      <th>18</th>\n",
              "      <td>21</td>\n",
              "      <td>1</td>\n",
              "      <td>Day_Clin_In_PT</td>\n",
              "      <td>I think Jen is a very intelligent hard working...</td>\n",
              "    </tr>\n",
              "    <tr>\n",
              "      <th>20</th>\n",
              "      <td>23</td>\n",
              "      <td>1</td>\n",
              "      <td>Day_Clin_In_PT</td>\n",
              "      <td>I wake up in the morning, take a shower then e...</td>\n",
              "    </tr>\n",
              "    <tr>\n",
              "      <th>27</th>\n",
              "      <td>30</td>\n",
              "      <td>1</td>\n",
              "      <td>Day_Clin_In_PT</td>\n",
              "      <td>She wants equality for everyone.</td>\n",
              "    </tr>\n",
              "    <tr>\n",
              "      <th>...</th>\n",
              "      <td>...</td>\n",
              "      <td>...</td>\n",
              "      <td>...</td>\n",
              "      <td>...</td>\n",
              "    </tr>\n",
              "    <tr>\n",
              "      <th>6148</th>\n",
              "      <td>773</td>\n",
              "      <td>0</td>\n",
              "      <td>Day_Trump_In_C</td>\n",
              "      <td>Jen wakes up. Turns on the news. Goes to work....</td>\n",
              "    </tr>\n",
              "    <tr>\n",
              "      <th>6154</th>\n",
              "      <td>779</td>\n",
              "      <td>0</td>\n",
              "      <td>Day_Trump_In_C</td>\n",
              "      <td>She gets up like everyone else. She goes to wo...</td>\n",
              "    </tr>\n",
              "    <tr>\n",
              "      <th>6162</th>\n",
              "      <td>787</td>\n",
              "      <td>0</td>\n",
              "      <td>Day_Trump_In_C</td>\n",
              "      <td>Wake up and take the kids to all white school,...</td>\n",
              "    </tr>\n",
              "    <tr>\n",
              "      <th>6173</th>\n",
              "      <td>799</td>\n",
              "      <td>0</td>\n",
              "      <td>Day_Trump_In_C</td>\n",
              "      <td>Jen's typical day would be to care for her fam...</td>\n",
              "    </tr>\n",
              "    <tr>\n",
              "      <th>6183</th>\n",
              "      <td>809</td>\n",
              "      <td>0</td>\n",
              "      <td>Day_Trump_In_C</td>\n",
              "      <td>Probably a hard working mom who is smart an we...</td>\n",
              "    </tr>\n",
              "  </tbody>\n",
              "</table>\n",
              "<p>773 rows × 4 columns</p>\n",
              "</div>"
            ],
            "text/plain": [
              "      subid  VotePref        variable  \\\n",
              "4         7         1  Day_Clin_In_PT   \n",
              "8        11         1  Day_Clin_In_PT   \n",
              "18       21         1  Day_Clin_In_PT   \n",
              "20       23         1  Day_Clin_In_PT   \n",
              "27       30         1  Day_Clin_In_PT   \n",
              "...     ...       ...             ...   \n",
              "6148    773         0  Day_Trump_In_C   \n",
              "6154    779         0  Day_Trump_In_C   \n",
              "6162    787         0  Day_Trump_In_C   \n",
              "6173    799         0  Day_Trump_In_C   \n",
              "6183    809         0  Day_Trump_In_C   \n",
              "\n",
              "                                                  value  \n",
              "4     A feminist goes about her day, ranting about h...  \n",
              "8     I am a gym teacher. My typical week begins wit...  \n",
              "18    I think Jen is a very intelligent hard working...  \n",
              "20    I wake up in the morning, take a shower then e...  \n",
              "27                     She wants equality for everyone.  \n",
              "...                                                 ...  \n",
              "6148  Jen wakes up. Turns on the news. Goes to work....  \n",
              "6154  She gets up like everyone else. She goes to wo...  \n",
              "6162  Wake up and take the kids to all white school,...  \n",
              "6173  Jen's typical day would be to care for her fam...  \n",
              "6183  Probably a hard working mom who is smart an we...  \n",
              "\n",
              "[773 rows x 4 columns]"
            ]
          },
          "metadata": {
            "tags": []
          },
          "execution_count": 25
        }
      ]
    },
    {
      "cell_type": "code",
      "metadata": {
        "id": "ReAndGoBcc14",
        "colab_type": "code",
        "outputId": "734c9d06-0443-41f6-fdd5-c3a8f261a76d",
        "colab": {
          "base_uri": "https://localhost:8080/",
          "height": 731
        }
      },
      "source": [
        "# Getting puddles and spacey loaded\n",
        "!rm -r  'uo_puddles'\n",
        "puddles = 'uo-puddles' \n",
        "clone_url = f'https://github.com/{puddles}/uo_puddles.git'\n",
        "!git clone $clone_url \n",
        "import uo_puddles.uo_puddles as up\n",
        "\n",
        "import spacy\n",
        "!python -m spacy download en_core_web_md\n",
        "import en_core_web_md\n",
        "nlp = en_core_web_md.load()  "
      ],
      "execution_count": 26,
      "outputs": [
        {
          "output_type": "stream",
          "text": [
            "rm: cannot remove 'uo_puddles': No such file or directory\n",
            "Cloning into 'uo_puddles'...\n",
            "remote: Enumerating objects: 6, done.\u001b[K\n",
            "remote: Counting objects: 100% (6/6), done.\u001b[K\n",
            "remote: Compressing objects: 100% (6/6), done.\u001b[K\n",
            "remote: Total 282 (delta 2), reused 0 (delta 0), pack-reused 276\u001b[K\n",
            "Receiving objects: 100% (282/282), 76.59 KiB | 6.96 MiB/s, done.\n",
            "Resolving deltas: 100% (169/169), done.\n",
            "Collecting en_core_web_md==2.2.5\n",
            "\u001b[?25l  Downloading https://github.com/explosion/spacy-models/releases/download/en_core_web_md-2.2.5/en_core_web_md-2.2.5.tar.gz (96.4MB)\n",
            "\u001b[K     |████████████████████████████████| 96.4MB 1.1MB/s \n",
            "\u001b[?25hRequirement already satisfied: spacy>=2.2.2 in /usr/local/lib/python3.6/dist-packages (from en_core_web_md==2.2.5) (2.2.4)\n",
            "Requirement already satisfied: numpy>=1.15.0 in /usr/local/lib/python3.6/dist-packages (from spacy>=2.2.2->en_core_web_md==2.2.5) (1.18.5)\n",
            "Requirement already satisfied: thinc==7.4.0 in /usr/local/lib/python3.6/dist-packages (from spacy>=2.2.2->en_core_web_md==2.2.5) (7.4.0)\n",
            "Requirement already satisfied: catalogue<1.1.0,>=0.0.7 in /usr/local/lib/python3.6/dist-packages (from spacy>=2.2.2->en_core_web_md==2.2.5) (1.0.0)\n",
            "Requirement already satisfied: requests<3.0.0,>=2.13.0 in /usr/local/lib/python3.6/dist-packages (from spacy>=2.2.2->en_core_web_md==2.2.5) (2.23.0)\n",
            "Requirement already satisfied: preshed<3.1.0,>=3.0.2 in /usr/local/lib/python3.6/dist-packages (from spacy>=2.2.2->en_core_web_md==2.2.5) (3.0.2)\n",
            "Requirement already satisfied: blis<0.5.0,>=0.4.0 in /usr/local/lib/python3.6/dist-packages (from spacy>=2.2.2->en_core_web_md==2.2.5) (0.4.1)\n",
            "Requirement already satisfied: murmurhash<1.1.0,>=0.28.0 in /usr/local/lib/python3.6/dist-packages (from spacy>=2.2.2->en_core_web_md==2.2.5) (1.0.2)\n",
            "Requirement already satisfied: tqdm<5.0.0,>=4.38.0 in /usr/local/lib/python3.6/dist-packages (from spacy>=2.2.2->en_core_web_md==2.2.5) (4.41.1)\n",
            "Requirement already satisfied: plac<1.2.0,>=0.9.6 in /usr/local/lib/python3.6/dist-packages (from spacy>=2.2.2->en_core_web_md==2.2.5) (1.1.3)\n",
            "Requirement already satisfied: wasabi<1.1.0,>=0.4.0 in /usr/local/lib/python3.6/dist-packages (from spacy>=2.2.2->en_core_web_md==2.2.5) (0.6.0)\n",
            "Requirement already satisfied: cymem<2.1.0,>=2.0.2 in /usr/local/lib/python3.6/dist-packages (from spacy>=2.2.2->en_core_web_md==2.2.5) (2.0.3)\n",
            "Requirement already satisfied: setuptools in /usr/local/lib/python3.6/dist-packages (from spacy>=2.2.2->en_core_web_md==2.2.5) (47.1.1)\n",
            "Requirement already satisfied: srsly<1.1.0,>=1.0.2 in /usr/local/lib/python3.6/dist-packages (from spacy>=2.2.2->en_core_web_md==2.2.5) (1.0.2)\n",
            "Requirement already satisfied: importlib-metadata>=0.20; python_version < \"3.8\" in /usr/local/lib/python3.6/dist-packages (from catalogue<1.1.0,>=0.0.7->spacy>=2.2.2->en_core_web_md==2.2.5) (1.6.0)\n",
            "Requirement already satisfied: idna<3,>=2.5 in /usr/local/lib/python3.6/dist-packages (from requests<3.0.0,>=2.13.0->spacy>=2.2.2->en_core_web_md==2.2.5) (2.9)\n",
            "Requirement already satisfied: certifi>=2017.4.17 in /usr/local/lib/python3.6/dist-packages (from requests<3.0.0,>=2.13.0->spacy>=2.2.2->en_core_web_md==2.2.5) (2020.4.5.1)\n",
            "Requirement already satisfied: chardet<4,>=3.0.2 in /usr/local/lib/python3.6/dist-packages (from requests<3.0.0,>=2.13.0->spacy>=2.2.2->en_core_web_md==2.2.5) (3.0.4)\n",
            "Requirement already satisfied: urllib3!=1.25.0,!=1.25.1,<1.26,>=1.21.1 in /usr/local/lib/python3.6/dist-packages (from requests<3.0.0,>=2.13.0->spacy>=2.2.2->en_core_web_md==2.2.5) (1.24.3)\n",
            "Requirement already satisfied: zipp>=0.5 in /usr/local/lib/python3.6/dist-packages (from importlib-metadata>=0.20; python_version < \"3.8\"->catalogue<1.1.0,>=0.0.7->spacy>=2.2.2->en_core_web_md==2.2.5) (3.1.0)\n",
            "Building wheels for collected packages: en-core-web-md\n",
            "  Building wheel for en-core-web-md (setup.py) ... \u001b[?25l\u001b[?25hdone\n",
            "  Created wheel for en-core-web-md: filename=en_core_web_md-2.2.5-cp36-none-any.whl size=98051305 sha256=12a39eccc6b1900b3142656c1b56d0a038ce609fe9c2b16480cca08d10051c22\n",
            "  Stored in directory: /tmp/pip-ephem-wheel-cache-8kzq43ub/wheels/df/94/ad/f5cf59224cea6b5686ac4fd1ad19c8a07bc026e13c36502d81\n",
            "Successfully built en-core-web-md\n",
            "Installing collected packages: en-core-web-md\n",
            "Successfully installed en-core-web-md-2.2.5\n",
            "\u001b[38;5;2m✔ Download and installation successful\u001b[0m\n",
            "You can now load the model via spacy.load('en_core_web_md')\n"
          ],
          "name": "stdout"
        }
      ]
    },
    {
      "cell_type": "code",
      "metadata": {
        "id": "klpB8sHmkDzV",
        "colab_type": "code",
        "outputId": "b4fbce77-998a-432e-82ce-9b225f765f1b",
        "colab": {
          "base_uri": "https://localhost:8080/",
          "height": 139
        }
      },
      "source": [
        "# Adding my github repo of functions for this final project\n",
        "!rm -r  'python_library_final_proj'\n",
        "github_name = 'kdenning' \n",
        "clone_url = f'https://github.com/{github_name}/python_library_final_proj.git'\n",
        "!git clone $clone_url\n",
        "import python_library_final_proj.functions as func"
      ],
      "execution_count": 27,
      "outputs": [
        {
          "output_type": "stream",
          "text": [
            "rm: cannot remove 'python_library_final_proj': No such file or directory\n",
            "Cloning into 'python_library_final_proj'...\n",
            "remote: Enumerating objects: 12, done.\u001b[K\n",
            "remote: Counting objects: 100% (12/12), done.\u001b[K\n",
            "remote: Compressing objects: 100% (12/12), done.\u001b[K\n",
            "remote: Total 12 (delta 4), reused 0 (delta 0), pack-reused 0\u001b[K\n",
            "Unpacking objects: 100% (12/12), done.\n"
          ],
          "name": "stdout"
        }
      ]
    },
    {
      "cell_type": "code",
      "metadata": {
        "id": "6s6eoGEFdy6x",
        "colab_type": "code",
        "outputId": "86ed7111-5b8a-4fbb-92c2-d7f51561a7bb",
        "colab": {
          "base_uri": "https://localhost:8080/",
          "height": 55
        }
      },
      "source": [
        "# Shuffle table to prep for data split\n",
        "import numpy as np\n",
        "rsgen = np.random.RandomState(1234)\n",
        "\n",
        "shuffled_table = long_nonan.sample(frac=1, random_state=rsgen).reset_index(drop=True)\n",
        "shuffled_table.head()\n",
        "\n",
        "# Pulling out strings\n",
        "text = shuffled_table['value'].tolist()\n",
        "vote = shuffled_table['VotePref'].tolist() \n",
        "\n",
        "print(text[:10])"
      ],
      "execution_count": 28,
      "outputs": [
        {
          "output_type": "stream",
          "text": [
            "['Jen gets up and goes to her local elementary school, where she is a kindergarten teacher. She spends all day teaching young children and then goes home to spend time with her own family. She does charity work some days, when she has time.', 'Jen is highly motivated to prove she is an independent, hard working person. She is a single parent of two children, both girls, and she wants them to growup knowing there is nothing that they can\\'t do, so spends her day role modelling for them how she thinks a modern, free-thinker, conscientous woman would behave. She is environmentally aware, teaching them about recycling but dumps her trash in the neighbor\\'s front yard because she doesn\\'t believe the same way. As she tells her girls sometimes you have to do bad things to get the right thing done. She doesn\\'t understand why her girls are so disrepectful of her forgetting they were standing by when she yelled \"Pig\" at the cop who pulled her over for running that red light on her way to their school. She joins a group of her peers after lunch to discuss how they can make it as difficult as possible for the republicans to do anything that might change their wanted status quo. She has been unfairly treated and it is up to them to rectify the situation even if it means anarchy in her city. She  is on a team working not for good but self.', 'Jan is probably a single mother.  If she has a job, she still depends on food stamps and other government assistance.\\n', \"Jen awakens and immediately turns on MSNBC to help her know what to be outraged about. She works on protest signs all morning as MSNBC plays. She goes to a march and does a lot of yelling. She seethes with hatred at anyone who isn't like her. She litters the ground with her signs and other garbage, then returns home. If she goes by car, she listens to NPR. Then it's back to MSNBC when she gets home. She is glued to the TV and believes every insight offered by the on air staff. She goes to bed, outraged and hopeless.\", 'When Jen wakes up in the morning she is already offended by what occurred the previous day or she is looking for something to be offended by today.  She gets out of bed and, instead of showering, slathers herself in patchouli oil and pulls on her hemp clothing and Birkenstocks.  She packs her vegan lunch in her reusable hemp sack with a peace symbol on it and heads off to work as a \"community organizer.\"  During her day at work she loudly and violently protests against those who don\\'t agree with her with the goal of shutting down speech she does not agree with.  On her way home she drives her Toyota Prius past a church and flips the church off.  Once home she eats tofu and tree bark for dinner and marvels at how long, dark and thick the hair on her legs is getting.  After dinner she\\'s sure to catch the Rachel Maddow show so she can be instructed on what to feel offended by the next day.  Later in the evening she blows out her home-made tallow candle and goes to sleep on her gluten-free mattress.    ', \"I hate black people and can't wait until all of the black criminals are taken off of the streets. And those Mexicans too. when they build the border wall it will be so good then we can just make America white again today I'm going to go to City Hall in protest against immigrants\", 'I think Jen cares about the world and the people in it and feels that we are all connected. She believes in equality for all and that it is our responsibility to look out for each other. She recycles and probably works at a non-profit and volunteers at a food pantry, senior home or animal shelter. She just wants to do her part to make the world a better and more fair place for everyone.', 'Jen is probably a working mother.  She begins her day by preparing breakfast for her family, getting the kids ready for school. and tying up a few loose ends.  She goes to work, and puts in a full eight hours.  She comes home, prepares dinner and does some household chores with the help of her husband.  She spends some time with her kids and her husband.  She makes lunches and prepares for the next day.  She ends the day with watching her favorite TV shows and doing some reading.', \"A typical day in Jen's life is she wakes up in the morning. Takes a quick shower but is very hygienic. Goes into her walk in closet picks pairs of shoes and puts on a dress. Goes to work in accounting . Has a fish sandwich lunch by herself to avoid Greg who keeps hitting on her at work but in a timid professional way. She just wants to be herself it makes her nervous to eat fish sandwich . She is studying to become a CPA in the evenings but occasionally exchanges that time for happy hour at a red bricked restaurant with wine and various cheeses.\", 'She gets up and makers her kids breakfast, then she goes to work, comes home cleans up cooks dinner goes to bed and does that day after day after day.']\n"
          ],
          "name": "stdout"
        }
      ]
    },
    {
      "cell_type": "code",
      "metadata": {
        "id": "3pTucTLpfRM1",
        "colab_type": "code",
        "outputId": "18e3fde5-88ac-41c3-f93a-d38d71aaf53e",
        "colab": {
          "base_uri": "https://localhost:8080/",
          "height": 52
        }
      },
      "source": [
        "# Getting Glove vectors for words in shuffled text list\n",
        "%%time\n",
        "text_vectors = []\n",
        "\n",
        "for i in range(len(text)):\n",
        "  output = func.sent2vec(text[i])\n",
        "  text_vectors.append(output)"
      ],
      "execution_count": 29,
      "outputs": [
        {
          "output_type": "stream",
          "text": [
            "CPU times: user 16.8 s, sys: 82 ms, total: 16.9 s\n",
            "Wall time: 17 s\n"
          ],
          "name": "stdout"
        }
      ]
    },
    {
      "cell_type": "code",
      "metadata": {
        "id": "AlqUb7tSqPpT",
        "colab_type": "code",
        "outputId": "e379099a-c29a-4bb4-8460-abf5cc7b591b",
        "colab": {
          "base_uri": "https://localhost:8080/",
          "height": 72
        }
      },
      "source": [
        "# checking the glove vectors look correct\n",
        "print(text_vectors[:10])\n",
        "len(text_vectors)"
      ],
      "execution_count": 30,
      "outputs": [
        {
          "output_type": "stream",
          "text": [
            "[[-0.02870136684668978, 0.2305650842714716, -0.030387953770431606, -0.02569695452058857, 0.013702680441466246, -0.14615431749685245, -0.03096736417236653, -0.10400868071751161, 0.18884901808236132, 2.66088407960805, -0.25022877024655993, 0.1617073181762614, -0.147464118051258, -0.0795118543213572, -0.14931478546879423, 0.13326929726595568, 0.03600486232475801, 0.8191118274222721, -0.053502209124748006, 0.08416027338667349, 0.07114722723649307, -0.24720868112688715, -0.06133252864872867, 0.10540590710429983, 0.15998908995904706, 0.05774618236517364, -0.04701917279850353, -0.05760373073545369, 0.104951272549277, -0.00613621829754927, -0.10034953332929449, -0.09678877178918231, 0.17470568232238293, -0.12227063710716637, 0.29653642870438157, 0.013018472230628091, 0.07995963604612784, -0.003425274213606661, 0.11348490992730315, 0.11851758674972436, 0.06486267774281176, 0.015237726779146627, -0.053082773461937904, -0.021848227151415565, -0.07643536245450377, 0.20500741204754871, -0.06905431969260628, 0.023062365298921413, 0.1420790480915457, -0.1388984112577005, -0.07648618011312051, -0.16953122861344705, 0.13025561631498436, 0.03966976151886312, -0.07455518172884529, -0.0027755021371624685, 0.12996040788394483, 0.047337957123421474, 0.07080889480527151, -0.1196760404008356, -0.01476836475459012, -0.1189296227930754, -0.026434593029658903, -0.09688695435496894, 0.17112751569022128, -0.2017221336083656, -0.11157607359134337, 0.39195436662571, 0.13085650068453766, 0.06057739577425474, -0.06561027230186896, -0.19476864037146283, -0.04280627235262231, -0.14245109175416557, 0.08410536506297914, 0.17723254613916983, 0.2275340005078099, 0.24997999993237582, -0.05829672718589956, 0.18562981994314628, 0.26221167981963267, 0.19158745455470952, -0.050582750742747026, 0.053908236127674834, 0.007631060323381627, 0.0002865777350962162, 0.04014958354475146, -0.006433634002777663, 0.16713673817205496, 0.06335272546857595, -0.048369589388709174, 0.15968750002370638, -0.13363972822712225, -0.21785581687634642, -0.0311151777648113, -0.11644982338078659, 0.020855546505613762, 0.04357193735301156, 0.2043289557438005, 0.07983959006907587, 0.10395713675428521, -0.034376635046845135, -0.02497645535252311, -0.08713990475305101, -0.07055168268694119, -0.6954555944962935, 0.13209428354589778, 0.09664547618012875, 0.05414699890058149, -0.10925304525616494, 0.08267718193713915, -0.1603091795166785, -0.09917931783605706, 0.034898224180902944, 0.08941216049292548, -0.21505849821154366, 0.07854513280009004, 0.09045750004324046, -0.023308568253097208, 0.09783609096087854, 0.12149554169313474, -0.08432313444262202, 0.04724968123165044, -0.050497215071862396, 0.12712904658507218, 0.12217504615810784, -0.04096113797277212, -0.004897495649691502, 0.08393686586482958, 0.03343863852999427, 0.11236771076536653, 0.07794663843444803, 0.019839160154912282, -0.03791407339105552, 0.031282476488162174, -0.09222000605553728, -0.01650368185205893, 0.11129718223078684, 0.09286750167269599, 0.14261945311657406, -1.2607140744274312, -0.1177450128915635, 0.139931815168397, -0.0009800468317487023, -0.14320927147160878, 0.030257179655812004, -0.1066371851166795, -0.04691675567830151, -0.1615962264212695, -0.14409929899424737, -0.1260538439435715, 0.09874157925051721, -0.14075650151988323, -0.012753409418192778, 0.05534131731837988, -0.17196572206872093, 0.11678784430577335, -0.11638584126591343, -0.050846864458766176, -0.4234065377280455, -0.1400295885449106, 0.00956864991563965, -0.007523895167237656, -0.07900804221968759, 0.004376681606200608, 0.025691774081100117, 0.06009645590727979, -0.13649570086801593, 0.1892908632077954, 0.04269206443462859, 0.012907237089662389, -0.011880955404855988, 0.2497267288378101, -0.028925453905354847, -0.03274931983006271, 0.13916309059343554, -0.10488677346570925, 0.061215169854800806, 0.003499409437856891, 0.11768918145786632, 0.15764641016721725, -0.014339283024045553, -0.0931675922633572, 0.14315477225252174, 0.05438113923777233, 0.16809521403840996, -0.19488080631179566, 0.10546395521272313, 0.15641098770058967, -0.13770149885253472, -0.2718553307720206, -0.027583589608019047, -0.19631522792306813, -0.02455034754662351, -0.042874361303719605, 0.062427412549203094, -0.04042390945621512, -0.20062909173694524, 0.21246919353407892, -0.02220184245908802, 0.09122354757379401, -0.0892890644767745, -0.11775545407594605, -0.010294123838486319, 0.008359410546042702, -0.01996064211495898, -0.016886225647547028, -0.12361654317514463, 0.18509749831123787, 0.04837236911143092, -0.23424936936829577, 0.14128118380904198, -0.0699815115367528, -0.13294253083983099, 0.02547623773782768, -0.1156328638846224, 0.14806758984923363, -0.027224495668302883, -0.09602377394383604, 0.13088777153329414, -0.011345294198359956, -0.21939531883055513, -0.11289840851995078, -0.0719540008682419, -0.06235642013581872, 0.18897686526179314, 0.023978365754539318, 0.10701784215317192, 0.008710224731740627, -0.011079673359001225, -0.12331667754121801, -0.12104672268668021, 0.12903909046541562, 0.13540718204934488, 0.01569038577674126, -0.03284221817739308, 0.09509909233417023, -0.01646649989892136, -0.0195359525016763, 0.026904687428296627, -0.30083954554389825, -0.10505975558507172, 0.08172951109538024, 0.15702872757207265, 0.08389795563099059, -0.03791832396316088, -0.29118651570752263, -0.046885956417430534, -0.1184163004271051, -0.06238868087530136, 0.018989181738685478, 0.12550667574925517, -0.014372112102467905, -0.0011823626912452958, 0.2924098199741407, 0.2645233168520711, -0.03565670086324892, -0.2577034573663365, -0.10963348948544907, 0.0955792728134177, 0.1766943600113419, 0.2774179142645814, -0.08218769832852889, 0.044490989996120334, 0.11252986402674155, -0.1455573636022481, -0.2227039066439664, -0.06853309019722721, 0.02908731201155619, 0.014129501725123688, -0.31501559100367804, -0.07876686425879598, -0.12764822501181203, -0.1962460462342609, -0.20631424930285325, -0.10309244466903196, -0.022567219439555298, 0.04670981656421314, 0.006338955495845188, 0.1735429521650076, -0.07383341155946255, 0.031783366067843, -0.22391163185238838, 0.10151236487383192, 0.05369171906601299, -0.11424636366692456, 0.21569068204950204, -0.11098536425693468, -0.22240972764451394, 0.039637818318707024, 0.12635368515144696, -0.06239313962446018, 0.09143191918900068, 0.17355472975495187, 0.06277524906379933, 0.01459718190810897, -0.009684913220222701, -0.20652309043163602, -0.08545270453164862, -0.08431148232722824], [-0.14161106995365855, 0.05998000160119013, -0.19024690046399548, 0.014654524571297668, 0.004348193482448689, 0.056371486828297, 0.04784788603929779, -0.079822216946278, 0.016986428665680977, 2.228563161590431, -0.19442895026523857, 0.003177445081263026, -0.07297238668639071, -0.0019502927456345833, -0.10588627107311747, 0.001528854319778613, -0.0735356026458778, 0.7094638559825813, -0.07212166999808595, 0.05612158037344866, 0.008662957058559302, -0.13159361529853666, 0.01351521208976643, -0.009892684761199016, -0.004480092353010668, 0.08657417306087062, -0.011748081527037334, -0.024431937011666124, 0.066672535484975, -0.14105262004923594, -0.12334203449832394, 0.0828192352046129, -0.029386592816702927, -0.013319651944020504, 0.18918615299213642, -0.016517702224841224, 0.08894808793181105, -0.05486774543238379, -0.07131398786330902, -0.05549499818677955, 0.03047137871337465, 0.0055752348425927795, 0.0028646626344681543, 0.06077396008038681, -0.06381255936148707, -0.016143708928971538, -0.01605303836043311, -0.016469074572330412, -0.05413296232235771, -0.10614068438357945, -0.0832681538304314, 0.024491475140558012, 0.0057327975811881805, -0.05733442658085459, 0.07783640838004177, 0.047996948909344556, -0.04799980652530359, -0.05692058843059489, 0.08635609883437806, -0.01385547422297016, -0.04894355412637461, -0.14939999690904177, -0.023991101103115687, -0.0819856839400386, 0.17857990169874097, -0.12877649234466348, -0.06357230070338855, 0.06945100290217449, 0.085428721967, 0.06870142893226157, -0.07597011888894854, -0.025931723227229298, 0.08456306411189181, -0.04494549450169824, 0.02252787576481417, 0.056846857454061886, 0.04837870257729782, -0.09749389725112462, 0.06735900755679895, 0.16833601275435353, 0.006449749020570771, -0.0037212548497474835, -0.04886424354029984, -0.048179975424928564, -0.043558276525132736, -0.036533936662186836, 0.09831687571080047, -0.024530379702867585, 0.0732680445218671, -0.0013008907148496637, -0.13902372825018403, 0.027488849991549373, -0.0702108894062193, 0.04873023779408511, 0.0050040395146448025, -0.08347127763436565, -0.015448919040610708, -0.056693333758135574, 0.0512993060806884, 0.02119014695540212, 0.07173690274711463, 0.05764404936587509, 0.004499560528540913, -0.07549244218470552, 0.11710115134291633, -1.0222328957877582, -0.035651222449031815, -0.0012787195081716473, -0.09219763260570508, 0.07063641107370015, 0.05571788096434991, -0.08521675869020857, -0.037562866494077245, -0.07582392458674274, 0.05946639311261168, -0.05724646981593363, 0.06739177299468908, -0.049737908046315366, -0.06657191563421223, -0.04781591222338567, 0.04245434155616956, -0.1789322218981489, 0.019532722751079482, -0.019476455754211433, 0.11894093471567464, 0.049733809690592407, -0.008706468463981454, -0.06907947323523768, -0.03785674705920163, -0.05043297337038042, -0.002872841697940721, 0.09803165067458831, -0.14125160949269333, -0.061354427987450284, 0.05924717957578317, -0.011537544334991068, -0.014531157521790341, -0.011315750582968886, 0.12351010343107054, 0.05553761649216655, -1.2551620496979243, -0.056353250618646794, 0.05976212049150675, 0.07430791060286987, -0.05859442522065549, -0.0900687316338284, -0.07710197857209729, -0.0035530133202341914, -0.11395945111761176, -0.0780234298155985, -0.09634003225792069, 0.05259736090356225, -0.10431921876129942, -0.010108135033493178, 0.02987647126428783, 0.04885256709236227, -0.004561945088679278, -0.1263472012979497, -0.04125101864632644, -0.15938018865388218, -0.18942793706266942, 0.040180754488263325, -0.037361300400829627, -0.0003951813825229301, -0.00846688519084614, -0.10111207647036903, -0.020584890760387047, -0.10185238206759095, 0.013924545785294304, 0.038318216329133965, -0.012923979439147854, -0.03418012798610556, 0.10354687999108736, -0.09437042733512913, 0.03948752464184278, 0.025623116363724104, -0.12224052232230388, 0.12305187951490472, -0.054055092738824986, 0.0023246963237282597, 0.10187046686658942, 0.014622929348695812, -0.09202350735593634, -0.005412743126242598, -0.046499045742557775, 0.09929399531558628, -0.08394355555595476, 0.01659505193039209, 0.058305007664934745, -0.05614862538125555, -0.04219851958503891, -0.08078997095315894, -0.0798398074576089, 0.02008569252358962, 0.04308212569124902, 0.030736434856971986, -0.009989241365036821, -0.06744943885316872, 0.08621334386517919, 0.13266593016259656, 0.01738315304340441, 0.057580544224268275, -0.03733897627525833, -0.048174232727836205, -0.017173429019749165, 0.05471105596472073, -0.04702564758024638, 0.006919701660311297, 0.1452524492640897, -0.0365875328926346, -0.14367840251637787, 0.002593346659235562, -0.07360547834777427, -0.04106707806416045, 0.11599253145152633, 0.02772052816846231, 0.004820440306410759, 0.05146625756486496, -0.17073596166918362, -0.06497694611478644, 0.013654487221715441, -0.0226641736181948, -0.015438174805309198, -0.048979600658640265, 0.03423876400253753, -0.04606014295610823, 0.00866716517772101, 0.009318261371949051, -0.05374654336195864, -0.06416811838250937, -0.13229093688858462, -0.02434997338229861, 0.09429102052663323, 0.09007863815921018, 0.03127007593166472, 0.0039233795081300635, 0.06066897718741115, -0.015177440874520217, -0.01850771132998074, 0.12024176277992421, -0.005357562767671822, -0.030053533671152648, 0.05603190722633625, 0.05556147635613769, 0.02592490058176034, -0.047752265523694735, -0.11350385789889135, -0.08677926469782862, -0.12939150201133157, 0.07355454946644133, 0.041400615514928026, 0.053253720962454246, -0.02335163240049836, -0.03876655716360606, -0.04177163332414112, 0.0038613270308020748, 0.024711364921465327, -0.09458290287304545, -0.05016750083717553, 0.03501881206116368, -0.02165661904742776, 0.21521054273891216, 0.014004124965094313, 0.021592802816082404, 0.06651895980371304, -0.01661869659548319, -0.10081383667494276, 0.0600552404228645, 0.20646658254480815, 0.09800608451419239, -0.11796048333688972, 0.013606110449196606, -0.10949459395524633, -0.16785889455482741, -0.03877099510282278, -0.010239113039702555, 0.029670040747976002, 0.08066185369285979, 0.02416648350278788, 0.15325120171602769, -0.01505666224969716, 0.05725364114122489, -0.03246946214356377, -0.005099503777308177, -0.0379974867682904, 0.015370758348350897, 0.06377302594718677, -0.08260026291836882, 0.001240669328224244, 0.05085326293837043, -0.0267976026678505, -0.04431703311827364, 0.03024551553115296, -0.039782095361571713, 0.046181189640472305, 0.1004388918687554, -0.00875530676485947, -0.03562495150954074, -0.028844164545895366, 0.002194231570568643], [-0.2825687975622714, 0.12976760175079108, 0.06833699867129325, -0.05784147058147937, -0.06964810127392411, 0.10686610564589501, -0.04597062165848911, -0.29418560229241847, 0.020519343903288245, 2.2937149606645106, -0.47786530777812003, 0.12192599959671498, 0.02955299839377403, 0.027759796753525735, -0.14871580004692078, -0.051616291853133586, -0.06177445172797889, 1.1679409846663475, -0.042080200463533404, 0.19984399974346162, 0.03169081587984692, -0.050061658292543144, -0.06149739921092987, -0.08299634326249361, 0.009067899733781814, -0.044948503747582434, -0.046030398830771445, -0.07909016059711575, 0.04239150360226631, -0.15028099669143558, -0.13691929951310158, -0.12481640204787255, 0.24738480411469937, -0.03298577019013464, 0.09394380375742913, 0.09494420029222965, 0.024152396991848946, -0.1332698989659548, -0.008687297813594341, -0.045883079338818786, 0.19459613966755568, 0.10589500106871128, -0.07197047066874802, -0.1922307993285358, -0.01321839727461338, -0.06415959857404233, 0.05588210350833833, -0.014500399492681027, 0.15188529901206493, 0.10860799700021743, -0.03515799902379513, -0.04760689754039049, -0.013411201536655426, -0.023679297789931296, -0.07877950239926576, -0.048108001798391344, 0.009976298548281193, -0.1444160987623036, 0.0202690988779068, -0.17886339854449035, -0.04945560209453106, -0.23382780272513629, -0.1113472790690139, 0.07779520321637393, 0.24112032102420927, -0.18692840114235879, -0.035601597279310226, 0.25621779188513755, 0.10655800215899944, 0.06243139803409577, -0.164619798399508, 0.08169399872422219, -0.20211259946227073, -0.14988370053470135, 0.10233326756861061, 0.26522275106981397, 0.015442801639437675, -0.06770730279386043, 0.044167397916316985, 0.016805601492524146, 0.1297590472153388, 0.20608040355145932, -0.06461882956791669, -0.05413929931819439, 0.0008578103501349687, -0.1732011992484331, 0.2434164971113205, -0.049301300570368765, 0.2592650979757309, -0.07342039905488491, -0.1596832036972046, 0.06465730182826519, -0.16408840166404842, -0.1418842606479302, 0.15978869907557963, -0.04559530057013035, -0.031979300826787946, -0.06856578942388296, 0.03295539850369096, -0.04703390598297119, -0.1433899000287056, -0.06851570028811693, -0.06053915189550026, 0.09682000055909157, 0.05614833466242999, -1.0936940252780913, 0.02098190039396286, -0.09122909978032112, -0.07523419968783855, 0.047288897633552554, 0.019161201268434524, 0.026679998636245726, -0.04837260246276855, -0.047763300314545634, 0.1485645968466997, -0.10841879807412624, 0.010065801069140434, 0.05507589690387249, 0.065328505076468, 0.14672189801931382, 0.03188880104571581, 0.011122429184615612, 0.05222229957580567, -0.12795600220561026, -0.05830390211194754, -0.056524697504937646, 0.10340942302718759, -0.048621274530887604, 0.05362129770219326, -0.04468237017281353, -0.002112000621855259, -0.10914674396626652, -0.03767063659906853, -0.07437089756131172, 0.04196790382266045, -0.05183150228112936, -0.10165540277957916, 0.08750170022249222, -0.015214402601122856, 0.018429900892078875, -0.9619729787111282, 0.11810574838891626, 0.20983035720419138, -0.050530698895454404, -0.2062480677384883, -0.20750760100781918, -0.10837850198149682, 0.1222512001171708, -0.09698239918798209, -0.03775879666209221, -0.1741899985820055, 0.03100230097770691, -0.10535979866981507, 0.0006483037024736405, 0.20580619992688298, 0.004316001385450363, 0.13975125832948834, -0.09712319849058985, 0.06916141309775412, 0.04695957936346531, 0.19405859913676976, 0.049131858604960145, 0.01762789934873581, -0.010415996611118316, -0.18692689817398786, -0.054256612062454225, 0.11538689900189639, -0.22625223128125072, 0.15972910150885583, 0.1113821992650628, -0.102794299274683, -0.12871619798243045, -0.08707680590450764, 0.12100379541516304, 0.02909049205482006, 0.15624499917030335, -0.21610560044646263, 0.08101890273392201, 0.14564019851386548, 0.16032830653712155, 0.04360090410336852, -0.05877050086855888, -0.2962987028062344, -0.12504219496622682, 0.0045927979052066805, 0.020321599394083022, -0.17178169786930084, -0.004665100574493408, -0.15651500076055527, -0.18105379901826382, -0.09307780172675847, -0.03098769560456276, -0.07032990008592606, -0.13608780056238173, 0.10074610132724046, 0.16260579880326986, 0.08302500173449516, -0.0030464991927146912, 0.043732700496912004, -0.08832889993209392, 0.07585400138050317, -0.10173390209674835, 0.11820430019870401, -0.028637797012925147, 0.05888460464775562, -0.03155310079455376, -0.05837319049751386, 0.10724560208618641, 0.11013979911804199, 0.14687559781596066, 0.1353972002863884, -0.010522300004959106, -0.1542486995458603, -0.030399448610842227, 0.037623199820518496, -0.022691001184284687, -0.11503167920745909, -0.024405299965292216, -0.19627069886773824, 0.019551401399075984, -0.061998994648456575, -0.02186009883880615, 0.007435398548841477, 0.09241309463977813, 0.0852191400132142, 0.012437979551032185, 0.16800302923657, 0.04841820946894586, -0.01506947223097086, -0.03451849967241287, -0.027295003831386565, -0.09546653106808663, 0.08931449176743626, -0.056605700962245466, -0.0035602989461040123, -0.09507581217912957, 0.019790701940655707, -0.03504818975925446, 0.10495040034875273, -0.010890902951359749, -0.14911429919302463, 0.05858740042895079, 0.11463019894436002, 0.15090150237083436, 0.06539940135553479, -0.14411939755082132, 0.14915809258818627, -0.0383291007950902, -0.11329480167478323, -0.10944299623370171, 0.15918910093605518, 0.1719209011644125, -0.10023209899663925, -0.1508539480390027, 0.09925229838117958, 0.22693499252200128, -0.1590561969205737, -0.11049022851511836, -0.1543092042207718, 0.10569799393415451, -0.11141457774210721, 0.2014965048059821, -0.18025519996881484, 0.0843581970781088, -0.19993309620767832, 0.017684099823236467, -0.02446548903826624, 0.10924640633165836, 0.1724878067150712, 0.02623840104788542, -0.11335000321269036, 0.020262102596461773, -0.1178070603404194, -0.16507329866290094, -0.07738950476050377, 0.1344648042693734, 0.019649500399827956, 0.08587690275162459, 0.12698229737579822, 0.14965950101613998, 0.12835925368126483, 0.09610933260992169, -0.0030716008506715296, 0.05648700147867203, 0.07149130012840033, -0.03289167687762529, 0.08527634157799184, -0.018416901119053364, -0.12987589985132217, -0.018104999512434005, -0.03505200147628784, 0.11456460058689118, 0.01226310059428215, 0.06817889995872975, 0.18504050076007844, 0.01778099611401558, 0.035398932988755405, -0.21403299123048783, -0.016096900403499603, 0.1045464001595974], [-0.05391507622682386, 0.19125875350501803, -0.11194011299974388, 0.10063634667442077, -0.03345029993603627, -0.03327466828955544, -0.03134948967231645, -0.12490493088132805, 0.026271661433080833, 1.9960709013872677, -0.06475558119515577, -0.04369754529454642, -0.1595616449912389, -0.09469811495186554, -0.30641085892501807, 0.0475523275995834, -0.058271319853762785, 0.4737795404262013, -0.039274040200851026, 0.05438999980688095, -0.03503835702108012, 0.07672824367052979, 0.13276917652951348, -0.13177100418704665, 0.14551955767803723, -0.011998146345528463, -0.10437509052248464, -0.047490355183577374, -0.04870620227108399, -0.12933333060807653, -0.0797689129701919, 0.03273724574181769, -0.11745755552417703, 0.06836329011453522, 0.10843492107556409, 0.06261446423725121, -0.03926034359804665, 0.08445829004049302, -0.003326965966779325, -0.015877675756605134, 0.10268337368033827, -0.04277933517263995, 0.05587311134570175, 0.01570325828053885, -0.03085104467140304, 0.07968598232708043, -0.15979172798494498, -0.028646289231255652, -0.14241401297557685, 0.047336507050527464, -0.012809264038999875, -0.055074917287048365, -0.0007993965500241352, 0.006142149989803632, -0.09405907737091183, -0.011387097814844715, 0.00035975623048014113, -0.03981222331834336, -0.058463062853035, -0.08615808258247044, -0.048958467857705225, 0.09909961006293694, -0.08305400085713094, -0.07143242234985034, 0.10629298071273499, -0.10677546519372198, -0.03256939991066853, -0.01702937628659937, -0.053253500246339375, 0.08794173646149123, -0.09100451047221819, -0.14400406637125546, 0.2343220986943278, -0.12037764524834024, -0.0468937749043107, 0.06546042008946339, 0.03411811070723666, -0.049475999052325886, 0.061061100185745294, 0.13019859568319386, -0.05881620140539275, 0.07012906885809368, -0.08623075615614653, -0.07740986543261291, 0.06117913377367788, -0.10177288152691391, 0.25856071473616693, -0.12065015230327844, 0.211460941305591, -0.007408616008857886, -0.0861352230525679, 0.07960186622933381, -0.05874574195800556, -0.11441430937912729, 0.03610734800911612, -0.12978011291060182, -0.19883925163497526, 0.10270579929153124, 0.1108345547484027, -0.08670653553886545, 0.025713132539143164, 0.007613911459015475, -0.00835972230674492, -0.03506400018878695, 0.02620430179975099, -0.8206771551734872, -0.0003252414158648915, 0.03373002095354928, -0.037143538819832934, 0.03207628890458081, -0.05682211129201783, -0.06576162367645237, 0.05046544298529625, -0.01029042104880015, 0.035548679385748176, 0.049620835131241214, -0.015010901456440075, 0.0037719120905320676, 0.09940295435695184, -0.030142220730582873, -0.03505118648625082, -0.09715546553294795, 0.014986905910902553, -0.08082304594831334, 0.020657334083484278, -0.06105682156566117, 0.025839837961312798, 0.08225764174842172, -0.04791474892861313, -0.13637797749704786, -0.05122287828061316, -0.02714564667807685, 0.010211672856368953, -0.0845399532881048, -0.04114161603566673, -0.004269564286288288, -0.19006584901362658, 0.025199886680477197, -0.011022055971746643, -0.0623573986813426, -1.3705337280200587, 0.0066963045806106595, 0.1421705147329097, -0.04145663687959313, -0.05357646428876453, 0.0640608685505059, -0.12638417745216024, 0.025048889095584552, -0.04262548900312847, -0.05750561581096715, 0.01904453348575367, 0.027751425430566693, 0.07704720956583817, 0.02850660147766272, 0.012655177836616833, -0.13418168895360497, 0.15512617285777297, -0.09790762269662487, -0.05142088430519733, -0.029594622236779996, -0.01191074690885014, -0.012622104508207284, -0.052240844464136495, 0.0563982462303506, 0.09512266725715664, -0.09547757845785883, -0.0776376463058922, 0.030039867666897004, -0.05088834138587117, -0.15644505318875115, -0.10746673903324538, -0.029734042297220892, -0.09944333295441336, -0.041305467238028845, 0.04159920211467478, 0.07862126887258557, -0.022646331994069947, 0.1612817098076145, -0.07103260309021506, 0.07729382190025515, 0.023000833489156016, -0.0880223915951016, -0.043470357130799026, 0.1019838353437889, 0.047843134010003674, 0.053644625980006015, 0.052571705915033816, -0.09616891934743357, 0.08562957988017135, -0.06722851118279828, -0.024269132626553377, -0.056606090379258, -0.047521508981784186, -0.004147529749510189, 0.010157958371564746, 0.08099391220344437, 0.03226632210611974, -0.006859488723178705, 0.017923656416436038, -0.0538153327587578, -0.06597318589273427, 0.051125752439515455, -0.04693893148667282, -0.02383193199833234, 0.010287256034401556, -0.05750876983834637, 0.057662734223736654, -0.06474395499875148, 0.16415841020773062, -0.046771125516129865, -0.13950142280922995, -0.057904683301846185, 0.07944548806861146, 0.09302108355073466, 0.03281842990674906, 0.004360555795331796, 0.039582653405765694, -0.04170097209927109, -0.16234480250212882, -0.08548597780366739, 0.002025376239584552, -0.0639012993261632, 0.0012476975356953011, 0.039261755678388806, -0.018497898688332903, 0.06256337568370832, 0.05684788872798284, -0.002521253610029817, 0.008702701444013252, 0.03952477106876257, -0.017150394670251343, 0.030338360781833114, 0.1672551309482919, 0.05353588012771474, 0.02858311479083366, -0.1598554416663117, 0.1912965138960216, -0.11512686047289107, 0.018102509282632833, 0.16124151301466758, -0.017154273266593616, 0.016960954169432323, -0.05433594760381513, -0.09985375358826584, 0.03943441554697023, -0.03315659827656216, -0.06871443684730265, -0.09789964746062954, -0.00990586057224492, 0.02683508884575632, -0.05558324464493328, -0.02132724282435245, 0.0854721412062645, -0.08813912702931298, 0.038459163993967295, 0.04317210464634829, 0.006838194363647037, -0.1065202594243197, -0.060046085734696435, -0.023414643853902815, 0.029634784369005098, 0.0719239104539156, -0.0023516403769867286, -0.1315807401926981, 0.2068307328141398, 0.001187198435784214, -0.07662152538283004, -0.05834814826149442, 0.03593450855049822, 0.22405740146835645, -0.07428990118464249, 0.03401240626763966, 0.008206828882814281, 0.019157264629999796, 0.06336471190055211, -0.03263066317886114, 0.021098466051949396, -0.0022918341163959766, -0.02130470059799134, 0.08865064798543851, 0.061159787554707794, -0.0481969443977707, -0.08567354552861717, 0.021231535842849147, -0.008587488821811146, 0.17465584319498803, 0.12376237875885433, -0.006845859070825908, -0.022460342128761114, 0.09342167696191205, -0.04638226657278008, -0.061196178839438495, 0.07143205509831509, 0.003845930239185691, 0.010349985455266303, 0.017086068768468167, 0.007558869327315026, -0.0041559318494465616, -0.06772617538356118, 0.034780493399335276], [-0.04033145307976691, 0.03001690734287395, -0.11745982708217685, -0.0006758424073375543, 0.0010962836225243177, 0.07661746361443554, -0.013935201198739164, -0.10498239186537617, 0.004457408378777258, 1.8787330500343267, -0.09613999854225447, -0.010088297554894406, -0.04952206071466207, -0.10852188482129028, -0.14456716667970312, -0.07209929128944435, -0.056588318564942765, 0.7859025780768956, -0.06690540607361233, 0.06463289654758923, -0.05275440086638007, 0.08311271899215439, 0.046155495547196446, 0.0010243070120101467, 0.002729141098611495, 0.04368563995641821, -0.04900805213872124, -0.043330295537324516, -0.021776479356648292, -0.16875633401248386, -0.06821974691256935, 0.08347669741248383, -0.12076244665556313, -0.03943133906218196, 0.20230712221955935, 0.005031551785000107, 0.022973343609106342, -0.03325409843305619, -0.02156595619778861, 0.08835014451349921, 0.03378514011993128, -0.03335966900922358, -0.004090965911746025, 0.02735196997904602, 0.052163072790512265, 0.17737798630259932, -0.15720822006902274, -0.035476642367703946, -0.010108582730240682, -0.035757212075130905, -0.04421755550977062, -0.005144859612097635, 0.04463856374255984, 0.020254018070066677, 0.019468579608399202, -0.06009598490645123, -0.0205687530886601, -0.04940952621468836, 0.014518843002288657, -0.10699417298139237, -4.836094620473244e-05, -0.07677440927090014, 0.01592258150305818, -0.0016941981253159398, 0.08464016576900202, -0.2907723033814417, -0.03745126907100819, 0.07511759617311113, 0.024241486416362663, 0.095418539276237, -0.08975995497449356, -0.019990811270990356, 0.18139960034476482, -0.07090620693805463, 0.10488055421258596, 0.09799653049010565, 0.043572388145634355, 0.017953325603979036, -0.09196103276575313, 0.012045611513723783, 0.02048357532304876, 0.11009422393433531, -0.05442715844906428, -0.04978117336406071, -0.02787321810336674, -0.14545950158002705, 0.4683664087233517, 0.11236377090544385, 0.18029711767483284, 0.12764919366523186, -0.01552146019633202, 0.056520104324719045, -0.014261057523681836, -0.04739890753236763, -0.042457106649218236, 0.00965913087814389, -0.0322852457051768, -0.007244805368485258, 0.13456666351241223, -0.04189370522713837, 0.047974471757376756, 0.019415737900828175, 0.04402086432913647, -0.08414535754675265, -0.015447285624823589, -0.8625766373732511, 0.11802057257257675, 0.019781533376697233, -0.021229964550858474, -0.01409990754974013, 0.11841726331451141, -0.17175917787039105, -0.02095227587475058, -0.023111547200995335, 0.018871737079804433, -0.03660124394878307, 0.013229032474405626, 0.04546384945621385, -0.017152398282333333, 0.04363691583275795, 0.03539818623924956, -0.02865457374821691, 0.03385159911259132, 0.030543488457196337, 0.026835170640226672, -0.015999682203811757, 0.05332125150872504, -0.06994363915394335, 0.07310692982145531, -0.013771213076132185, -0.01726299956002656, -0.13782919750494116, -0.10005334431360312, 0.03773682068704682, -0.08637153961257461, -0.09068197139867526, 0.05033411443890894, 0.07866949401795864, -0.005373440545928829, -0.013015022402738824, -1.5333740609615822, 0.044293828681111334, 0.1463067801189883, 0.010604449432781514, -0.012305906315005439, 0.004310483836075839, -0.1839392541524242, 0.04105783546453013, -0.10073298497454208, -0.06280309231267037, 0.02695711980238283, 0.09795785916640479, 0.019832773983259413, 0.005292056486702196, -0.07682633379693417, -0.047454298350631315, 0.1329396817175781, -0.12787198661004795, -6.46749634624404e-05, 0.002554247580359087, -0.09772610596435911, 0.017905908502528774, -0.1256865989738692, 0.03302558105000678, 0.04631339239833109, -0.1112605756833492, 0.03609331670655486, 0.03482244582298924, -0.0024263292770175375, -0.03438785563990036, -0.014429098307428992, -0.0018433639629031806, -0.03374810311909053, -0.041252132140866975, -0.15453847973497914, 0.032031243316390935, 0.07506472654092838, 0.05374605375451638, -0.04184068470974179, -0.024122976248755174, -0.014731406960773337, -0.14359124175765936, -0.0903616584947004, 0.016778624627520056, 0.06672139086705797, 0.044914845618255, 0.011169457830050413, -0.054721048824927385, 0.14240331546239116, 0.07196009795674506, -0.093805241557386, 0.023462541905396126, -0.053582304781850644, -0.012540391290231663, 0.06247826825334307, 0.07038712545352824, 0.04637409563669387, -0.023463361570611595, -0.01139385041725986, 0.020471186070319485, -0.06813517748652136, 0.05276114522780785, -0.03771777086179046, -0.02959116497898803, 0.10424857679754496, 0.07320631610722665, -0.03115304095451446, -0.06662869416177272, 0.07223275413408, -0.03312138355994487, -0.1221702635045136, 0.02759424967910437, 0.023073165003306178, -0.003297918887041947, 0.009936119079151574, 0.018147069675957455, 0.03450423454427544, -0.10193863362073899, -0.19296334945898064, -0.07613648248507696, -0.052413203096126806, -0.03723849636666915, -0.07409930219052031, 0.05054879704599871, -0.035710238470860266, 0.05473836148157716, -0.00908194939222406, 0.0008033268290626652, -0.06888317583019242, 0.11787510933628416, 0.009312495731693857, -0.04435283078962718, 0.04818582284428617, 0.07178781126790187, 0.05168981547193492, -0.09506897821419817, 0.031136990700136213, -0.10491759917315314, -0.020537232541862654, 0.04528058039243607, -0.08947787210345268, -0.050341092593118766, -0.07160718953784774, 0.0483685862930382, 0.03201901525094667, 0.01976525555638706, -0.04554819220074398, -0.13243164820596576, -0.05055252473000163, 0.06822361390599434, -0.0806994173086851, -0.007947757648413671, -0.06044213607332066, -0.03785809419830056, 0.04517439994413187, 0.1961959295303506, 0.05817103411673623, -0.04536611130461097, -0.027802423702087253, 0.12459559152450632, 0.06530586960451568, 0.03501008390722906, 0.02551910832305165, -0.022136126381947712, 0.09217602344339385, 0.08164648010176333, -0.08742040134966374, -0.06795838649987299, -0.14079113768632798, 0.09814105009221856, -0.08804691979552016, 0.024811259799582118, -0.06002913148087614, -0.003200800673050039, -0.0660583528525689, 0.045730491678285246, 0.043229281010708824, 0.0850815126672387, 0.035016034234082755, 0.24950847110765823, 0.031680391895968246, -0.0543147941263776, -0.009279335158712723, -0.022078084028052055, -0.05715409401420723, 0.14916868288042573, 0.15403467793127193, -0.012402742038316586, 0.04117585806285634, 0.04136409491081448, 0.005039547408437904, 0.033629290751345894, 0.06514389639179331, -0.10919103660511181, -0.11620930775123484, 0.029565604596727472, 0.03126955612696132, -0.02293986617861425, 0.0060210450264789606, -0.0075900332454372854], [-0.0948129543768508, 0.009381809227523349, -0.12338818884676411, -0.1915993800475484, 0.11059738039260819, -0.07171228696547803, -0.10961260402663833, 0.09334208573480803, -0.07190341843912999, 2.2371390774136497, -0.2439148598128841, -0.11027223900670097, -0.005850239612516903, -0.12900195615310667, -0.2121228265487367, 0.0828522869518825, -0.08978290607531865, 0.9138153802958273, -0.008516080832729736, -0.12201533980468023, 0.08392949650684993, -0.052648859054204966, 0.294296784060342, 0.04869964947214439, -0.07877273471759898, -0.15332895339954467, -0.1422189012879417, -0.0721286235022403, -0.10521542972752027, 0.06742585383887802, 0.13712628846544594, 0.14203714446297713, -0.1190350742877594, -0.18382728711834975, 0.08108842789772011, -0.06989219252552305, 0.005108181741975602, -0.06292509819780077, -0.010733980264159896, 0.10278078558899108, 0.005900614706444598, 0.04540856672628295, 0.03250104472750709, -0.14143464962641397, 0.024451862797529127, -0.11317573997768618, 0.02704124010744549, -0.06816852185875177, -0.046507000302275024, -0.034291389220882026, -0.3598719040552775, 0.16037775886555514, -0.09041767088430268, -0.07911957055330276, 0.12094995193183422, 0.16070148668118886, 0.026498190393405303, -0.023967742520783628, -0.12964852659830026, -0.00295781104692391, -0.16362383283142531, -0.11620447429872695, -0.03004733614978336, 0.08849442643778664, 0.09194429810824138, -0.019987501714023807, -0.12386415384355046, 0.09420931478407943, 0.07869831060746774, 0.17265550026093565, -0.044599128232914065, 0.029436550790532715, 0.186044728582991, -0.06259223676863171, 0.23955085341419494, -0.11258661942113013, -0.04114947703090452, -0.021017141784319564, 0.081467286107086, 0.20867780680280357, 0.00936704705513659, 0.03178042776527859, 0.07916371453376043, -0.11344274860623825, 0.020197689267141477, 0.03493190308411916, 0.27095149552804376, -0.13358509868738197, 0.10753385669418744, 0.006020953346576009, -0.0927356783344987, 0.028915533640732367, 0.07027138166484379, -0.14611114069287265, 0.14692150943336033, -0.11082985677889415, -0.04215271318597453, 0.1437720423120828, 0.14659695149887175, -0.07361531199976093, 0.15233609701196352, 0.04422821514197581, 0.06923366258186954, -0.0655573783885865, 0.12894781009249745, -0.9066523781844548, -0.04155193930048318, -0.09861055626312182, 0.00610547996170464, 0.1410965241846584, -0.03787549963176605, -0.22187524076019013, 0.06744028521435601, -0.055381019364133297, 0.13341861936662877, 0.12197599981334947, 0.05055647689316954, -0.05042671359011105, -0.244397805826295, -0.07483877161783832, -0.09622361901260558, 0.0033883403562608044, -0.02814761602452823, -0.12292145800754606, 0.09001422282086596, 0.05823138311860107, 0.27985656829107375, -0.08548995275937375, 0.01583209376604784, -0.06460748098435856, -0.07095820443438632, 0.07598211793672471, -0.09846899880185014, 0.033138246674622805, 0.05077480176641118, -0.11306633268083845, -0.0018495434806460426, -0.06796751978496711, -0.10683537984178179, -0.05418209527574834, -1.700299240560049, -0.031138249495554538, 0.2197652791094567, -0.04235957163785185, 0.04946519416712579, 0.0638566257299057, 0.027261953712219282, 0.06525471345299766, -0.07166023605636188, -0.028029857203364372, -0.05254561941893328, 0.05043837889319375, 0.004989220550106395, -0.047106514002994766, -0.008448346154875167, -0.013345364880348955, -0.017727949434802645, -0.11807919067463704, -0.010458230040967464, 0.04254874937413704, 0.022614286769004094, 0.005488907120057515, -0.12469717410082619, 0.2609320010635115, 0.0542333642176042, -0.09090873643401123, 0.014862809152830215, -0.21288683660150992, 0.08496850023844413, 0.0368869437481321, 0.05306187732189539, 0.016864716385801632, -0.1924425582068839, 0.10480323646749769, 0.050337876326271465, 0.10675250131282069, -0.2753629997550022, 0.09634799891639323, 0.24311942580555165, -0.029209666841086886, -0.029130096015121256, 0.1647667664413651, -0.23628158073517538, -0.1309342404738778, 0.05151862030227979, 0.1501099487234439, -0.0997175710896651, -0.07454795470195157, 0.20185419792930284, 0.09797314771761496, 0.022540332394696418, -0.06319025281949767, -0.07315743373086055, -0.15513286061052764, 0.16831298247866688, 0.12705628556155024, 0.07230281173473313, 0.003913093846113909, -0.046806598791763895, 0.05217423788937075, 0.21197229182525051, 0.03008600076039632, 0.1371342855549994, -0.1173860967336666, 0.28871552486504826, -0.13123232605201857, 0.07436704875103065, -0.0886452675719435, 0.05229227983259729, 0.05526218159745137, 0.03135952619569642, 0.027256012406377567, 0.02824061115582784, 0.18661096253033196, 0.14606466614419505, -0.05499938063855682, -0.10823447381456693, -0.026816381762425106, 0.02683757050406365, 0.023008287307761964, -0.11395790946802922, -0.04141694976992551, -0.1628077587478661, 0.015684286575941814, -0.06512899135815955, -0.05372314288147858, 0.017582723937396492, 0.07131176087118331, -0.06717156955883616, 0.033316334088643394, -0.04080830225055771, 0.1127828403509089, 0.12736330642586663, 0.09722157000076204, 0.15185328741513549, 0.030947235900731312, 0.1451676202317079, -0.09653009589584101, 0.2887018085235641, 0.14669294902566998, -0.022070125410599366, 0.0944104293982188, -0.025095094172727494, -0.05992046624444248, 0.0075986200633148355, 0.12125678042260309, 0.0009933652001477423, -0.07998385608551048, -0.19020423922865165, 0.005243196063453243, -0.14494021274592905, 0.16156419652647205, 0.08435199844340484, -0.021122968356524194, -0.03652576290603195, 0.22606838388102396, -0.032926042652910666, -0.08314197221105653, -0.2102352377204668, 0.03067390833582197, 0.09280561921851975, 0.257377240806818, -0.08363338959004198, 0.10002766602805682, -0.06814906455110759, -0.19628509745511802, 0.03661195348416056, -0.12968752391281582, -0.08289142485175814, 0.267558472009287, -0.2047591447120621, -0.10893909646464246, -0.12024400081662905, -0.14938654187357142, 0.09128185632150798, -0.032754516905351055, -0.030382476126154263, 0.07070176491868638, -0.08906725787424616, 0.05150236233714081, 0.07437257082451001, 0.04379286317686949, -0.15366466786889804, 0.10591114312410355, -0.1400850227912001, 0.03075742730427356, 0.23411014392262414, 0.11445761888864495, -0.03528790517399708, -0.10386195326490062, -0.32093485564525637, -0.13215695263906604, 0.03114604346808933, -0.25176066860911395, -0.11161371373704501, 0.15005704671854064, 0.00400971399531478, 0.034455856308341026, -0.14649323728822528, 0.2460393806298574], [-0.16209823628222303, 0.10157395859381982, -0.0482028942289097, -0.005641286394425801, -0.02745659986144996, -0.002810248772480658, 0.0592948231580002, 0.011353184302736605, 0.009472696376698357, 2.419846422970295, -0.31786109589821926, -0.07897499211997326, -0.10171114234253764, -0.021422766719686997, -0.14019110818792666, -0.022087185651928718, -0.09225315942395744, 0.9232575693832976, -0.11018703811402832, 0.17092445506049053, 0.0019145718823503038, 0.037170858188931434, 0.12789433948429568, -0.011384116618760995, 0.12483567664665836, 0.04978024786604302, 0.010358273816694106, -0.07225043966484788, 0.031046322147761072, -0.054530428389885595, -0.08809069928247482, -0.03365392836609057, -0.012173162124651884, -0.024869767574792995, 0.18339277012585495, 0.034691786260477135, 0.042398391890206506, -0.1077778123601872, -0.06844503618776798, -0.00949785445949861, 0.029533546368059303, 0.09239889235634889, 0.04646854194080723, 0.007758057106652164, -0.02299476761670251, -0.017767750658094883, -0.09956869453058712, 0.014768928455721055, -0.007241501107013651, 0.07465765611518041, -0.053022499063185284, -0.027426461722435697, 0.004906284689371075, -0.042012446493442566, 0.1196875014741506, -0.08676220830862544, 0.012551758737702454, -0.10035203716584615, 0.09110235436154264, 0.04598535710413541, -0.029846886971167157, -0.1815734286127346, -0.04100082549432825, 0.018899858263986453, 0.08314696386722582, -0.21109321434050798, -0.027291999464588507, 0.054646458044382076, 0.0727386064494827, -0.05345145020484259, -0.028731367234805866, 0.053181332340630307, 0.13378371314943902, -0.06810810829379729, -0.0011277867930143007, 0.1759234145283699, 0.027060214297047684, -0.056189881022354324, 0.17669414186717144, 0.17227764108351298, 0.08075657061168126, 0.09849174992580499, -0.011965131919298853, -0.06072870230335476, -0.0867012891352975, -0.14741407175149238, -0.02902421122416854, 0.06469239474141172, 0.176059391216508, -0.09872246593503016, -0.08026248397904315, 0.03334457952379515, -0.14278156069173878, -0.12994521583563515, 0.022405404901032204, -0.0765099217117365, -0.04073182387011392, -0.08240967218963695, 0.09395222442357667, 0.08203317921808255, 0.005740498724792685, 0.061733712774834464, -0.02793381848771657, -0.007418356353550085, 0.022447187478454516, -1.0306042964969362, 0.028735677387365804, 0.032295401100002764, -0.15278528185029114, 0.012511914695746132, 0.16255692705245955, -0.083781964478216, -0.04102253960445523, -0.14651767736566917, 0.05921657024217503, 0.059481637618903606, 0.0005533150314087314, -0.02518282098961728, 0.02222446182609669, -0.08726155488485736, 0.043602965373013704, -0.09723992832005024, 0.11925364892730224, -0.07101039229226964, 0.1419421789635505, -0.02017624756055219, 0.12402477721583896, -0.1451339250696557, 0.016300748867381896, -0.09320721529158098, -0.0068028642136986105, 0.0417658904833453, -0.05863858080036672, -0.07891071484690267, 0.023418820463120937, 0.03329363846985091, -0.0863175238898423, -0.13027407222294382, 0.05656371676429574, 0.05407924870295184, -1.231963433857475, -0.020421440605007644, 0.1879910349795994, 0.1879781405441463, -0.013078142489705766, -0.2035018129972741, -0.13476886114637768, 0.12060575233772397, -0.21531358677228646, -0.06653402910368252, -0.04737814369478396, -0.014419357092784984, 0.015877106792426536, 0.03487142511793146, 0.020656286339674677, -0.013399211417501127, -0.01585017896390387, -0.12218857330403157, -0.13101521259938767, -0.05749534865442131, 0.0160857509222946, 0.13102384243393317, -0.056975822030965774, 0.0053202130698731965, 0.05345952709155556, -0.07553671805986337, 0.10758199110361082, -0.15365261074787537, 0.0340211427704032, 0.023879462919597114, 0.011836341582238674, -0.05659124621057084, 0.10378620683747743, -0.0972251894085535, 0.041858355747535825, 0.21693603714395845, -0.08141564245202712, 0.18857109459349886, -0.06569348668978948, 0.10209043476996678, 0.16083564130323275, -0.04233538230515218, -0.09747460820446056, -0.059985270798538944, 0.04080466969337847, 0.02350903714873961, 0.03620652332236724, -0.048673179000616074, 0.116691375400738, -0.0665076024431203, -0.14587589483042912, 0.002843886218865269, -0.05674996617017314, -0.030041447641061887, 0.011119956765989107, 0.10145821562036872, -0.043759927419679504, -0.13351235216084337, 0.18725887306832842, 0.08868174927608509, 0.07874589270379927, 0.03971828538591841, -0.0050191069354436225, -0.09221057168075017, 0.08021703552055572, 0.07472386690954279, -0.013432661549554073, 0.002662206035373466, 0.14908285573723593, -0.1237265370852713, -0.12923432301197732, -0.049240280874073505, 0.003490999008395842, -0.036280906260279674, 0.11285650114794928, 0.03579164166668696, 0.08335971942869946, -0.06548216839187912, -0.19696921229894673, -0.051549678502072184, -0.04326735769531557, 0.08370542689226568, -0.029095296868555515, -0.013933928849707757, 0.07166328676976264, 0.010569839139602013, 0.013060344915304865, 0.07797146699990012, -0.15699967781880073, -0.08982135568346296, -0.16952676058281213, -0.0893913432082627, 0.041031360210451694, 0.034970089922093654, 0.13589496351778507, -0.014666569884866476, 0.08912699791004083, -0.12440057178693158, -0.026964784732886722, 0.03960618147227381, -0.06635613774415106, -0.01556664179744465, 0.02469264356685536, 0.13929646309199079, 0.05967707290048046, -0.056261248753539154, -0.015490832173132471, -0.11905225299830947, -0.21641322258593781, 0.08974728586950473, 0.13635474875835435, -0.03114200010895729, -0.1033879795203185, -0.05928894661233893, -0.013917319077466215, 0.10000703932850488, 0.07960041381219136, 0.04575055940741939, -0.012870677281171083, 0.0017911087987678392, -0.0255758366505948, 0.15700067626312375, -0.018388296920940257, 0.1115805578218507, 0.035300429311714, -0.13257873115695215, -0.07898621166324508, -0.137595712606396, 0.17883003363385797, 0.1603949655379568, -0.1848790591715702, -0.03777359928270536, -0.09380059992378977, -0.08287911196904522, -0.08413906525155264, -0.012066858221909829, 0.0909677135891148, 0.1030493582532342, 0.019116283793534552, 0.11672718210944108, -0.02744607101859791, 0.018315474070342525, -0.06656489135431391, 0.08042575575538129, -0.08335462126082607, -0.03699307203558939, 0.07695471009771739, -0.06011709338054061, -0.051576316223612854, 0.021633448361951326, -0.16387536004185677, 0.01605743033412312, 0.014256571186706424, -0.029444138120327677, 0.0021044311246701647, 0.05918067793494889, -0.02065428446180054, -0.1520175002515316, -0.01965039237568687, 0.09159467874893121], [-0.04465605255224313, 0.1161409747072084, -0.020286997314542532, -0.014011627626280452, -0.01086985329599228, -0.004721520430689981, 0.04095823252790196, -0.16299167799568454, 0.16245688482859108, 2.385666269202565, -0.2479863811587525, 0.06811768255673002, -0.10050008165498459, 0.03302075697087445, -0.1106149792064761, -0.08471704904141641, -0.05510048231456515, 0.8475242175248473, -0.1348344195190124, 0.09309088603355163, -0.03284337111683779, -0.0939409238649099, -0.06215974264020144, 0.03268932394120236, 0.07477965015311573, 0.05883732600527447, -0.04846130686184002, -0.13388217892497778, -0.05759900032954161, -0.16600072392002616, -0.13516348152053217, -0.1121070014399498, 0.012470007763070943, -0.0422513899176793, 0.23148656888732275, 0.07194389048747199, 0.12832140592251753, 0.06098552565036212, 0.07731853412507578, 0.10011336285361024, 0.027033501662054035, -0.00602118584305741, -0.0003472163428574107, 0.022099629196143427, -0.05996239581686813, 0.21151232691265123, -0.12144312334008688, 0.05244044166838014, 0.0980292339159479, -0.06221907530765071, 0.06104762964816981, -0.1805705861729938, 0.08200969234065608, -0.004516148039540493, -0.08250224993152674, -0.03242987200487838, 0.08611821049694406, 0.006813472182879788, 0.02064139426274355, -0.018636812672538812, 0.11666869753321936, -0.12813752215507246, -0.02275626069519582, 0.08894053950559261, 0.20136838120430015, -0.281679768618846, -0.04127214103937149, 0.3219251888262671, 0.07325109391105036, 0.1087734880965463, -0.010046301886092785, -0.09269089763984084, 0.03704455737457719, -0.09965261632879806, 0.050258488589247995, 0.17605579146292322, 0.17965948605520088, 0.10758139592660375, 0.008201161984267622, 0.1032798147738673, 0.1546640893184515, 0.14466807257037523, -0.06670754732087601, -0.0708801112652805, -0.032298141429850526, -0.023006824018477007, 0.11034215151787151, 0.07230718765234531, 0.36768523005898607, 0.16705934510587953, -0.0631876556252855, 0.11783202746707058, -0.10654407507891572, -0.05236999179929668, -0.06345090750864772, -0.025997483585744576, -0.01812067601916402, -0.04236607955292214, 0.22914131676648244, 0.015880092534474855, 0.01597143190528461, -0.04029901429664257, 0.06451645605049508, -0.19280799092768236, -0.11614408151809733, -0.6229020909861077, 0.18817848751191482, 0.0245484504469692, 0.17664862818322902, -0.052892303462465144, 0.1428639631864593, -0.15262208814017994, 0.009021163896419281, 0.1244308409865859, 0.10509644344795582, -0.17285525308770322, -0.038330568635882266, 0.023478188400351725, 0.06577420875776646, 0.11325935924663967, 0.05897038231798729, -0.16902917770528084, 0.0008817693261906158, -0.030892497283233285, 0.1277586534933382, 0.007687908272410548, -0.009599646921594476, -0.03983532323307076, 0.13729095540204367, -0.09838442907257136, -0.011519860086399455, -0.016109284407426712, -0.0032636937414577535, 0.07747300444604006, 0.022118149736766204, -0.016656586494253472, 0.02077590651420313, 0.08023578957329656, 0.015362224130089893, 0.03199058138700419, -1.5727965138679327, -0.10618546574788038, 0.14987218544580216, -0.04396753734367531, -0.08871237266548844, -0.0007324858980123387, -0.17438354401654282, 0.014669027785922205, 0.01531783768603968, -0.0581785865401481, -0.004058269989611798, 0.07240955501275007, 0.005218651827944573, -0.019117458117042862, 0.014791865031733069, -0.139977831090259, 0.17017179107033584, -0.11829287759678135, -0.0469860911834985, -0.1443349803191458, -0.18821983632826528, 0.013797063429211808, -0.150328706130981, -0.11324238171800971, 0.04757756223295664, -0.1494514157259187, 0.008085396227448485, 0.06409358366414211, 0.22316447586947402, 0.005395586992245774, -0.04035028632253755, -0.06911055927792954, 0.13042474180990613, 0.015858070556680825, -0.12538163838258318, 0.020681017573901214, -0.09682261510643848, -0.09875472576552352, -0.03258831066967443, 0.07437320976236532, -0.0034432049602443394, -0.22487222189950043, -0.13923145125100259, 0.13240819744126828, 0.10047505244734185, 0.08549718969219992, -0.021484179411429997, 0.020198626400426377, -0.013562921228883572, -0.0776382086996184, -0.18693389115465242, 0.013396838420005731, -0.16313820878087087, -0.05735061952281137, -0.0396836734874997, 0.13198488323169566, -0.05041884097032422, -0.031044579522554263, 0.08107314849012466, -0.03097058088128823, 0.045568488278361255, 0.007416120827804471, 0.06774011347442865, -0.03707825574417447, 0.052689629065435985, 0.027733622898542604, -0.01820471690870215, -0.07045304567314857, 0.18995682453346807, 0.04986081311349259, -0.08631458942410211, 0.021931675739239816, 0.03561715860387478, -0.09169400977187378, -0.0267106281203586, 0.01598288387406704, 0.1107687950025984, -0.08638206765402195, -0.18833148800009905, 0.09606704879470906, -0.032616067147099, -0.21128598743573176, -0.0831332985030184, 0.05514191716996043, -0.03434207579520325, 0.09369860325268535, 0.023525787558038393, 0.03152634698334475, -0.08995021065307218, -0.010261171627356562, -0.13961976495852998, -0.03694684151560068, 0.1012773715111232, 0.1579881163617206, 0.04720651232745758, -0.09272249910823438, 0.09560323402632115, -0.10303880984700003, -0.05416940865215174, 0.16033584324624064, -0.06804841995065988, -0.042941346667100526, -0.05264990363096775, 0.13983404705690783, 0.035716674052352126, -0.06701618536960247, -0.27996275207937454, -0.06300604516683622, -0.10027797264656117, 0.07789162650357845, -0.04151984120091034, 0.04830259080572855, -0.016987091991617236, -0.04801647845915584, 0.19421558352837034, 0.22449102447649769, 0.08340424000350542, -0.07350877358383218, -0.1258237568030762, 0.09248247577505576, 0.10851967577324358, 0.24865879430327303, -0.02032680931869288, -0.01957137629303128, 0.08722883652960665, 0.025890486748066058, -0.18720595142804086, 0.020606756512871617, -0.047746230094141306, 0.026893020141869783, -0.08742844503979351, -0.04432800189093795, -0.1297144451135293, -0.12364332664887918, -0.1495265934378082, 0.05680573460927536, -0.04901945940760333, 0.1258532057061445, 0.014325967080198055, 0.23139597570826842, 0.11901624144195731, -0.04397486506549771, -0.15364288200819215, 0.023405481411447358, 0.0654009998624408, 0.044651277709838955, 0.21260932360797427, -0.08034590735684993, -0.10207727932652762, 0.11210979053447413, 0.07876193198527015, 0.008492743401506613, -0.032173492653338714, 0.014183801577188248, 0.04123938775643013, -0.03010939616103505, 0.027571466085392723, -0.0931090368066243, -0.04111124632533553, -0.1512934499918375], [-0.03430756122179446, 0.007950842672703313, -0.028352431980345177, -0.0018879319997686967, 0.06612933401529696, 0.14283860974725993, -0.03245866674856812, -0.17339994450209334, 0.12649930007162266, 1.9253588272076028, -0.23076354273978403, 0.05476774626831506, -0.09982026275247335, -0.0605580285237189, -0.08957635465205885, 0.025847915016735595, -0.09957104455679655, 0.9937249056848825, -0.027230188332717207, 0.016726165087710992, -0.031234013046795392, -0.020979981212054983, -0.11522186357601016, -0.1357570382784687, -0.022439449167280804, 0.014193097391969287, -0.023839976875951477, -0.10672739144944239, 0.06382896544813525, -0.1817089413457057, -0.13547504872229754, -0.0003112820616247607, -0.01093963158371694, -0.10816721451541811, 0.07569549944966246, 0.08893321802572567, 0.10474950982732516, -0.023306462845272, 0.03296180765199311, 0.08072884232216679, 0.013507589469572492, -0.028431615536557694, -0.033711205204656605, 0.057208893893688335, 0.03490537105073385, 0.2111750769921962, -0.16050996156591996, 0.018400842944780987, -0.0428152847304648, -0.02968339118923919, 0.027657981450651205, -0.02593266464514183, 0.13043431506729594, -0.02582661478834994, -0.0016890921556920397, -0.06602880521220904, 0.058271407341475, -0.005519033055843822, 0.08413971956892341, -0.056170215163672085, 0.08747198054676547, -0.19150774015625024, 0.04222036249862582, 0.029854090820413594, 0.043683057310808376, -0.31321125827483176, -0.03300159424543381, 0.23191141059585646, 0.03455631798315866, 0.16796666436700844, 0.0012367833770957648, -0.05540878931288699, 0.04683032507697741, -0.038484022989138666, -0.045601273466851194, -0.0009194966314323977, 0.0699021423272058, -0.022915544125020924, -0.058705744771834684, 0.044104592838123735, 0.09124419586185147, 0.0062259566951908315, 0.02949028632000965, -0.08601828314211019, -0.1112476411280131, -0.08862269532811992, 0.3540099986187438, 0.2955375786359404, 0.12015965207498155, 0.0550672999930148, -0.015478363363631526, 0.0347888813920173, -0.0557418020588218, -0.1297850598234172, 0.018857876386712578, -0.041550646901276765, -0.0037772994175754196, -0.012096521985036888, 0.13364430407390876, 0.06256282586586095, -0.0023443895921695466, -0.07672846939999099, 0.060878353102096154, 0.014473596660822046, -0.022832924098360772, -0.8273191719530516, 0.1820483630541347, -0.009314637571828915, 0.0791225055707436, -0.04015157878508463, 0.2348121356986025, -0.21938270615304217, -0.049067785433840515, 0.11317713808852668, 0.037860991168475036, -0.09655804881442558, 0.020523037633621226, -0.13334938599362822, 0.047065574247515576, 0.07460307317566783, 0.04050064605532908, -0.06861107095656004, -0.051005747287954185, -0.04596570699804408, 0.08686538606736005, -0.06928539016813624, -0.012909653267877944, -0.017752241539568, 0.04977002038675196, -0.05536390150732854, -0.08321813672927081, -0.012108992916467947, 0.0563105761539191, 0.09658276509749246, 0.011510020633246385, -0.04055821406198483, 0.009241078779393551, -0.07062152802359824, -0.0376347065629328, -0.026726371736503114, -1.559276068911833, -0.014274042147364668, 0.14594315383218082, 0.0003345513752862519, -0.059700663288251736, -0.03768934068034915, -0.15984109924266152, 0.08002989242474239, 0.01834458722641655, 0.017729763852377588, 0.05516959707350835, 0.061081939294715136, 0.06997060711842541, 0.030926646719522336, -0.00508308163204906, -0.09195239169924867, 0.10006921407857947, -0.1076012729740172, 0.0012808211796058744, -0.17312697981319883, -0.19830311860377883, -0.07889005440451644, -0.145625627754877, -0.043263240276799335, 0.11326880215703711, -0.17555105854191033, 0.060902245306209024, -0.025509337661787868, 0.03344972709230348, 0.024592332688032414, -0.006973545925289977, -0.022567308959825075, -0.01385027498426829, -0.13644294163175658, -0.175713855289288, 0.03780163225590014, -0.018049580967236384, -0.053753304304372446, 0.022839517859906396, 0.02050335261532489, 0.017022110286109404, -0.23769586876162566, -0.05033241146627594, 0.055635644497313334, 0.029460811960127425, 0.02558143294471152, 0.013193667254538513, -0.07373679421988188, 0.09968027392146635, -0.06618785384275458, -0.16755645879197353, -0.003280096669115272, -0.09650960635832127, -0.07580454167270777, 0.007359560852979913, 0.11826829371663432, 0.0022262334298598124, 0.030864645672195098, 0.12003221778272122, 0.049456920100412534, -0.08496103910546676, 0.05880330446377104, -0.07973670314394814, -0.008997333601263225, 0.0388655694311156, 0.06716793193938393, 0.07867587267822933, 0.01632197594324894, 0.12965330256003083, 0.045201607121556416, -0.11914223699154806, 0.007943410298549662, -0.017704110052898826, -0.09664810394101284, 0.08669735334229235, 0.0990756708722306, -0.010309382186581692, -0.054303721616081164, -0.17187119596729092, 0.004606366961025724, -0.022948076327641804, 0.023138151545329794, -0.013293219666343694, 0.03922995368895285, -0.009701177958834474, -0.01567082864793894, 0.010462605230071965, -0.0022474951841229317, -0.03477056952668171, 0.04473334618424084, -0.05929604317883358, 0.011391259638556079, 0.10278520740422548, 0.08797473874052658, 0.03919868986578841, -0.012655658081319987, -0.03375986931553366, -0.15625154447636805, -0.05662095913773074, 0.1601164972486075, -0.021938874441034654, 0.0006235955356090676, -0.08410079081488006, 0.04425332198882768, 0.0026404892697053798, -0.027039314054098783, -0.14514390079706324, -0.11192739814264226, -0.15869807029330155, 0.05614645669108951, -0.014545618704812345, -0.05595503914553453, -0.07926506076154172, -0.004505674376702576, 0.08256909158993878, 0.11069351022003912, 0.08934423875282793, -0.07520635279954649, -0.054506911501270155, 0.09049256832576265, 0.02221855470070652, 0.1787225636174245, -0.03263392174324276, -0.08673002134424214, 0.12125690226607463, 0.03731935294162409, -0.10364529011570209, 0.02849818995295494, 0.02496103880306085, 0.028089203269166106, -0.17033212018363617, -0.019537722783199714, -0.015527168462308599, -0.03187282964148942, -0.0772520384121248, 0.08249992695545741, -0.055083866313319, 0.07986972593204758, 0.09778826517582524, 0.2857669029823121, 0.13843889023159064, -0.051456284549489036, -0.0905578612879503, 0.021490119187636117, 0.029317349852884516, 0.0063970587273383984, 0.1852621770299533, -0.00924239344164437, 0.008895801480713427, 0.08878262782944184, 0.03181014216377163, 0.052402921952307224, -0.02211916042199614, 0.001873279611269633, -0.050364825719346605, 0.040123435860390175, 0.08450800629661363, -0.10846821833219306, 0.0575387818081414, -0.06120026084210943], [-0.11292407904772972, 0.14241018518805504, 0.0013115005567669868, -0.20002116089017363, -0.07289468869566917, 0.03907155804336071, -0.024919374380260706, -0.25678424909710884, 0.21939131151884794, 2.2442068438977003, -0.167625438189134, -0.022317225477308966, -0.18348993780091405, -0.030020801656064577, -0.15342999598942697, -0.08349523390643299, -0.08640037314034998, 0.9500706195831299, 0.01242002475191839, 0.02856650180183351, -0.143360810354352, 0.031912125181406736, -0.04009799938648939, -0.07993025053292513, 0.16474131168797612, -0.07844218658283353, -0.028194151120260358, -0.1290114999283105, -0.11191693833097816, -0.21263037237804383, -0.039145606104284525, 0.0011645597405731678, 0.016842187440488487, -0.04282693634741008, 0.26512756128795445, 0.10072324797511101, 0.05526685668155551, -0.05285324668511748, 0.17406699783168733, 0.22085805045207962, 0.0005641952448058873, -0.07103887386620045, 0.021707061445340514, -0.08745268872007728, -0.03787693806225434, 0.3534193765372038, -0.13792297354666516, -0.009783125249668956, -0.09183862712234259, -0.0383528721613402, 0.035239189164713025, -0.16575168841518462, 0.11767244997099624, 0.1342856774572283, -0.042182499659247696, -0.10779375256970525, 0.1631059378851205, 0.0009298314180341549, -0.018062554474454373, -0.11513749603182077, 0.13627881300635636, -0.09241100051440299, 0.07555699965450913, 0.14711100049316883, 0.13609950244426727, -0.3564550410374068, -0.0960262015578337, 0.33397937659174204, 0.030767376185394824, 0.19060112530132756, -0.08411393919959664, -0.04211442466476001, 0.12901750323362648, -0.20333897692034952, 0.03836762672290206, 0.1569375010440126, 0.10374049539677799, 0.04457537713460624, -0.07601424865424633, 0.19579556421376765, 0.22958299866877496, 0.16127318772487342, -0.033845095604192466, -0.06351729556081409, -0.08663925397559069, -0.10049655100738164, 0.23709793714806437, 0.18304562848061323, 0.3532074380200356, 0.1945446171448566, 0.031676315469667315, 0.14577699871733785, -0.11468193691689521, -0.03379881102591753, -0.049395374953746796, -0.08130068774335086, 0.05229453826905228, -0.06538962386548519, 0.3181495061144233, 0.21845268513425253, -0.011757126601878554, 0.017696378054097295, 0.0677078144508414, -0.14607400016393512, -0.07488068769453093, -0.5136512578465044, 0.24560011830180883, 0.07336991983174812, 0.17116381460800767, -0.08505249989684671, 0.2093150594155304, -0.3155476832180284, -0.040088186389766634, 0.13876293727662414, 0.019036753568798304, -0.1495562493801117, -0.011627325729932636, 0.11460450023878366, 0.0822490006685257, 0.0823498114477843, 0.03326085358276032, -0.26696349936537445, -0.0435641841031611, -0.05761117348447442, 0.0567613749881275, -0.10021256096661091, 0.08719187637325376, -0.1110841155750677, 0.09861725114751607, -0.15492409525904804, -0.02893893897999078, -0.09217493736650795, 0.03569625178351998, 0.1714223122689873, 0.006996518175583333, -0.10207063199777622, 0.11110350105445832, 0.10194812039844692, 0.09926772606559098, 0.00819731189403683, -1.628326877951622, -0.049596312339417636, 0.39486949669662863, -0.033609295525820926, 0.031003001262433827, -0.05584468739107251, -0.2586080639157444, 0.17766799707897007, 0.057168623665347695, -0.048358970267145196, -0.0015143445925787091, 0.03800199495162815, 0.12169875091058202, -0.05264926966992789, 0.08330615051090717, -0.2452059981878847, 0.21222493727691472, -0.16577156746279798, -0.032027250388637185, -0.1454035504575586, -0.16735343728214502, 0.09548457799246535, -0.1896018150728196, -0.03600568510591984, 0.2547296225093305, -0.17532181460410357, 0.12697099766228348, -0.019729188177734613, 0.17226403130916879, -0.037512372713536024, -0.08827279912657104, -0.07540668826550245, -0.16983281209104462, -0.1350224418565631, -0.18453550309641287, 0.1443487531505525, -0.0018515626434236765, -0.034850090130930766, -0.11924700089730322, 0.08107212628237903, -0.06753499829210341, -0.3261180901317857, -0.1552618113346398, 0.05331362539436668, 0.14911593962460756, 0.03017668693792075, 0.051792950282106176, -0.0029939417727291584, 0.1822125653270632, 0.06824387796223164, -0.3827337557449937, 0.06890875194221735, -0.046974936849437654, 0.04678909727954306, -0.03268418600782752, 0.07574325148016214, -0.04695306299254298, -0.09778656077105552, 0.07431490055751055, -0.05956659294315614, -0.08788224891759455, 0.053451598330866545, 0.014856623485684395, -0.0389711856842041, 0.10490118700545281, 0.025352643875521608, -0.01798646822135197, -0.00420006166677922, 0.21902956324629486, 0.0011729984544217587, -0.21903970788116567, 0.033636813051998615, 0.008837180645059561, -0.12030858546495438, 0.05984025917132385, 0.0356415007263422, 0.1988056874834001, -0.21129575185477734, -0.3060400653630495, 0.1261017513461411, -0.12298318673856556, -0.10272625414654613, -0.03752910658658948, 0.09448974905535579, 0.16104731522500515, 0.07830517363618128, -0.08179593848763034, 0.023642844447749667, -0.08090400043874979, 0.024204749148339033, -0.11580924520967528, -0.003992353918874869, 0.1917551876977086, 0.16349312849342823, 0.1203664381755516, -0.08477028809284093, 0.05669200111879036, -0.20052681959350593, -0.13248668564483523, 0.09672681521624327, -0.09583893441595137, 0.041427547941566445, -0.10866687074303627, 0.20649749785661697, 0.06255118793342263, 0.005800064071081579, -0.37985726603074, -0.18029306433163583, -0.22771990590626956, -0.0695878742262721, -0.020869124797172844, -0.08746513533696998, 0.03166943648830056, -0.0342991859652102, 0.13920593622606248, 0.3533873148262501, 0.11639520138851367, -0.1294724381295964, -0.15618771770823514, 0.10458517851657234, 0.14966187602840364, 0.183124192757532, -0.09395952828344889, -0.15887948361341842, 0.1760704389307648, 0.021914126351475716, -0.10040411294903606, -0.0023543117567896843, -0.20768625661730766, 0.12218956256401725, -0.08892437524627894, -0.1968732534442097, -0.048263820019201376, -0.1689261868596077, -0.09717955882661045, 0.010077997576445341, 0.0030739123467355967, 0.14638486737385392, 0.15971306303981692, 0.2752783759497106, 0.04046662477776408, -0.14919455721974373, -0.1905673104338348, -0.01312137657077983, 0.08772002487967256, 0.09652231226209551, 0.2962226322852075, 0.021570372628048062, -0.12639481259975582, 0.16813919090782292, 0.04331894335336983, -0.0397485620342195, 0.09410824117367156, 0.025882000103592873, -0.08217458115541376, 0.004992187023162842, 0.021934294054517522, -0.13020812172908336, -0.08082726887369063, 0.01760176126845181]]\n"
          ],
          "name": "stdout"
        },
        {
          "output_type": "execute_result",
          "data": {
            "text/plain": [
              "773"
            ]
          },
          "metadata": {
            "tags": []
          },
          "execution_count": 30
        }
      ]
    },
    {
      "cell_type": "code",
      "metadata": {
        "id": "CeJgDGg4eIP0",
        "colab_type": "code",
        "outputId": "83b2f837-8b61-422d-9cd6-87f0e2607d07",
        "colab": {
          "base_uri": "https://localhost:8080/",
          "height": 35
        }
      },
      "source": [
        "# Split data into test and training sets\n",
        "X_train = text_vectors[:700]\n",
        "Y_train = vote[:700]\n",
        "\n",
        "X_test = text_vectors[700:]\n",
        "Y_test = vote[700:] \n",
        "\n",
        "# Score to beat with ANN model\n",
        "Y_test.count(1)/len(Y_test)"
      ],
      "execution_count": 31,
      "outputs": [
        {
          "output_type": "execute_result",
          "data": {
            "text/plain": [
              "0.6164383561643836"
            ]
          },
          "metadata": {
            "tags": []
          },
          "execution_count": 31
        }
      ]
    },
    {
      "cell_type": "code",
      "metadata": {
        "id": "I3HnGFx5V3AB",
        "colab_type": "code",
        "outputId": "1d9e7751-cb98-4ae3-e553-085a2657b794",
        "colab": {
          "base_uri": "https://localhost:8080/",
          "height": 35
        }
      },
      "source": [
        "Y_test[:20]"
      ],
      "execution_count": 32,
      "outputs": [
        {
          "output_type": "execute_result",
          "data": {
            "text/plain": [
              "[1, 2, 2, 2, 1, 2, 1, 1, 2, 2, 2, 1, 2, 1, 1, 1, 1, 1, 2, 1]"
            ]
          },
          "metadata": {
            "tags": []
          },
          "execution_count": 32
        }
      ]
    },
    {
      "cell_type": "code",
      "metadata": {
        "id": "wxaK7TliWFXF",
        "colab_type": "code",
        "outputId": "49a4d987-26ff-47b2-fa44-71c342fb0dc2",
        "colab": {
          "base_uri": "https://localhost:8080/",
          "height": 35
        }
      },
      "source": [
        "Y_test.count(2)/len(Y_test)"
      ],
      "execution_count": 34,
      "outputs": [
        {
          "output_type": "execute_result",
          "data": {
            "text/plain": [
              "0.3835616438356164"
            ]
          },
          "metadata": {
            "tags": []
          },
          "execution_count": 34
        }
      ]
    },
    {
      "cell_type": "markdown",
      "metadata": {
        "id": "pn4YINbtVJdn",
        "colab_type": "text"
      },
      "source": [
        "# **ANN Model**\n",
        "\n",
        "## Grid Searches"
      ]
    },
    {
      "cell_type": "code",
      "metadata": {
        "id": "32jqj6RorOxm",
        "colab_type": "code",
        "outputId": "2f00aca1-f8bc-456a-f6fa-0a0bc6d99433",
        "colab": {
          "base_uri": "https://localhost:8080/",
          "height": 453
        }
      },
      "source": [
        "# Do grid search for best nodes and hidden layer amounts\n",
        "up.grid_search([[64,1], [32, 1], [32,16,1], [16, 8, 1], [64, 32, 1], [64, 32, 16, 1], [128, 64, 32, 1], [128,1]], [10,15,20,30, 40, 50,75, 100], X_train, Y_train)"
      ],
      "execution_count": 0,
      "outputs": [
        {
          "output_type": "stream",
          "text": [
            "Fitting 3 folds for each of 64 candidates, totalling 192 fits\n",
            "[CV] batch_size=1, epochs=10, input_dim=300, lyrs=(64, 1) ............\n"
          ],
          "name": "stdout"
        },
        {
          "output_type": "stream",
          "text": [
            "[Parallel(n_jobs=1)]: Using backend SequentialBackend with 1 concurrent workers.\n"
          ],
          "name": "stderr"
        },
        {
          "output_type": "stream",
          "text": [
            "[CV]  batch_size=1, epochs=10, input_dim=300, lyrs=(64, 1), total=   3.8s\n",
            "[CV] batch_size=1, epochs=10, input_dim=300, lyrs=(64, 1) ............\n"
          ],
          "name": "stdout"
        },
        {
          "output_type": "stream",
          "text": [
            "[Parallel(n_jobs=1)]: Done   1 out of   1 | elapsed:    3.8s remaining:    0.0s\n"
          ],
          "name": "stderr"
        },
        {
          "output_type": "error",
          "ename": "KeyboardInterrupt",
          "evalue": "ignored",
          "traceback": [
            "\u001b[0;31m---------------------------------------------------------------------------\u001b[0m",
            "\u001b[0;31mKeyboardInterrupt\u001b[0m                         Traceback (most recent call last)",
            "\u001b[0;32m<ipython-input-9-fef3fea26911>\u001b[0m in \u001b[0;36m<module>\u001b[0;34m()\u001b[0m\n\u001b[1;32m      1\u001b[0m \u001b[0;31m# Do grid search for best nodes and hidden layer amounts\u001b[0m\u001b[0;34m\u001b[0m\u001b[0;34m\u001b[0m\u001b[0;34m\u001b[0m\u001b[0m\n\u001b[0;32m----> 2\u001b[0;31m \u001b[0mup\u001b[0m\u001b[0;34m.\u001b[0m\u001b[0mgrid_search\u001b[0m\u001b[0;34m(\u001b[0m\u001b[0;34m[\u001b[0m\u001b[0;34m[\u001b[0m\u001b[0;36m64\u001b[0m\u001b[0;34m,\u001b[0m\u001b[0;36m1\u001b[0m\u001b[0;34m]\u001b[0m\u001b[0;34m,\u001b[0m \u001b[0;34m[\u001b[0m\u001b[0;36m32\u001b[0m\u001b[0;34m,\u001b[0m \u001b[0;36m1\u001b[0m\u001b[0;34m]\u001b[0m\u001b[0;34m,\u001b[0m \u001b[0;34m[\u001b[0m\u001b[0;36m32\u001b[0m\u001b[0;34m,\u001b[0m\u001b[0;36m16\u001b[0m\u001b[0;34m,\u001b[0m\u001b[0;36m1\u001b[0m\u001b[0;34m]\u001b[0m\u001b[0;34m,\u001b[0m \u001b[0;34m[\u001b[0m\u001b[0;36m16\u001b[0m\u001b[0;34m,\u001b[0m \u001b[0;36m8\u001b[0m\u001b[0;34m,\u001b[0m \u001b[0;36m1\u001b[0m\u001b[0;34m]\u001b[0m\u001b[0;34m,\u001b[0m \u001b[0;34m[\u001b[0m\u001b[0;36m64\u001b[0m\u001b[0;34m,\u001b[0m \u001b[0;36m32\u001b[0m\u001b[0;34m,\u001b[0m \u001b[0;36m1\u001b[0m\u001b[0;34m]\u001b[0m\u001b[0;34m,\u001b[0m \u001b[0;34m[\u001b[0m\u001b[0;36m64\u001b[0m\u001b[0;34m,\u001b[0m \u001b[0;36m32\u001b[0m\u001b[0;34m,\u001b[0m \u001b[0;36m16\u001b[0m\u001b[0;34m,\u001b[0m \u001b[0;36m1\u001b[0m\u001b[0;34m]\u001b[0m\u001b[0;34m,\u001b[0m \u001b[0;34m[\u001b[0m\u001b[0;36m128\u001b[0m\u001b[0;34m,\u001b[0m \u001b[0;36m64\u001b[0m\u001b[0;34m,\u001b[0m \u001b[0;36m32\u001b[0m\u001b[0;34m,\u001b[0m \u001b[0;36m1\u001b[0m\u001b[0;34m]\u001b[0m\u001b[0;34m,\u001b[0m \u001b[0;34m[\u001b[0m\u001b[0;36m128\u001b[0m\u001b[0;34m,\u001b[0m\u001b[0;36m1\u001b[0m\u001b[0;34m]\u001b[0m\u001b[0;34m]\u001b[0m\u001b[0;34m,\u001b[0m \u001b[0;34m[\u001b[0m\u001b[0;36m10\u001b[0m\u001b[0;34m,\u001b[0m\u001b[0;36m15\u001b[0m\u001b[0;34m,\u001b[0m\u001b[0;36m20\u001b[0m\u001b[0;34m,\u001b[0m\u001b[0;36m30\u001b[0m\u001b[0;34m,\u001b[0m \u001b[0;36m40\u001b[0m\u001b[0;34m,\u001b[0m \u001b[0;36m50\u001b[0m\u001b[0;34m,\u001b[0m\u001b[0;36m75\u001b[0m\u001b[0;34m,\u001b[0m \u001b[0;36m100\u001b[0m\u001b[0;34m]\u001b[0m\u001b[0;34m,\u001b[0m \u001b[0mX_train\u001b[0m\u001b[0;34m,\u001b[0m \u001b[0mY_train\u001b[0m\u001b[0;34m)\u001b[0m\u001b[0;34m\u001b[0m\u001b[0;34m\u001b[0m\u001b[0m\n\u001b[0m",
            "\u001b[0;32m/content/uo_puddles/uo_puddles.py\u001b[0m in \u001b[0;36mgrid_search\u001b[0;34m(layers_list, epochs_list, X_train, Y_train, indim)\u001b[0m\n\u001b[1;32m    102\u001b[0m                       verbose=2)  # include n_jobs=-1 if you are using CPU\n\u001b[1;32m    103\u001b[0m \u001b[0;34m\u001b[0m\u001b[0m\n\u001b[0;32m--> 104\u001b[0;31m   \u001b[0mgrid_result\u001b[0m \u001b[0;34m=\u001b[0m \u001b[0mgrid\u001b[0m\u001b[0;34m.\u001b[0m\u001b[0mfit\u001b[0m\u001b[0;34m(\u001b[0m\u001b[0mnp\u001b[0m\u001b[0;34m.\u001b[0m\u001b[0marray\u001b[0m\u001b[0;34m(\u001b[0m\u001b[0mX_train\u001b[0m\u001b[0;34m)\u001b[0m\u001b[0;34m,\u001b[0m \u001b[0mnp\u001b[0m\u001b[0;34m.\u001b[0m\u001b[0marray\u001b[0m\u001b[0;34m(\u001b[0m\u001b[0mY_train\u001b[0m\u001b[0;34m)\u001b[0m\u001b[0;34m)\u001b[0m\u001b[0;34m\u001b[0m\u001b[0;34m\u001b[0m\u001b[0m\n\u001b[0m\u001b[1;32m    105\u001b[0m \u001b[0;34m\u001b[0m\u001b[0m\n\u001b[1;32m    106\u001b[0m   \u001b[0;31m# summarize results\u001b[0m\u001b[0;34m\u001b[0m\u001b[0;34m\u001b[0m\u001b[0;34m\u001b[0m\u001b[0m\n",
            "\u001b[0;32m/usr/local/lib/python3.6/dist-packages/sklearn/model_selection/_search.py\u001b[0m in \u001b[0;36mfit\u001b[0;34m(self, X, y, groups, **fit_params)\u001b[0m\n\u001b[1;32m    708\u001b[0m                 \u001b[0;32mreturn\u001b[0m \u001b[0mresults\u001b[0m\u001b[0;34m\u001b[0m\u001b[0;34m\u001b[0m\u001b[0m\n\u001b[1;32m    709\u001b[0m \u001b[0;34m\u001b[0m\u001b[0m\n\u001b[0;32m--> 710\u001b[0;31m             \u001b[0mself\u001b[0m\u001b[0;34m.\u001b[0m\u001b[0m_run_search\u001b[0m\u001b[0;34m(\u001b[0m\u001b[0mevaluate_candidates\u001b[0m\u001b[0;34m)\u001b[0m\u001b[0;34m\u001b[0m\u001b[0;34m\u001b[0m\u001b[0m\n\u001b[0m\u001b[1;32m    711\u001b[0m \u001b[0;34m\u001b[0m\u001b[0m\n\u001b[1;32m    712\u001b[0m         \u001b[0;31m# For multi-metric evaluation, store the best_index_, best_params_ and\u001b[0m\u001b[0;34m\u001b[0m\u001b[0;34m\u001b[0m\u001b[0;34m\u001b[0m\u001b[0m\n",
            "\u001b[0;32m/usr/local/lib/python3.6/dist-packages/sklearn/model_selection/_search.py\u001b[0m in \u001b[0;36m_run_search\u001b[0;34m(self, evaluate_candidates)\u001b[0m\n\u001b[1;32m   1149\u001b[0m     \u001b[0;32mdef\u001b[0m \u001b[0m_run_search\u001b[0m\u001b[0;34m(\u001b[0m\u001b[0mself\u001b[0m\u001b[0;34m,\u001b[0m \u001b[0mevaluate_candidates\u001b[0m\u001b[0;34m)\u001b[0m\u001b[0;34m:\u001b[0m\u001b[0;34m\u001b[0m\u001b[0;34m\u001b[0m\u001b[0m\n\u001b[1;32m   1150\u001b[0m         \u001b[0;34m\"\"\"Search all candidates in param_grid\"\"\"\u001b[0m\u001b[0;34m\u001b[0m\u001b[0;34m\u001b[0m\u001b[0m\n\u001b[0;32m-> 1151\u001b[0;31m         \u001b[0mevaluate_candidates\u001b[0m\u001b[0;34m(\u001b[0m\u001b[0mParameterGrid\u001b[0m\u001b[0;34m(\u001b[0m\u001b[0mself\u001b[0m\u001b[0;34m.\u001b[0m\u001b[0mparam_grid\u001b[0m\u001b[0;34m)\u001b[0m\u001b[0;34m)\u001b[0m\u001b[0;34m\u001b[0m\u001b[0;34m\u001b[0m\u001b[0m\n\u001b[0m\u001b[1;32m   1152\u001b[0m \u001b[0;34m\u001b[0m\u001b[0m\n\u001b[1;32m   1153\u001b[0m \u001b[0;34m\u001b[0m\u001b[0m\n",
            "\u001b[0;32m/usr/local/lib/python3.6/dist-packages/sklearn/model_selection/_search.py\u001b[0m in \u001b[0;36mevaluate_candidates\u001b[0;34m(candidate_params)\u001b[0m\n\u001b[1;32m    687\u001b[0m                                \u001b[0;32mfor\u001b[0m \u001b[0mparameters\u001b[0m\u001b[0;34m,\u001b[0m \u001b[0;34m(\u001b[0m\u001b[0mtrain\u001b[0m\u001b[0;34m,\u001b[0m \u001b[0mtest\u001b[0m\u001b[0;34m)\u001b[0m\u001b[0;34m\u001b[0m\u001b[0;34m\u001b[0m\u001b[0m\n\u001b[1;32m    688\u001b[0m                                in product(candidate_params,\n\u001b[0;32m--> 689\u001b[0;31m                                           cv.split(X, y, groups)))\n\u001b[0m\u001b[1;32m    690\u001b[0m \u001b[0;34m\u001b[0m\u001b[0m\n\u001b[1;32m    691\u001b[0m                 \u001b[0;32mif\u001b[0m \u001b[0mlen\u001b[0m\u001b[0;34m(\u001b[0m\u001b[0mout\u001b[0m\u001b[0;34m)\u001b[0m \u001b[0;34m<\u001b[0m \u001b[0;36m1\u001b[0m\u001b[0;34m:\u001b[0m\u001b[0;34m\u001b[0m\u001b[0;34m\u001b[0m\u001b[0m\n",
            "\u001b[0;32m/usr/local/lib/python3.6/dist-packages/joblib/parallel.py\u001b[0m in \u001b[0;36m__call__\u001b[0;34m(self, iterable)\u001b[0m\n\u001b[1;32m   1030\u001b[0m                 \u001b[0mself\u001b[0m\u001b[0;34m.\u001b[0m\u001b[0m_iterating\u001b[0m \u001b[0;34m=\u001b[0m \u001b[0mself\u001b[0m\u001b[0;34m.\u001b[0m\u001b[0m_original_iterator\u001b[0m \u001b[0;32mis\u001b[0m \u001b[0;32mnot\u001b[0m \u001b[0;32mNone\u001b[0m\u001b[0;34m\u001b[0m\u001b[0;34m\u001b[0m\u001b[0m\n\u001b[1;32m   1031\u001b[0m \u001b[0;34m\u001b[0m\u001b[0m\n\u001b[0;32m-> 1032\u001b[0;31m             \u001b[0;32mwhile\u001b[0m \u001b[0mself\u001b[0m\u001b[0;34m.\u001b[0m\u001b[0mdispatch_one_batch\u001b[0m\u001b[0;34m(\u001b[0m\u001b[0miterator\u001b[0m\u001b[0;34m)\u001b[0m\u001b[0;34m:\u001b[0m\u001b[0;34m\u001b[0m\u001b[0;34m\u001b[0m\u001b[0m\n\u001b[0m\u001b[1;32m   1033\u001b[0m                 \u001b[0;32mpass\u001b[0m\u001b[0;34m\u001b[0m\u001b[0;34m\u001b[0m\u001b[0m\n\u001b[1;32m   1034\u001b[0m \u001b[0;34m\u001b[0m\u001b[0m\n",
            "\u001b[0;32m/usr/local/lib/python3.6/dist-packages/joblib/parallel.py\u001b[0m in \u001b[0;36mdispatch_one_batch\u001b[0;34m(self, iterator)\u001b[0m\n\u001b[1;32m    845\u001b[0m                 \u001b[0;32mreturn\u001b[0m \u001b[0;32mFalse\u001b[0m\u001b[0;34m\u001b[0m\u001b[0;34m\u001b[0m\u001b[0m\n\u001b[1;32m    846\u001b[0m             \u001b[0;32melse\u001b[0m\u001b[0;34m:\u001b[0m\u001b[0;34m\u001b[0m\u001b[0;34m\u001b[0m\u001b[0m\n\u001b[0;32m--> 847\u001b[0;31m                 \u001b[0mself\u001b[0m\u001b[0;34m.\u001b[0m\u001b[0m_dispatch\u001b[0m\u001b[0;34m(\u001b[0m\u001b[0mtasks\u001b[0m\u001b[0;34m)\u001b[0m\u001b[0;34m\u001b[0m\u001b[0;34m\u001b[0m\u001b[0m\n\u001b[0m\u001b[1;32m    848\u001b[0m                 \u001b[0;32mreturn\u001b[0m \u001b[0;32mTrue\u001b[0m\u001b[0;34m\u001b[0m\u001b[0;34m\u001b[0m\u001b[0m\n\u001b[1;32m    849\u001b[0m \u001b[0;34m\u001b[0m\u001b[0m\n",
            "\u001b[0;32m/usr/local/lib/python3.6/dist-packages/joblib/parallel.py\u001b[0m in \u001b[0;36m_dispatch\u001b[0;34m(self, batch)\u001b[0m\n\u001b[1;32m    763\u001b[0m         \u001b[0;32mwith\u001b[0m \u001b[0mself\u001b[0m\u001b[0;34m.\u001b[0m\u001b[0m_lock\u001b[0m\u001b[0;34m:\u001b[0m\u001b[0;34m\u001b[0m\u001b[0;34m\u001b[0m\u001b[0m\n\u001b[1;32m    764\u001b[0m             \u001b[0mjob_idx\u001b[0m \u001b[0;34m=\u001b[0m \u001b[0mlen\u001b[0m\u001b[0;34m(\u001b[0m\u001b[0mself\u001b[0m\u001b[0;34m.\u001b[0m\u001b[0m_jobs\u001b[0m\u001b[0;34m)\u001b[0m\u001b[0;34m\u001b[0m\u001b[0;34m\u001b[0m\u001b[0m\n\u001b[0;32m--> 765\u001b[0;31m             \u001b[0mjob\u001b[0m \u001b[0;34m=\u001b[0m \u001b[0mself\u001b[0m\u001b[0;34m.\u001b[0m\u001b[0m_backend\u001b[0m\u001b[0;34m.\u001b[0m\u001b[0mapply_async\u001b[0m\u001b[0;34m(\u001b[0m\u001b[0mbatch\u001b[0m\u001b[0;34m,\u001b[0m \u001b[0mcallback\u001b[0m\u001b[0;34m=\u001b[0m\u001b[0mcb\u001b[0m\u001b[0;34m)\u001b[0m\u001b[0;34m\u001b[0m\u001b[0;34m\u001b[0m\u001b[0m\n\u001b[0m\u001b[1;32m    766\u001b[0m             \u001b[0;31m# A job can complete so quickly than its callback is\u001b[0m\u001b[0;34m\u001b[0m\u001b[0;34m\u001b[0m\u001b[0;34m\u001b[0m\u001b[0m\n\u001b[1;32m    767\u001b[0m             \u001b[0;31m# called before we get here, causing self._jobs to\u001b[0m\u001b[0;34m\u001b[0m\u001b[0;34m\u001b[0m\u001b[0;34m\u001b[0m\u001b[0m\n",
            "\u001b[0;32m/usr/local/lib/python3.6/dist-packages/joblib/_parallel_backends.py\u001b[0m in \u001b[0;36mapply_async\u001b[0;34m(self, func, callback)\u001b[0m\n\u001b[1;32m    204\u001b[0m     \u001b[0;32mdef\u001b[0m \u001b[0mapply_async\u001b[0m\u001b[0;34m(\u001b[0m\u001b[0mself\u001b[0m\u001b[0;34m,\u001b[0m \u001b[0mfunc\u001b[0m\u001b[0;34m,\u001b[0m \u001b[0mcallback\u001b[0m\u001b[0;34m=\u001b[0m\u001b[0;32mNone\u001b[0m\u001b[0;34m)\u001b[0m\u001b[0;34m:\u001b[0m\u001b[0;34m\u001b[0m\u001b[0;34m\u001b[0m\u001b[0m\n\u001b[1;32m    205\u001b[0m         \u001b[0;34m\"\"\"Schedule a func to be run\"\"\"\u001b[0m\u001b[0;34m\u001b[0m\u001b[0;34m\u001b[0m\u001b[0m\n\u001b[0;32m--> 206\u001b[0;31m         \u001b[0mresult\u001b[0m \u001b[0;34m=\u001b[0m \u001b[0mImmediateResult\u001b[0m\u001b[0;34m(\u001b[0m\u001b[0mfunc\u001b[0m\u001b[0;34m)\u001b[0m\u001b[0;34m\u001b[0m\u001b[0;34m\u001b[0m\u001b[0m\n\u001b[0m\u001b[1;32m    207\u001b[0m         \u001b[0;32mif\u001b[0m \u001b[0mcallback\u001b[0m\u001b[0;34m:\u001b[0m\u001b[0;34m\u001b[0m\u001b[0;34m\u001b[0m\u001b[0m\n\u001b[1;32m    208\u001b[0m             \u001b[0mcallback\u001b[0m\u001b[0;34m(\u001b[0m\u001b[0mresult\u001b[0m\u001b[0;34m)\u001b[0m\u001b[0;34m\u001b[0m\u001b[0;34m\u001b[0m\u001b[0m\n",
            "\u001b[0;32m/usr/local/lib/python3.6/dist-packages/joblib/_parallel_backends.py\u001b[0m in \u001b[0;36m__init__\u001b[0;34m(self, batch)\u001b[0m\n\u001b[1;32m    568\u001b[0m         \u001b[0;31m# Don't delay the application, to avoid keeping the input\u001b[0m\u001b[0;34m\u001b[0m\u001b[0;34m\u001b[0m\u001b[0;34m\u001b[0m\u001b[0m\n\u001b[1;32m    569\u001b[0m         \u001b[0;31m# arguments in memory\u001b[0m\u001b[0;34m\u001b[0m\u001b[0;34m\u001b[0m\u001b[0;34m\u001b[0m\u001b[0m\n\u001b[0;32m--> 570\u001b[0;31m         \u001b[0mself\u001b[0m\u001b[0;34m.\u001b[0m\u001b[0mresults\u001b[0m \u001b[0;34m=\u001b[0m \u001b[0mbatch\u001b[0m\u001b[0;34m(\u001b[0m\u001b[0;34m)\u001b[0m\u001b[0;34m\u001b[0m\u001b[0;34m\u001b[0m\u001b[0m\n\u001b[0m\u001b[1;32m    571\u001b[0m \u001b[0;34m\u001b[0m\u001b[0m\n\u001b[1;32m    572\u001b[0m     \u001b[0;32mdef\u001b[0m \u001b[0mget\u001b[0m\u001b[0;34m(\u001b[0m\u001b[0mself\u001b[0m\u001b[0;34m)\u001b[0m\u001b[0;34m:\u001b[0m\u001b[0;34m\u001b[0m\u001b[0;34m\u001b[0m\u001b[0m\n",
            "\u001b[0;32m/usr/local/lib/python3.6/dist-packages/joblib/parallel.py\u001b[0m in \u001b[0;36m__call__\u001b[0;34m(self)\u001b[0m\n\u001b[1;32m    251\u001b[0m         \u001b[0;32mwith\u001b[0m \u001b[0mparallel_backend\u001b[0m\u001b[0;34m(\u001b[0m\u001b[0mself\u001b[0m\u001b[0;34m.\u001b[0m\u001b[0m_backend\u001b[0m\u001b[0;34m,\u001b[0m \u001b[0mn_jobs\u001b[0m\u001b[0;34m=\u001b[0m\u001b[0mself\u001b[0m\u001b[0;34m.\u001b[0m\u001b[0m_n_jobs\u001b[0m\u001b[0;34m)\u001b[0m\u001b[0;34m:\u001b[0m\u001b[0;34m\u001b[0m\u001b[0;34m\u001b[0m\u001b[0m\n\u001b[1;32m    252\u001b[0m             return [func(*args, **kwargs)\n\u001b[0;32m--> 253\u001b[0;31m                     for func, args, kwargs in self.items]\n\u001b[0m\u001b[1;32m    254\u001b[0m \u001b[0;34m\u001b[0m\u001b[0m\n\u001b[1;32m    255\u001b[0m     \u001b[0;32mdef\u001b[0m \u001b[0m__reduce__\u001b[0m\u001b[0;34m(\u001b[0m\u001b[0mself\u001b[0m\u001b[0;34m)\u001b[0m\u001b[0;34m:\u001b[0m\u001b[0;34m\u001b[0m\u001b[0;34m\u001b[0m\u001b[0m\n",
            "\u001b[0;32m/usr/local/lib/python3.6/dist-packages/joblib/parallel.py\u001b[0m in \u001b[0;36m<listcomp>\u001b[0;34m(.0)\u001b[0m\n\u001b[1;32m    251\u001b[0m         \u001b[0;32mwith\u001b[0m \u001b[0mparallel_backend\u001b[0m\u001b[0;34m(\u001b[0m\u001b[0mself\u001b[0m\u001b[0;34m.\u001b[0m\u001b[0m_backend\u001b[0m\u001b[0;34m,\u001b[0m \u001b[0mn_jobs\u001b[0m\u001b[0;34m=\u001b[0m\u001b[0mself\u001b[0m\u001b[0;34m.\u001b[0m\u001b[0m_n_jobs\u001b[0m\u001b[0;34m)\u001b[0m\u001b[0;34m:\u001b[0m\u001b[0;34m\u001b[0m\u001b[0;34m\u001b[0m\u001b[0m\n\u001b[1;32m    252\u001b[0m             return [func(*args, **kwargs)\n\u001b[0;32m--> 253\u001b[0;31m                     for func, args, kwargs in self.items]\n\u001b[0m\u001b[1;32m    254\u001b[0m \u001b[0;34m\u001b[0m\u001b[0m\n\u001b[1;32m    255\u001b[0m     \u001b[0;32mdef\u001b[0m \u001b[0m__reduce__\u001b[0m\u001b[0;34m(\u001b[0m\u001b[0mself\u001b[0m\u001b[0;34m)\u001b[0m\u001b[0;34m:\u001b[0m\u001b[0;34m\u001b[0m\u001b[0;34m\u001b[0m\u001b[0m\n",
            "\u001b[0;32m/usr/local/lib/python3.6/dist-packages/sklearn/model_selection/_validation.py\u001b[0m in \u001b[0;36m_fit_and_score\u001b[0;34m(estimator, X, y, scorer, train, test, verbose, parameters, fit_params, return_train_score, return_parameters, return_n_test_samples, return_times, return_estimator, error_score)\u001b[0m\n\u001b[1;32m    513\u001b[0m             \u001b[0mestimator\u001b[0m\u001b[0;34m.\u001b[0m\u001b[0mfit\u001b[0m\u001b[0;34m(\u001b[0m\u001b[0mX_train\u001b[0m\u001b[0;34m,\u001b[0m \u001b[0;34m**\u001b[0m\u001b[0mfit_params\u001b[0m\u001b[0;34m)\u001b[0m\u001b[0;34m\u001b[0m\u001b[0;34m\u001b[0m\u001b[0m\n\u001b[1;32m    514\u001b[0m         \u001b[0;32melse\u001b[0m\u001b[0;34m:\u001b[0m\u001b[0;34m\u001b[0m\u001b[0;34m\u001b[0m\u001b[0m\n\u001b[0;32m--> 515\u001b[0;31m             \u001b[0mestimator\u001b[0m\u001b[0;34m.\u001b[0m\u001b[0mfit\u001b[0m\u001b[0;34m(\u001b[0m\u001b[0mX_train\u001b[0m\u001b[0;34m,\u001b[0m \u001b[0my_train\u001b[0m\u001b[0;34m,\u001b[0m \u001b[0;34m**\u001b[0m\u001b[0mfit_params\u001b[0m\u001b[0;34m)\u001b[0m\u001b[0;34m\u001b[0m\u001b[0;34m\u001b[0m\u001b[0m\n\u001b[0m\u001b[1;32m    516\u001b[0m \u001b[0;34m\u001b[0m\u001b[0m\n\u001b[1;32m    517\u001b[0m     \u001b[0;32mexcept\u001b[0m \u001b[0mException\u001b[0m \u001b[0;32mas\u001b[0m \u001b[0me\u001b[0m\u001b[0;34m:\u001b[0m\u001b[0;34m\u001b[0m\u001b[0;34m\u001b[0m\u001b[0m\n",
            "\u001b[0;32m/usr/local/lib/python3.6/dist-packages/tensorflow/python/keras/wrappers/scikit_learn.py\u001b[0m in \u001b[0;36mfit\u001b[0;34m(self, x, y, **kwargs)\u001b[0m\n\u001b[1;32m    221\u001b[0m       \u001b[0;32mraise\u001b[0m \u001b[0mValueError\u001b[0m\u001b[0;34m(\u001b[0m\u001b[0;34m'Invalid shape for y: '\u001b[0m \u001b[0;34m+\u001b[0m \u001b[0mstr\u001b[0m\u001b[0;34m(\u001b[0m\u001b[0my\u001b[0m\u001b[0;34m.\u001b[0m\u001b[0mshape\u001b[0m\u001b[0;34m)\u001b[0m\u001b[0;34m)\u001b[0m\u001b[0;34m\u001b[0m\u001b[0;34m\u001b[0m\u001b[0m\n\u001b[1;32m    222\u001b[0m     \u001b[0mself\u001b[0m\u001b[0;34m.\u001b[0m\u001b[0mn_classes_\u001b[0m \u001b[0;34m=\u001b[0m \u001b[0mlen\u001b[0m\u001b[0;34m(\u001b[0m\u001b[0mself\u001b[0m\u001b[0;34m.\u001b[0m\u001b[0mclasses_\u001b[0m\u001b[0;34m)\u001b[0m\u001b[0;34m\u001b[0m\u001b[0;34m\u001b[0m\u001b[0m\n\u001b[0;32m--> 223\u001b[0;31m     \u001b[0;32mreturn\u001b[0m \u001b[0msuper\u001b[0m\u001b[0;34m(\u001b[0m\u001b[0mKerasClassifier\u001b[0m\u001b[0;34m,\u001b[0m \u001b[0mself\u001b[0m\u001b[0;34m)\u001b[0m\u001b[0;34m.\u001b[0m\u001b[0mfit\u001b[0m\u001b[0;34m(\u001b[0m\u001b[0mx\u001b[0m\u001b[0;34m,\u001b[0m \u001b[0my\u001b[0m\u001b[0;34m,\u001b[0m \u001b[0;34m**\u001b[0m\u001b[0mkwargs\u001b[0m\u001b[0;34m)\u001b[0m\u001b[0;34m\u001b[0m\u001b[0;34m\u001b[0m\u001b[0m\n\u001b[0m\u001b[1;32m    224\u001b[0m \u001b[0;34m\u001b[0m\u001b[0m\n\u001b[1;32m    225\u001b[0m   \u001b[0;32mdef\u001b[0m \u001b[0mpredict\u001b[0m\u001b[0;34m(\u001b[0m\u001b[0mself\u001b[0m\u001b[0;34m,\u001b[0m \u001b[0mx\u001b[0m\u001b[0;34m,\u001b[0m \u001b[0;34m**\u001b[0m\u001b[0mkwargs\u001b[0m\u001b[0;34m)\u001b[0m\u001b[0;34m:\u001b[0m\u001b[0;34m\u001b[0m\u001b[0;34m\u001b[0m\u001b[0m\n",
            "\u001b[0;32m/usr/local/lib/python3.6/dist-packages/tensorflow/python/keras/wrappers/scikit_learn.py\u001b[0m in \u001b[0;36mfit\u001b[0;34m(self, x, y, **kwargs)\u001b[0m\n\u001b[1;32m    164\u001b[0m     \u001b[0mfit_args\u001b[0m\u001b[0;34m.\u001b[0m\u001b[0mupdate\u001b[0m\u001b[0;34m(\u001b[0m\u001b[0mkwargs\u001b[0m\u001b[0;34m)\u001b[0m\u001b[0;34m\u001b[0m\u001b[0;34m\u001b[0m\u001b[0m\n\u001b[1;32m    165\u001b[0m \u001b[0;34m\u001b[0m\u001b[0m\n\u001b[0;32m--> 166\u001b[0;31m     \u001b[0mhistory\u001b[0m \u001b[0;34m=\u001b[0m \u001b[0mself\u001b[0m\u001b[0;34m.\u001b[0m\u001b[0mmodel\u001b[0m\u001b[0;34m.\u001b[0m\u001b[0mfit\u001b[0m\u001b[0;34m(\u001b[0m\u001b[0mx\u001b[0m\u001b[0;34m,\u001b[0m \u001b[0my\u001b[0m\u001b[0;34m,\u001b[0m \u001b[0;34m**\u001b[0m\u001b[0mfit_args\u001b[0m\u001b[0;34m)\u001b[0m\u001b[0;34m\u001b[0m\u001b[0;34m\u001b[0m\u001b[0m\n\u001b[0m\u001b[1;32m    167\u001b[0m \u001b[0;34m\u001b[0m\u001b[0m\n\u001b[1;32m    168\u001b[0m     \u001b[0;32mreturn\u001b[0m \u001b[0mhistory\u001b[0m\u001b[0;34m\u001b[0m\u001b[0;34m\u001b[0m\u001b[0m\n",
            "\u001b[0;32m/usr/local/lib/python3.6/dist-packages/tensorflow/python/keras/engine/training.py\u001b[0m in \u001b[0;36m_method_wrapper\u001b[0;34m(self, *args, **kwargs)\u001b[0m\n\u001b[1;32m     64\u001b[0m   \u001b[0;32mdef\u001b[0m \u001b[0m_method_wrapper\u001b[0m\u001b[0;34m(\u001b[0m\u001b[0mself\u001b[0m\u001b[0;34m,\u001b[0m \u001b[0;34m*\u001b[0m\u001b[0margs\u001b[0m\u001b[0;34m,\u001b[0m \u001b[0;34m**\u001b[0m\u001b[0mkwargs\u001b[0m\u001b[0;34m)\u001b[0m\u001b[0;34m:\u001b[0m\u001b[0;34m\u001b[0m\u001b[0;34m\u001b[0m\u001b[0m\n\u001b[1;32m     65\u001b[0m     \u001b[0;32mif\u001b[0m \u001b[0;32mnot\u001b[0m \u001b[0mself\u001b[0m\u001b[0;34m.\u001b[0m\u001b[0m_in_multi_worker_mode\u001b[0m\u001b[0;34m(\u001b[0m\u001b[0;34m)\u001b[0m\u001b[0;34m:\u001b[0m  \u001b[0;31m# pylint: disable=protected-access\u001b[0m\u001b[0;34m\u001b[0m\u001b[0;34m\u001b[0m\u001b[0m\n\u001b[0;32m---> 66\u001b[0;31m       \u001b[0;32mreturn\u001b[0m \u001b[0mmethod\u001b[0m\u001b[0;34m(\u001b[0m\u001b[0mself\u001b[0m\u001b[0;34m,\u001b[0m \u001b[0;34m*\u001b[0m\u001b[0margs\u001b[0m\u001b[0;34m,\u001b[0m \u001b[0;34m**\u001b[0m\u001b[0mkwargs\u001b[0m\u001b[0;34m)\u001b[0m\u001b[0;34m\u001b[0m\u001b[0;34m\u001b[0m\u001b[0m\n\u001b[0m\u001b[1;32m     67\u001b[0m \u001b[0;34m\u001b[0m\u001b[0m\n\u001b[1;32m     68\u001b[0m     \u001b[0;31m# Running inside `run_distribute_coordinator` already.\u001b[0m\u001b[0;34m\u001b[0m\u001b[0;34m\u001b[0m\u001b[0;34m\u001b[0m\u001b[0m\n",
            "\u001b[0;32m/usr/local/lib/python3.6/dist-packages/tensorflow/python/keras/engine/training.py\u001b[0m in \u001b[0;36mfit\u001b[0;34m(self, x, y, batch_size, epochs, verbose, callbacks, validation_split, validation_data, shuffle, class_weight, sample_weight, initial_epoch, steps_per_epoch, validation_steps, validation_batch_size, validation_freq, max_queue_size, workers, use_multiprocessing)\u001b[0m\n\u001b[1;32m    813\u001b[0m           \u001b[0mworkers\u001b[0m\u001b[0;34m=\u001b[0m\u001b[0mworkers\u001b[0m\u001b[0;34m,\u001b[0m\u001b[0;34m\u001b[0m\u001b[0;34m\u001b[0m\u001b[0m\n\u001b[1;32m    814\u001b[0m           \u001b[0muse_multiprocessing\u001b[0m\u001b[0;34m=\u001b[0m\u001b[0muse_multiprocessing\u001b[0m\u001b[0;34m,\u001b[0m\u001b[0;34m\u001b[0m\u001b[0;34m\u001b[0m\u001b[0m\n\u001b[0;32m--> 815\u001b[0;31m           model=self)\n\u001b[0m\u001b[1;32m    816\u001b[0m \u001b[0;34m\u001b[0m\u001b[0m\n\u001b[1;32m    817\u001b[0m       \u001b[0;31m# Container that configures and calls `tf.keras.Callback`s.\u001b[0m\u001b[0;34m\u001b[0m\u001b[0;34m\u001b[0m\u001b[0;34m\u001b[0m\u001b[0m\n",
            "\u001b[0;32m/usr/local/lib/python3.6/dist-packages/tensorflow/python/keras/engine/data_adapter.py\u001b[0m in \u001b[0;36m__init__\u001b[0;34m(self, x, y, sample_weight, batch_size, steps_per_epoch, initial_epoch, epochs, shuffle, class_weight, max_queue_size, workers, use_multiprocessing, model)\u001b[0m\n\u001b[1;32m   1110\u001b[0m         \u001b[0muse_multiprocessing\u001b[0m\u001b[0;34m=\u001b[0m\u001b[0muse_multiprocessing\u001b[0m\u001b[0;34m,\u001b[0m\u001b[0;34m\u001b[0m\u001b[0;34m\u001b[0m\u001b[0m\n\u001b[1;32m   1111\u001b[0m         \u001b[0mdistribution_strategy\u001b[0m\u001b[0;34m=\u001b[0m\u001b[0mds_context\u001b[0m\u001b[0;34m.\u001b[0m\u001b[0mget_strategy\u001b[0m\u001b[0;34m(\u001b[0m\u001b[0;34m)\u001b[0m\u001b[0;34m,\u001b[0m\u001b[0;34m\u001b[0m\u001b[0;34m\u001b[0m\u001b[0m\n\u001b[0;32m-> 1112\u001b[0;31m         model=model)\n\u001b[0m\u001b[1;32m   1113\u001b[0m \u001b[0;34m\u001b[0m\u001b[0m\n\u001b[1;32m   1114\u001b[0m     \u001b[0mstrategy\u001b[0m \u001b[0;34m=\u001b[0m \u001b[0mds_context\u001b[0m\u001b[0;34m.\u001b[0m\u001b[0mget_strategy\u001b[0m\u001b[0;34m(\u001b[0m\u001b[0;34m)\u001b[0m\u001b[0;34m\u001b[0m\u001b[0;34m\u001b[0m\u001b[0m\n",
            "\u001b[0;32m/usr/local/lib/python3.6/dist-packages/tensorflow/python/keras/engine/data_adapter.py\u001b[0m in \u001b[0;36m__init__\u001b[0;34m(self, x, y, sample_weights, sample_weight_modes, batch_size, epochs, steps, shuffle, **kwargs)\u001b[0m\n\u001b[1;32m    362\u001b[0m     \u001b[0mindices_dataset\u001b[0m \u001b[0;34m=\u001b[0m \u001b[0mindices_dataset\u001b[0m\u001b[0;34m.\u001b[0m\u001b[0mflat_map\u001b[0m\u001b[0;34m(\u001b[0m\u001b[0mslice_batch_indices\u001b[0m\u001b[0;34m)\u001b[0m\u001b[0;34m\u001b[0m\u001b[0;34m\u001b[0m\u001b[0m\n\u001b[1;32m    363\u001b[0m \u001b[0;34m\u001b[0m\u001b[0m\n\u001b[0;32m--> 364\u001b[0;31m     \u001b[0mdataset\u001b[0m \u001b[0;34m=\u001b[0m \u001b[0mself\u001b[0m\u001b[0;34m.\u001b[0m\u001b[0mslice_inputs\u001b[0m\u001b[0;34m(\u001b[0m\u001b[0mindices_dataset\u001b[0m\u001b[0;34m,\u001b[0m \u001b[0minputs\u001b[0m\u001b[0;34m)\u001b[0m\u001b[0;34m\u001b[0m\u001b[0;34m\u001b[0m\u001b[0m\n\u001b[0m\u001b[1;32m    365\u001b[0m \u001b[0;34m\u001b[0m\u001b[0m\n\u001b[1;32m    366\u001b[0m     \u001b[0;32mif\u001b[0m \u001b[0mshuffle\u001b[0m \u001b[0;34m==\u001b[0m \u001b[0;34m\"batch\"\u001b[0m\u001b[0;34m:\u001b[0m\u001b[0;34m\u001b[0m\u001b[0;34m\u001b[0m\u001b[0m\n",
            "\u001b[0;32m/usr/local/lib/python3.6/dist-packages/tensorflow/python/keras/engine/data_adapter.py\u001b[0m in \u001b[0;36mslice_inputs\u001b[0;34m(self, indices_dataset, inputs)\u001b[0m\n\u001b[1;32m    395\u001b[0m \u001b[0;34m\u001b[0m\u001b[0m\n\u001b[1;32m    396\u001b[0m     dataset = dataset.map(\n\u001b[0;32m--> 397\u001b[0;31m         grab_batch, num_parallel_calls=dataset_ops.AUTOTUNE)\n\u001b[0m\u001b[1;32m    398\u001b[0m \u001b[0;34m\u001b[0m\u001b[0m\n\u001b[1;32m    399\u001b[0m     \u001b[0;31m# Default optimizations are disabled to avoid the overhead of (unnecessary)\u001b[0m\u001b[0;34m\u001b[0m\u001b[0;34m\u001b[0m\u001b[0;34m\u001b[0m\u001b[0m\n",
            "\u001b[0;32m/usr/local/lib/python3.6/dist-packages/tensorflow/python/data/ops/dataset_ops.py\u001b[0m in \u001b[0;36mmap\u001b[0;34m(self, map_func, num_parallel_calls, deterministic)\u001b[0m\n\u001b[1;32m   1626\u001b[0m           \u001b[0mnum_parallel_calls\u001b[0m\u001b[0;34m,\u001b[0m\u001b[0;34m\u001b[0m\u001b[0;34m\u001b[0m\u001b[0m\n\u001b[1;32m   1627\u001b[0m           \u001b[0mdeterministic\u001b[0m\u001b[0;34m,\u001b[0m\u001b[0;34m\u001b[0m\u001b[0;34m\u001b[0m\u001b[0m\n\u001b[0;32m-> 1628\u001b[0;31m           preserve_cardinality=True)\n\u001b[0m\u001b[1;32m   1629\u001b[0m \u001b[0;34m\u001b[0m\u001b[0m\n\u001b[1;32m   1630\u001b[0m   \u001b[0;32mdef\u001b[0m \u001b[0mflat_map\u001b[0m\u001b[0;34m(\u001b[0m\u001b[0mself\u001b[0m\u001b[0;34m,\u001b[0m \u001b[0mmap_func\u001b[0m\u001b[0;34m)\u001b[0m\u001b[0;34m:\u001b[0m\u001b[0;34m\u001b[0m\u001b[0;34m\u001b[0m\u001b[0m\n",
            "\u001b[0;32m/usr/local/lib/python3.6/dist-packages/tensorflow/python/data/ops/dataset_ops.py\u001b[0m in \u001b[0;36m__init__\u001b[0;34m(self, input_dataset, map_func, num_parallel_calls, deterministic, use_inter_op_parallelism, preserve_cardinality, use_legacy_function)\u001b[0m\n\u001b[1;32m   4048\u001b[0m           \u001b[0muse_inter_op_parallelism\u001b[0m\u001b[0;34m=\u001b[0m\u001b[0mself\u001b[0m\u001b[0;34m.\u001b[0m\u001b[0m_use_inter_op_parallelism\u001b[0m\u001b[0;34m,\u001b[0m\u001b[0;34m\u001b[0m\u001b[0;34m\u001b[0m\u001b[0m\n\u001b[1;32m   4049\u001b[0m           \u001b[0mpreserve_cardinality\u001b[0m\u001b[0;34m=\u001b[0m\u001b[0mself\u001b[0m\u001b[0;34m.\u001b[0m\u001b[0m_preserve_cardinality\u001b[0m\u001b[0;34m,\u001b[0m\u001b[0;34m\u001b[0m\u001b[0;34m\u001b[0m\u001b[0m\n\u001b[0;32m-> 4050\u001b[0;31m           **self._flat_structure)\n\u001b[0m\u001b[1;32m   4051\u001b[0m     \u001b[0msuper\u001b[0m\u001b[0;34m(\u001b[0m\u001b[0mParallelMapDataset\u001b[0m\u001b[0;34m,\u001b[0m \u001b[0mself\u001b[0m\u001b[0;34m)\u001b[0m\u001b[0;34m.\u001b[0m\u001b[0m__init__\u001b[0m\u001b[0;34m(\u001b[0m\u001b[0minput_dataset\u001b[0m\u001b[0;34m,\u001b[0m \u001b[0mvariant_tensor\u001b[0m\u001b[0;34m)\u001b[0m\u001b[0;34m\u001b[0m\u001b[0;34m\u001b[0m\u001b[0m\n\u001b[1;32m   4052\u001b[0m \u001b[0;34m\u001b[0m\u001b[0m\n",
            "\u001b[0;32m/usr/local/lib/python3.6/dist-packages/tensorflow/python/ops/gen_dataset_ops.py\u001b[0m in \u001b[0;36mparallel_map_dataset\u001b[0;34m(input_dataset, other_arguments, num_parallel_calls, f, output_types, output_shapes, use_inter_op_parallelism, sloppy, preserve_cardinality, name)\u001b[0m\n\u001b[1;32m   4678\u001b[0m         \u001b[0;34m\"f\"\u001b[0m\u001b[0;34m,\u001b[0m \u001b[0mf\u001b[0m\u001b[0;34m,\u001b[0m \u001b[0;34m\"output_types\"\u001b[0m\u001b[0;34m,\u001b[0m \u001b[0moutput_types\u001b[0m\u001b[0;34m,\u001b[0m \u001b[0;34m\"output_shapes\"\u001b[0m\u001b[0;34m,\u001b[0m \u001b[0moutput_shapes\u001b[0m\u001b[0;34m,\u001b[0m\u001b[0;34m\u001b[0m\u001b[0;34m\u001b[0m\u001b[0m\n\u001b[1;32m   4679\u001b[0m         \u001b[0;34m\"use_inter_op_parallelism\"\u001b[0m\u001b[0;34m,\u001b[0m \u001b[0muse_inter_op_parallelism\u001b[0m\u001b[0;34m,\u001b[0m \u001b[0;34m\"sloppy\"\u001b[0m\u001b[0;34m,\u001b[0m\u001b[0;34m\u001b[0m\u001b[0;34m\u001b[0m\u001b[0m\n\u001b[0;32m-> 4680\u001b[0;31m         sloppy, \"preserve_cardinality\", preserve_cardinality)\n\u001b[0m\u001b[1;32m   4681\u001b[0m       \u001b[0;32mreturn\u001b[0m \u001b[0m_result\u001b[0m\u001b[0;34m\u001b[0m\u001b[0;34m\u001b[0m\u001b[0m\n\u001b[1;32m   4682\u001b[0m     \u001b[0;32mexcept\u001b[0m \u001b[0m_core\u001b[0m\u001b[0;34m.\u001b[0m\u001b[0m_FallbackException\u001b[0m\u001b[0;34m:\u001b[0m\u001b[0;34m\u001b[0m\u001b[0;34m\u001b[0m\u001b[0m\n",
            "\u001b[0;31mKeyboardInterrupt\u001b[0m: "
          ]
        }
      ]
    },
    {
      "cell_type": "code",
      "metadata": {
        "id": "5F82HI976MbH",
        "colab_type": "code",
        "colab": {}
      },
      "source": [
        "# Can I beat the best from above? Best: 0.627141 using {'batch_size': 1, 'epochs': 30, 'input_dim': 300, 'lyrs': (128, 1)}\n",
        "up.grid_search([[128,1], [256, 1], [512, 1]], [20, 30, 40, 50, 100], X_train, Y_train)"
      ],
      "execution_count": 0,
      "outputs": []
    },
    {
      "cell_type": "code",
      "metadata": {
        "id": "TBXOk_a-VX3_",
        "colab_type": "code",
        "outputId": "f23540ba-d699-4d40-bec4-c6a993a4eba1",
        "colab": {
          "base_uri": "https://localhost:8080/",
          "height": 513
        }
      },
      "source": [
        "# Choosing the best model\n",
        "m = up.ann_build_model(300, [128,1]) \n",
        "\n",
        "# The best epochs\n",
        "training = up.ann_train(m, X_train, Y_train, 30) \n",
        "\n",
        "#Plot looks wrong..."
      ],
      "execution_count": 35,
      "outputs": [
        {
          "output_type": "display_data",
          "data": {
            "image/png": "[encoded data removed]",
            "text/plain": [
              "<Figure size 720x576 with 1 Axes>"
            ]
          },
          "metadata": {
            "tags": [],
            "needs_background": "light"
          }
        }
      ]
    },
    {
      "cell_type": "code",
      "metadata": {
        "id": "TSRrIwVdyp2U",
        "colab_type": "code",
        "outputId": "9fd0d675-7c80-4c8c-ee2c-9264e81544bc",
        "colab": {
          "base_uri": "https://localhost:8080/",
          "height": 35
        }
      },
      "source": [
        "# Predictions\n",
        "raw_predictions = m.predict(X_test)\n",
        "predictions = [int(round(x[0])) for x in raw_predictions]\n",
        "cases = list(zip(predictions, Y_test))\n",
        "\n",
        "(cases.count((0,0)) + cases.count((1,1)))/len(X_test)"
      ],
      "execution_count": 36,
      "outputs": [
        {
          "output_type": "execute_result",
          "data": {
            "text/plain": [
              "0.6164383561643836"
            ]
          },
          "metadata": {
            "tags": []
          },
          "execution_count": 36
        }
      ]
    }
  ]
}