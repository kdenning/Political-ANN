{
  "nbformat": 4,
  "nbformat_minor": 0,
  "metadata": {
    "colab": {
      "name": "CIS_Final.ipynb",
      "provenance": [],
      "toc_visible": true,
      "include_colab_link": true
    },
    "kernelspec": {
      "name": "python3",
      "display_name": "Python 3"
    }
  },
  "cells": [
    {
      "cell_type": "markdown",
      "metadata": {
        "id": "view-in-github",
        "colab_type": "text"
      },
      "source": [
        "<a href=\"https://colab.research.google.com/github/kdenning/Political-ANN/blob/master/CIS_Final.ipynb\" target=\"_parent\"><img src=\"https://colab.research.google.com/assets/colab-badge.svg\" alt=\"Open In Colab\"/></a>"
      ]
    },
    {
      "cell_type": "markdown",
      "metadata": {
        "id": "d0Sl_g50ooZM",
        "colab_type": "text"
      },
      "source": [
        "# **Predicting voting preference using ANN**"
      ]
    },
    {
      "cell_type": "markdown",
      "metadata": {
        "id": "m2re77egHPhl",
        "colab_type": "text"
      },
      "source": [
        "\n",
        "\n",
        "# Background\n",
        "\n",
        "## Research Question\n",
        "\n",
        "Can participant voter preference be predicted by the language they use to describe a target individual who is in their political out-group using an Artificial Neural Network (ANN) algorithm?\n",
        "\n",
        "## Data\n",
        "\n",
        "In this project, I used a dataset collected shortly after the U.S. 2016 Presidential Election. The initial purpose of this study was to examine whether a perspective taking manipulation would reduce the amount people stereotype their political out-group and increase the amount they see out-group targets as similiar to themselves. The out-group target in this particular study was a white women named Jen who appeared to be in her mid-thirties, picked because she fit with a population that swung between voting for both Trump and Clinton. The perspective taking manipulation administered was unsucessful as determined by a manipulation check that found no difference between perspective taking or control instructions. However, all participants wrote about the typical day in the life of Jen (just with people in the perspective taking condition being provided additional instructions to put themselves in the \"other person's shoes\"). These narratives were open-ended and could be as long or as short as the participant desired.\n",
        "\n",
        "## How the text data will be used\n",
        "\n",
        "I am going to take each word in each participant's narrative and find a GloVe (Global Vectors for Word Representation) vector for it. GloVe vectors provide context for each word, specifically finding the numerical representation of the 300 words contextually closest to that word. More information on GloVE vectors can be found [here](https://nlp.stanford.edu/projects/glove/). I will only be using words that are alpha words and not stop words according to Spacy's dictionary. GloVe vectors are also already a part of Spacy's nlp. \n",
        "\n"
      ]
    },
    {
      "cell_type": "markdown",
      "metadata": {
        "id": "aMQ81P68oxMu",
        "colab_type": "text"
      },
      "source": [
        "\n"
      ]
    },
    {
      "cell_type": "markdown",
      "metadata": {
        "id": "_gk8oMpzZO-g",
        "colab_type": "text"
      },
      "source": [
        "# **Data Set-up**"
      ]
    },
    {
      "cell_type": "code",
      "metadata": {
        "id": "4_0ycfDAhsSS",
        "colab_type": "code",
        "outputId": "161b0561-987d-4cc6-d028-2fbced68399e",
        "colab": {
          "base_uri": "https://localhost:8080/",
          "height": 289
        }
      },
      "source": [
        "# importing the data\n",
        "import pandas as pd\n",
        "outgroups = 'https://docs.google.com/spreadsheets/d/e/2PACX-1vTwyrGxIIFsk-dZ8ovO8XMTLhO0_MV6fZQz8MrPqrevtN0Oi2PLm6G-I5g9Xg-o7BxbuxY5hYGmj_nL/pub?output=csv'\n",
        "pt_table = pd.read_csv(outgroups, error_bad_lines=False, encoding='utf-8', delimiter=\",\")\n",
        "pd.set_option('display.max_columns', None)\n",
        "pt_table.head()"
      ],
      "execution_count": 51,
      "outputs": [
        {
          "output_type": "execute_result",
          "data": {
            "text/html": [
              "<div>\n",
              "<style scoped>\n",
              "    .dataframe tbody tr th:only-of-type {\n",
              "        vertical-align: middle;\n",
              "    }\n",
              "\n",
              "    .dataframe tbody tr th {\n",
              "        vertical-align: top;\n",
              "    }\n",
              "\n",
              "    .dataframe thead th {\n",
              "        text-align: right;\n",
              "    }\n",
              "</style>\n",
              "<table border=\"1\" class=\"dataframe\">\n",
              "  <thead>\n",
              "    <tr style=\"text-align: right;\">\n",
              "      <th></th>\n",
              "      <th>subid</th>\n",
              "      <th>PoliOrient_1</th>\n",
              "      <th>VotePref</th>\n",
              "      <th>Day_Clin_Out_PT</th>\n",
              "      <th>Day_Clin_Out_C</th>\n",
              "      <th>Day_Trump_Out_PT</th>\n",
              "      <th>Day_Trump_Out_C</th>\n",
              "    </tr>\n",
              "  </thead>\n",
              "  <tbody>\n",
              "    <tr>\n",
              "      <th>0</th>\n",
              "      <td>1</td>\n",
              "      <td>2</td>\n",
              "      <td>1</td>\n",
              "      <td>NaN</td>\n",
              "      <td>Jen gets up and feeds her 5 kids. She goes to ...</td>\n",
              "      <td>NaN</td>\n",
              "      <td>NaN</td>\n",
              "    </tr>\n",
              "    <tr>\n",
              "      <th>1</th>\n",
              "      <td>4</td>\n",
              "      <td>5</td>\n",
              "      <td>2</td>\n",
              "      <td>NaN</td>\n",
              "      <td>NaN</td>\n",
              "      <td>NaN</td>\n",
              "      <td>I BELIEVE A TYPICAL DAY FOR JEN IS FILLED WITH...</td>\n",
              "    </tr>\n",
              "    <tr>\n",
              "      <th>2</th>\n",
              "      <td>8</td>\n",
              "      <td>2</td>\n",
              "      <td>1</td>\n",
              "      <td>Jen is a SAHM with four kids. She gets up ever...</td>\n",
              "      <td>NaN</td>\n",
              "      <td>NaN</td>\n",
              "      <td>NaN</td>\n",
              "    </tr>\n",
              "    <tr>\n",
              "      <th>3</th>\n",
              "      <td>9</td>\n",
              "      <td>2</td>\n",
              "      <td>1</td>\n",
              "      <td>NaN</td>\n",
              "      <td>She is a housewife and mother to a large famil...</td>\n",
              "      <td>NaN</td>\n",
              "      <td>NaN</td>\n",
              "    </tr>\n",
              "    <tr>\n",
              "      <th>4</th>\n",
              "      <td>14</td>\n",
              "      <td>3</td>\n",
              "      <td>2</td>\n",
              "      <td>NaN</td>\n",
              "      <td>NaN</td>\n",
              "      <td>NaN</td>\n",
              "      <td>Jen's typical day consists of teaching her Gen...</td>\n",
              "    </tr>\n",
              "  </tbody>\n",
              "</table>\n",
              "</div>"
            ],
            "text/plain": [
              "   subid  PoliOrient_1  VotePref  \\\n",
              "0      1             2         1   \n",
              "1      4             5         2   \n",
              "2      8             2         1   \n",
              "3      9             2         1   \n",
              "4     14             3         2   \n",
              "\n",
              "                                     Day_Clin_Out_PT  \\\n",
              "0                                                NaN   \n",
              "1                                                NaN   \n",
              "2  Jen is a SAHM with four kids. She gets up ever...   \n",
              "3                                                NaN   \n",
              "4                                                NaN   \n",
              "\n",
              "                                      Day_Clin_Out_C Day_Trump_Out_PT  \\\n",
              "0  Jen gets up and feeds her 5 kids. She goes to ...              NaN   \n",
              "1                                                NaN              NaN   \n",
              "2                                                NaN              NaN   \n",
              "3  She is a housewife and mother to a large famil...              NaN   \n",
              "4                                                NaN              NaN   \n",
              "\n",
              "                                     Day_Trump_Out_C  \n",
              "0                                                NaN  \n",
              "1  I BELIEVE A TYPICAL DAY FOR JEN IS FILLED WITH...  \n",
              "2                                                NaN  \n",
              "3                                                NaN  \n",
              "4  Jen's typical day consists of teaching her Gen...  "
            ]
          },
          "metadata": {
            "tags": []
          },
          "execution_count": 51
        }
      ]
    },
    {
      "cell_type": "code",
      "metadata": {
        "id": "eApK1XCYYkJ8",
        "colab_type": "code",
        "outputId": "9348c70b-37a4-45a4-9b8c-b4453e998d10",
        "colab": {
          "base_uri": "https://localhost:8080/",
          "height": 260
        }
      },
      "source": [
        "# getting data in long format\n",
        "table_long = pd.melt(pt_table, id_vars=['subid', 'VotePref'], value_vars=['Day_Clin_Out_PT', 'Day_Clin_Out_C', 'Day_Trump_Out_PT', 'Day_Trump_Out_C'])\n",
        "# removing NaN's\n",
        "long_nonan = table_long.dropna()\n",
        "# checking the data looks right and is the right number of rows; should be 382\n",
        "print(long_nonan.head())\n",
        "print(len(long_nonan))"
      ],
      "execution_count": 52,
      "outputs": [
        {
          "output_type": "stream",
          "text": [
            "    subid  VotePref         variable  \\\n",
            "2       8         1  Day_Clin_Out_PT   \n",
            "6      16         1  Day_Clin_Out_PT   \n",
            "7      17         1  Day_Clin_Out_PT   \n",
            "11     26         1  Day_Clin_Out_PT   \n",
            "17     41         1  Day_Clin_Out_PT   \n",
            "\n",
            "                                                value  \n",
            "2   Jen is a SAHM with four kids. She gets up ever...  \n",
            "6   Jen started her day on Facebook railing agains...  \n",
            "7   Jen typical day is taking her kids to school. ...  \n",
            "11  Jen continues to tune into the most local poli...  \n",
            "17  Jen is a nurse in an E.R in Montana. She works...  \n",
            "382\n"
          ],
          "name": "stdout"
        }
      ]
    },
    {
      "cell_type": "code",
      "metadata": {
        "id": "IWq82TxTduyp",
        "colab_type": "code",
        "outputId": "2c1dc42d-faf0-493a-fe89-d9040f283156",
        "colab": {
          "base_uri": "https://localhost:8080/",
          "height": 104
        }
      },
      "source": [
        "# Looking at the types of variables in my set, so that I can recode VotPref using the correct function\n",
        "print(long_nonan.dtypes)"
      ],
      "execution_count": 53,
      "outputs": [
        {
          "output_type": "stream",
          "text": [
            "subid        int64\n",
            "VotePref     int64\n",
            "variable    object\n",
            "value       object\n",
            "dtype: object\n"
          ],
          "name": "stdout"
        }
      ]
    },
    {
      "cell_type": "code",
      "metadata": {
        "id": "Tp7FbYzfcbd3",
        "colab_type": "code",
        "outputId": "1368fc03-96d2-4385-9d8a-42130826270a",
        "colab": {
          "base_uri": "https://localhost:8080/",
          "height": 415
        }
      },
      "source": [
        "# make the outcome variable binary (1, 0)\n",
        "binary = long_nonan.replace({'VotePref': 2}, 0) # Now 1 = voted for Clinton, 0 = voted for Trump\n",
        "binary"
      ],
      "execution_count": 54,
      "outputs": [
        {
          "output_type": "execute_result",
          "data": {
            "text/html": [
              "<div>\n",
              "<style scoped>\n",
              "    .dataframe tbody tr th:only-of-type {\n",
              "        vertical-align: middle;\n",
              "    }\n",
              "\n",
              "    .dataframe tbody tr th {\n",
              "        vertical-align: top;\n",
              "    }\n",
              "\n",
              "    .dataframe thead th {\n",
              "        text-align: right;\n",
              "    }\n",
              "</style>\n",
              "<table border=\"1\" class=\"dataframe\">\n",
              "  <thead>\n",
              "    <tr style=\"text-align: right;\">\n",
              "      <th></th>\n",
              "      <th>subid</th>\n",
              "      <th>VotePref</th>\n",
              "      <th>variable</th>\n",
              "      <th>value</th>\n",
              "    </tr>\n",
              "  </thead>\n",
              "  <tbody>\n",
              "    <tr>\n",
              "      <th>2</th>\n",
              "      <td>8</td>\n",
              "      <td>1</td>\n",
              "      <td>Day_Clin_Out_PT</td>\n",
              "      <td>Jen is a SAHM with four kids. She gets up ever...</td>\n",
              "    </tr>\n",
              "    <tr>\n",
              "      <th>6</th>\n",
              "      <td>16</td>\n",
              "      <td>1</td>\n",
              "      <td>Day_Clin_Out_PT</td>\n",
              "      <td>Jen started her day on Facebook railing agains...</td>\n",
              "    </tr>\n",
              "    <tr>\n",
              "      <th>7</th>\n",
              "      <td>17</td>\n",
              "      <td>1</td>\n",
              "      <td>Day_Clin_Out_PT</td>\n",
              "      <td>Jen typical day is taking her kids to school. ...</td>\n",
              "    </tr>\n",
              "    <tr>\n",
              "      <th>11</th>\n",
              "      <td>26</td>\n",
              "      <td>1</td>\n",
              "      <td>Day_Clin_Out_PT</td>\n",
              "      <td>Jen continues to tune into the most local poli...</td>\n",
              "    </tr>\n",
              "    <tr>\n",
              "      <th>17</th>\n",
              "      <td>41</td>\n",
              "      <td>1</td>\n",
              "      <td>Day_Clin_Out_PT</td>\n",
              "      <td>Jen is a nurse in an E.R in Montana. She works...</td>\n",
              "    </tr>\n",
              "    <tr>\n",
              "      <th>...</th>\n",
              "      <td>...</td>\n",
              "      <td>...</td>\n",
              "      <td>...</td>\n",
              "      <td>...</td>\n",
              "    </tr>\n",
              "    <tr>\n",
              "      <th>1505</th>\n",
              "      <td>764</td>\n",
              "      <td>0</td>\n",
              "      <td>Day_Trump_Out_C</td>\n",
              "      <td>Jen wakes up, turns on CNN to get her talking ...</td>\n",
              "    </tr>\n",
              "    <tr>\n",
              "      <th>1509</th>\n",
              "      <td>769</td>\n",
              "      <td>0</td>\n",
              "      <td>Day_Trump_Out_C</td>\n",
              "      <td>Lives in the city. Wakes up, drive a compact c...</td>\n",
              "    </tr>\n",
              "    <tr>\n",
              "      <th>1513</th>\n",
              "      <td>778</td>\n",
              "      <td>0</td>\n",
              "      <td>Day_Trump_Out_C</td>\n",
              "      <td>She gets up and goes to work.\\nShe is sadden b...</td>\n",
              "    </tr>\n",
              "    <tr>\n",
              "      <th>1518</th>\n",
              "      <td>790</td>\n",
              "      <td>0</td>\n",
              "      <td>Day_Trump_Out_C</td>\n",
              "      <td>Jen just got done fighting a crowd of Right ...</td>\n",
              "    </tr>\n",
              "    <tr>\n",
              "      <th>1526</th>\n",
              "      <td>807</td>\n",
              "      <td>0</td>\n",
              "      <td>Day_Trump_Out_C</td>\n",
              "      <td>Jen is a mother of two girls.  Her husband wor...</td>\n",
              "    </tr>\n",
              "  </tbody>\n",
              "</table>\n",
              "<p>382 rows × 4 columns</p>\n",
              "</div>"
            ],
            "text/plain": [
              "      subid  VotePref         variable  \\\n",
              "2         8         1  Day_Clin_Out_PT   \n",
              "6        16         1  Day_Clin_Out_PT   \n",
              "7        17         1  Day_Clin_Out_PT   \n",
              "11       26         1  Day_Clin_Out_PT   \n",
              "17       41         1  Day_Clin_Out_PT   \n",
              "...     ...       ...              ...   \n",
              "1505    764         0  Day_Trump_Out_C   \n",
              "1509    769         0  Day_Trump_Out_C   \n",
              "1513    778         0  Day_Trump_Out_C   \n",
              "1518    790         0  Day_Trump_Out_C   \n",
              "1526    807         0  Day_Trump_Out_C   \n",
              "\n",
              "                                                  value  \n",
              "2     Jen is a SAHM with four kids. She gets up ever...  \n",
              "6     Jen started her day on Facebook railing agains...  \n",
              "7     Jen typical day is taking her kids to school. ...  \n",
              "11    Jen continues to tune into the most local poli...  \n",
              "17    Jen is a nurse in an E.R in Montana. She works...  \n",
              "...                                                 ...  \n",
              "1505  Jen wakes up, turns on CNN to get her talking ...  \n",
              "1509  Lives in the city. Wakes up, drive a compact c...  \n",
              "1513  She gets up and goes to work.\\nShe is sadden b...  \n",
              "1518    Jen just got done fighting a crowd of Right ...  \n",
              "1526  Jen is a mother of two girls.  Her husband wor...  \n",
              "\n",
              "[382 rows x 4 columns]"
            ]
          },
          "metadata": {
            "tags": []
          },
          "execution_count": 54
        }
      ]
    },
    {
      "cell_type": "code",
      "metadata": {
        "id": "ReAndGoBcc14",
        "colab_type": "code",
        "outputId": "d021ea76-e7aa-497e-8ede-3689abe55921",
        "colab": {
          "base_uri": "https://localhost:8080/",
          "height": 557
        }
      },
      "source": [
        "# Getting puddles and spacy loaded\n",
        "!rm -r  'uo_puddles'\n",
        "puddles = 'uo-puddles' \n",
        "clone_url = f'https://github.com/{puddles}/uo_puddles.git'\n",
        "!git clone $clone_url \n",
        "import uo_puddles.uo_puddles as up\n",
        "\n",
        "import spacy\n",
        "!python -m spacy download en_core_web_md\n",
        "import en_core_web_md\n",
        "nlp = en_core_web_md.load()  "
      ],
      "execution_count": 55,
      "outputs": [
        {
          "output_type": "stream",
          "text": [
            "Cloning into 'uo_puddles'...\n",
            "remote: Enumerating objects: 6, done.\u001b[K\n",
            "remote: Counting objects: 100% (6/6), done.\u001b[K\n",
            "remote: Compressing objects: 100% (6/6), done.\u001b[K\n",
            "remote: Total 282 (delta 2), reused 0 (delta 0), pack-reused 276\u001b[K\n",
            "Receiving objects: 100% (282/282), 76.59 KiB | 220.00 KiB/s, done.\n",
            "Resolving deltas: 100% (169/169), done.\n",
            "Requirement already satisfied: en_core_web_md==2.2.5 from https://github.com/explosion/spacy-models/releases/download/en_core_web_md-2.2.5/en_core_web_md-2.2.5.tar.gz#egg=en_core_web_md==2.2.5 in /usr/local/lib/python3.6/dist-packages (2.2.5)\n",
            "Requirement already satisfied: spacy>=2.2.2 in /usr/local/lib/python3.6/dist-packages (from en_core_web_md==2.2.5) (2.2.4)\n",
            "Requirement already satisfied: thinc==7.4.0 in /usr/local/lib/python3.6/dist-packages (from spacy>=2.2.2->en_core_web_md==2.2.5) (7.4.0)\n",
            "Requirement already satisfied: plac<1.2.0,>=0.9.6 in /usr/local/lib/python3.6/dist-packages (from spacy>=2.2.2->en_core_web_md==2.2.5) (1.1.3)\n",
            "Requirement already satisfied: tqdm<5.0.0,>=4.38.0 in /usr/local/lib/python3.6/dist-packages (from spacy>=2.2.2->en_core_web_md==2.2.5) (4.41.1)\n",
            "Requirement already satisfied: requests<3.0.0,>=2.13.0 in /usr/local/lib/python3.6/dist-packages (from spacy>=2.2.2->en_core_web_md==2.2.5) (2.23.0)\n",
            "Requirement already satisfied: murmurhash<1.1.0,>=0.28.0 in /usr/local/lib/python3.6/dist-packages (from spacy>=2.2.2->en_core_web_md==2.2.5) (1.0.2)\n",
            "Requirement already satisfied: cymem<2.1.0,>=2.0.2 in /usr/local/lib/python3.6/dist-packages (from spacy>=2.2.2->en_core_web_md==2.2.5) (2.0.3)\n",
            "Requirement already satisfied: preshed<3.1.0,>=3.0.2 in /usr/local/lib/python3.6/dist-packages (from spacy>=2.2.2->en_core_web_md==2.2.5) (3.0.2)\n",
            "Requirement already satisfied: srsly<1.1.0,>=1.0.2 in /usr/local/lib/python3.6/dist-packages (from spacy>=2.2.2->en_core_web_md==2.2.5) (1.0.2)\n",
            "Requirement already satisfied: numpy>=1.15.0 in /usr/local/lib/python3.6/dist-packages (from spacy>=2.2.2->en_core_web_md==2.2.5) (1.18.5)\n",
            "Requirement already satisfied: wasabi<1.1.0,>=0.4.0 in /usr/local/lib/python3.6/dist-packages (from spacy>=2.2.2->en_core_web_md==2.2.5) (0.6.0)\n",
            "Requirement already satisfied: blis<0.5.0,>=0.4.0 in /usr/local/lib/python3.6/dist-packages (from spacy>=2.2.2->en_core_web_md==2.2.5) (0.4.1)\n",
            "Requirement already satisfied: catalogue<1.1.0,>=0.0.7 in /usr/local/lib/python3.6/dist-packages (from spacy>=2.2.2->en_core_web_md==2.2.5) (1.0.0)\n",
            "Requirement already satisfied: setuptools in /usr/local/lib/python3.6/dist-packages (from spacy>=2.2.2->en_core_web_md==2.2.5) (47.1.1)\n",
            "Requirement already satisfied: idna<3,>=2.5 in /usr/local/lib/python3.6/dist-packages (from requests<3.0.0,>=2.13.0->spacy>=2.2.2->en_core_web_md==2.2.5) (2.9)\n",
            "Requirement already satisfied: chardet<4,>=3.0.2 in /usr/local/lib/python3.6/dist-packages (from requests<3.0.0,>=2.13.0->spacy>=2.2.2->en_core_web_md==2.2.5) (3.0.4)\n",
            "Requirement already satisfied: urllib3!=1.25.0,!=1.25.1,<1.26,>=1.21.1 in /usr/local/lib/python3.6/dist-packages (from requests<3.0.0,>=2.13.0->spacy>=2.2.2->en_core_web_md==2.2.5) (1.24.3)\n",
            "Requirement already satisfied: certifi>=2017.4.17 in /usr/local/lib/python3.6/dist-packages (from requests<3.0.0,>=2.13.0->spacy>=2.2.2->en_core_web_md==2.2.5) (2020.4.5.1)\n",
            "Requirement already satisfied: importlib-metadata>=0.20; python_version < \"3.8\" in /usr/local/lib/python3.6/dist-packages (from catalogue<1.1.0,>=0.0.7->spacy>=2.2.2->en_core_web_md==2.2.5) (1.6.0)\n",
            "Requirement already satisfied: zipp>=0.5 in /usr/local/lib/python3.6/dist-packages (from importlib-metadata>=0.20; python_version < \"3.8\"->catalogue<1.1.0,>=0.0.7->spacy>=2.2.2->en_core_web_md==2.2.5) (3.1.0)\n",
            "\u001b[38;5;2m✔ Download and installation successful\u001b[0m\n",
            "You can now load the model via spacy.load('en_core_web_md')\n"
          ],
          "name": "stdout"
        }
      ]
    },
    {
      "cell_type": "code",
      "metadata": {
        "id": "klpB8sHmkDzV",
        "colab_type": "code",
        "outputId": "ab7bca8b-54f8-49ab-b54f-fb68f281b1ab",
        "colab": {
          "base_uri": "https://localhost:8080/",
          "height": 121
        }
      },
      "source": [
        "# Adding my github repo of functions for this final project that I have written previously\n",
        "!rm -r  'python_library_final_proj'\n",
        "github_name = 'kdenning' \n",
        "clone_url = f'https://github.com/{github_name}/python_library_final_proj.git'\n",
        "!git clone $clone_url\n",
        "import python_library_final_proj.functions as func"
      ],
      "execution_count": 56,
      "outputs": [
        {
          "output_type": "stream",
          "text": [
            "Cloning into 'python_library_final_proj'...\n",
            "remote: Enumerating objects: 12, done.\u001b[K\n",
            "remote: Counting objects: 100% (12/12), done.\u001b[K\n",
            "remote: Compressing objects: 100% (12/12), done.\u001b[K\n",
            "remote: Total 12 (delta 4), reused 0 (delta 0), pack-reused 0\u001b[K\n",
            "Unpacking objects: 100% (12/12), done.\n"
          ],
          "name": "stdout"
        }
      ]
    },
    {
      "cell_type": "code",
      "metadata": {
        "id": "6s6eoGEFdy6x",
        "colab_type": "code",
        "outputId": "f2165bd2-5705-4adb-bba4-648df306bade",
        "colab": {
          "base_uri": "https://localhost:8080/",
          "height": 55
        }
      },
      "source": [
        "# Shuffle table to prep for data split\n",
        "import numpy as np\n",
        "rsgen = np.random.RandomState(1234)\n",
        "\n",
        "shuffled_table = binary.sample(frac=1, random_state=rsgen).reset_index(drop=True)\n",
        "shuffled_table.head()\n",
        "\n",
        "# Pulling out strings\n",
        "text = shuffled_table['value'].tolist()\n",
        "vote = shuffled_table['VotePref'].tolist() \n",
        "\n",
        "print(text[:10])"
      ],
      "execution_count": 57,
      "outputs": [
        {
          "output_type": "stream",
          "text": [
            "['Jen is highly motivated to prove she is an independent, hard working person. She is a single parent of two children, both girls, and she wants them to growup knowing there is nothing that they can\\'t do, so spends her day role modelling for them how she thinks a modern, free-thinker, conscientous woman would behave. She is environmentally aware, teaching them about recycling but dumps her trash in the neighbor\\'s front yard because she doesn\\'t believe the same way. As she tells her girls sometimes you have to do bad things to get the right thing done. She doesn\\'t understand why her girls are so disrepectful of her forgetting they were standing by when she yelled \"Pig\" at the cop who pulled her over for running that red light on her way to their school. She joins a group of her peers after lunch to discuss how they can make it as difficult as possible for the republicans to do anything that might change their wanted status quo. She has been unfairly treated and it is up to them to rectify the situation even if it means anarchy in her city. She  is on a team working not for good but self.', 'jen probably goes to work and takes care of her children', \"I go to my minimum wage job and smile cheerfully at all the customers. I usually am much better groomed than the picture show. Sorry. And I wear makeup. I use a large barrel curling iron on my hair before i leave for work. I would never show myself in public looking like this picture!  I go to my job and work my 5 hour shift, then I go to the next job and work another 5 hours. Usually after that, I work about 2 hours at my third job. Gotta pay that rent! It's great being an American with Trump as President. I have to take some time off on Sunday to go to church and say prayers of thanks.\\nWhen I finally get home late at night, I ususally turn on the TV and watch the zombie series.  Or maybe a rerun of The Texas Chainsaw Massacre. Then it's off to bed for a sold 4 hours of sleep and back at it the next day. I'm so glad I voted for Trump. He's keeping my job(s) here. America first!\", 'Jen is a working woman.  She is most likely married with kids, maybe even a daughter.  She is excited about seeing a woman president.  She works hard for her family and teachers her children that anything is possible.  She hopes to live in a world where women can attain the same levels of success and power that men can based on their hard work and ability.', 'Jen is a Christian. He is against abortion. She think immigrants are stealing jobs. She likes to let people know how America should be and makes decisions accordingly.', 'During a typical day, Jen probably flips through newspaper ads and searches online for a new job. She\\'s been unemployed for a while, and she believes Trump\\'s rhetoric about bringing jobs back. She feels that, although Trump is a multi-millionaire and a trust fund baby, that somehow Trump understands what it\\'s like to be a working class person struggling to make ends meet. She believes that Trump has a keen understanding of the economy because he\\'s been depicted firing people on reality TV, despite his many bankruptcies and lawsuits. She\\'s willing to ignore the allegations of sexual assault because there has been no criminal convictions, yet she\\'s willing to believe the vitriol against Clinton, despite her lack of criminal history and her decades of public service. She believes that because Trump brown-noses the religious right, that he\\'s a godly man--despite his multiple divorces, abhorrent treatment of women, and lack of any sort of personal ethics or accountability whatsoever. She\\'s embarrassed by his nonstop scandals since entering into office, but continues to defend him whenever the subject is raised with her friends and coworkers simply because she can\\'t admit that she was wrong. She\\'s pleased that she didn\\'t vote for \"that criminal, Clinton,\" but she ignores the allegations of money laundering via Trump Foundation. Jen is a sad, delusional woman who will continue to deny that she made a mistake, right through Trump\\'s impeachment for treason for colluding with the Russians. Oh, and Jen also ignores the Steele dossier, thinking that something that disgusting simply can\\'t be true about her idol. She\\'s never bothered to do anything more than surface research on Trump before voting for him, and she\\'s certainly never heard the allegations that Trump once tried to push a fellow boarding school student out of a second story window--and likely would have killed that student if others hadn\\'t intervened and held him back.', 'Jen is proud that her candidate won.  However, she is facing  a lot of backlash from friends who did not support Trump.  She is seeing things written on Facebook about Trump voters.  She is watching the demonstrations.  She knows she did the right thing by voting for him, but it is not an easy win.', 'Jen might be a stay-at-home mom who sends the kids off to school, works on housework and does volunteer work with her church, cooks dinner for her family and then goes to bed.', \"I get up in the morning and make coffee. I heard on the news about another black person being shot by police, but they must have deserved it because police are just doing their jobs. I went to work at my office nearby. I would be higher in the management but I keep being skipped over for something stupid. It's not really my fault that my performance reviews aren't up to par, it's everyone else's fault. When I get home, I take care of the kids and make dinner, because even though my husband and I both worked all day, it's my job as the woman to take care of that stuff. Don't worry, he helps out by mowing the lawn and stuff. \", 'PROTEST FOR ILLEGALS TO BE ABLE TO COME TO THIS COUNTRY AND THINK EVERYTHING WILL BE HANDED TO HER THINK HILLARY WILL AND DOES CARE ABOUT PEOPLE LIKE HER FEELING GOOD ABOUT HERSELF BEING PART OF THE HILLARY MOVEMENT.']\n"
          ],
          "name": "stdout"
        }
      ]
    },
    {
      "cell_type": "code",
      "metadata": {
        "id": "3pTucTLpfRM1",
        "colab_type": "code",
        "outputId": "b4214953-e0a3-4883-d2ba-2b874469de00",
        "colab": {
          "base_uri": "https://localhost:8080/",
          "height": 52
        }
      },
      "source": [
        "# Getting GloVe vectors for words in shuffled text list\n",
        "text_vectors = []\n",
        "\n",
        "for i in range(len(text)):\n",
        "  output = func.sent2vec(text[i])\n",
        "  text_vectors.append(output)"
      ],
      "execution_count": 58,
      "outputs": [
        {
          "output_type": "stream",
          "text": [
            "CPU times: user 6.91 s, sys: 22.6 ms, total: 6.93 s\n",
            "Wall time: 6.94 s\n"
          ],
          "name": "stdout"
        }
      ]
    },
    {
      "cell_type": "code",
      "metadata": {
        "id": "AlqUb7tSqPpT",
        "colab_type": "code",
        "outputId": "491dc88b-aad6-42b7-8e46-37212fc6e89d",
        "colab": {
          "base_uri": "https://localhost:8080/",
          "height": 72
        }
      },
      "source": [
        "# checking out the GloVe vectors\n",
        "print(text_vectors[:10])\n",
        "len(text_vectors)"
      ],
      "execution_count": 79,
      "outputs": [
        {
          "output_type": "stream",
          "text": [
            "[[-0.14161106995365855, 0.05998000160119013, -0.19024690046399548, 0.014654524571297668, 0.004348193482448689, 0.056371486828297, 0.04784788603929779, -0.079822216946278, 0.016986428665680977, 2.228563161590431, -0.19442895026523857, 0.003177445081263026, -0.07297238668639071, -0.0019502927456345833, -0.10588627107311747, 0.001528854319778613, -0.0735356026458778, 0.7094638559825813, -0.07212166999808595, 0.05612158037344866, 0.008662957058559302, -0.13159361529853666, 0.01351521208976643, -0.009892684761199016, -0.004480092353010668, 0.08657417306087062, -0.011748081527037334, -0.024431937011666124, 0.066672535484975, -0.14105262004923594, -0.12334203449832394, 0.0828192352046129, -0.029386592816702927, -0.013319651944020504, 0.18918615299213642, -0.016517702224841224, 0.08894808793181105, -0.05486774543238379, -0.07131398786330902, -0.05549499818677955, 0.03047137871337465, 0.0055752348425927795, 0.0028646626344681543, 0.06077396008038681, -0.06381255936148707, -0.016143708928971538, -0.01605303836043311, -0.016469074572330412, -0.05413296232235771, -0.10614068438357945, -0.0832681538304314, 0.024491475140558012, 0.0057327975811881805, -0.05733442658085459, 0.07783640838004177, 0.047996948909344556, -0.04799980652530359, -0.05692058843059489, 0.08635609883437806, -0.01385547422297016, -0.04894355412637461, -0.14939999690904177, -0.023991101103115687, -0.0819856839400386, 0.17857990169874097, -0.12877649234466348, -0.06357230070338855, 0.06945100290217449, 0.085428721967, 0.06870142893226157, -0.07597011888894854, -0.025931723227229298, 0.08456306411189181, -0.04494549450169824, 0.02252787576481417, 0.056846857454061886, 0.04837870257729782, -0.09749389725112462, 0.06735900755679895, 0.16833601275435353, 0.006449749020570771, -0.0037212548497474835, -0.04886424354029984, -0.048179975424928564, -0.043558276525132736, -0.036533936662186836, 0.09831687571080047, -0.024530379702867585, 0.0732680445218671, -0.0013008907148496637, -0.13902372825018403, 0.027488849991549373, -0.0702108894062193, 0.04873023779408511, 0.0050040395146448025, -0.08347127763436565, -0.015448919040610708, -0.056693333758135574, 0.0512993060806884, 0.02119014695540212, 0.07173690274711463, 0.05764404936587509, 0.004499560528540913, -0.07549244218470552, 0.11710115134291633, -1.0222328957877582, -0.035651222449031815, -0.0012787195081716473, -0.09219763260570508, 0.07063641107370015, 0.05571788096434991, -0.08521675869020857, -0.037562866494077245, -0.07582392458674274, 0.05946639311261168, -0.05724646981593363, 0.06739177299468908, -0.049737908046315366, -0.06657191563421223, -0.04781591222338567, 0.04245434155616956, -0.1789322218981489, 0.019532722751079482, -0.019476455754211433, 0.11894093471567464, 0.049733809690592407, -0.008706468463981454, -0.06907947323523768, -0.03785674705920163, -0.05043297337038042, -0.002872841697940721, 0.09803165067458831, -0.14125160949269333, -0.061354427987450284, 0.05924717957578317, -0.011537544334991068, -0.014531157521790341, -0.011315750582968886, 0.12351010343107054, 0.05553761649216655, -1.2551620496979243, -0.056353250618646794, 0.05976212049150675, 0.07430791060286987, -0.05859442522065549, -0.0900687316338284, -0.07710197857209729, -0.0035530133202341914, -0.11395945111761176, -0.0780234298155985, -0.09634003225792069, 0.05259736090356225, -0.10431921876129942, -0.010108135033493178, 0.02987647126428783, 0.04885256709236227, -0.004561945088679278, -0.1263472012979497, -0.04125101864632644, -0.15938018865388218, -0.18942793706266942, 0.040180754488263325, -0.037361300400829627, -0.0003951813825229301, -0.00846688519084614, -0.10111207647036903, -0.020584890760387047, -0.10185238206759095, 0.013924545785294304, 0.038318216329133965, -0.012923979439147854, -0.03418012798610556, 0.10354687999108736, -0.09437042733512913, 0.03948752464184278, 0.025623116363724104, -0.12224052232230388, 0.12305187951490472, -0.054055092738824986, 0.0023246963237282597, 0.10187046686658942, 0.014622929348695812, -0.09202350735593634, -0.005412743126242598, -0.046499045742557775, 0.09929399531558628, -0.08394355555595476, 0.01659505193039209, 0.058305007664934745, -0.05614862538125555, -0.04219851958503891, -0.08078997095315894, -0.0798398074576089, 0.02008569252358962, 0.04308212569124902, 0.030736434856971986, -0.009989241365036821, -0.06744943885316872, 0.08621334386517919, 0.13266593016259656, 0.01738315304340441, 0.057580544224268275, -0.03733897627525833, -0.048174232727836205, -0.017173429019749165, 0.05471105596472073, -0.04702564758024638, 0.006919701660311297, 0.1452524492640897, -0.0365875328926346, -0.14367840251637787, 0.002593346659235562, -0.07360547834777427, -0.04106707806416045, 0.11599253145152633, 0.02772052816846231, 0.004820440306410759, 0.05146625756486496, -0.17073596166918362, -0.06497694611478644, 0.013654487221715441, -0.0226641736181948, -0.015438174805309198, -0.048979600658640265, 0.03423876400253753, -0.04606014295610823, 0.00866716517772101, 0.009318261371949051, -0.05374654336195864, -0.06416811838250937, -0.13229093688858462, -0.02434997338229861, 0.09429102052663323, 0.09007863815921018, 0.03127007593166472, 0.0039233795081300635, 0.06066897718741115, -0.015177440874520217, -0.01850771132998074, 0.12024176277992421, -0.005357562767671822, -0.030053533671152648, 0.05603190722633625, 0.05556147635613769, 0.02592490058176034, -0.047752265523694735, -0.11350385789889135, -0.08677926469782862, -0.12939150201133157, 0.07355454946644133, 0.041400615514928026, 0.053253720962454246, -0.02335163240049836, -0.03876655716360606, -0.04177163332414112, 0.0038613270308020748, 0.024711364921465327, -0.09458290287304545, -0.05016750083717553, 0.03501881206116368, -0.02165661904742776, 0.21521054273891216, 0.014004124965094313, 0.021592802816082404, 0.06651895980371304, -0.01661869659548319, -0.10081383667494276, 0.0600552404228645, 0.20646658254480815, 0.09800608451419239, -0.11796048333688972, 0.013606110449196606, -0.10949459395524633, -0.16785889455482741, -0.03877099510282278, -0.010239113039702555, 0.029670040747976002, 0.08066185369285979, 0.02416648350278788, 0.15325120171602769, -0.01505666224969716, 0.05725364114122489, -0.03246946214356377, -0.005099503777308177, -0.0379974867682904, 0.015370758348350897, 0.06377302594718677, -0.08260026291836882, 0.001240669328224244, 0.05085326293837043, -0.0267976026678505, -0.04431703311827364, 0.03024551553115296, -0.039782095361571713, 0.046181189640472305, 0.1004388918687554, -0.00875530676485947, -0.03562495150954074, -0.028844164545895366, 0.002194231570568643], [-0.14546403365524643, 0.1753374102658459, -0.07557699882558414, -0.0495818592607975, -0.1272854312722172, -0.1744728535413742, -0.01706400141119957, -0.19606171441929682, 0.1237592872764383, 2.4655071241515025, -0.2505084297486714, 0.05934431776404381, -0.072709145290511, 0.0031326557509601116, -0.16469071858695575, 0.020230544032528996, -0.05453385745308229, 0.902778582913535, -0.15111675788648427, 0.007333431259862014, 0.065303574981434, -0.029320290046078817, -0.12154871704322952, -0.15935657266527414, 0.2130071446299553, -0.07886314365480628, 0.05835285197411265, -0.11757828694369112, 0.14717999739306314, -0.14819299855402537, -0.17131610068359546, 0.009969431108662061, -0.012047142854758672, -0.08089264006620007, 0.2606439234514255, -0.04142728714006288, 0.11060542879360062, 0.016900572393621718, 0.12094000168144703, 0.07321955782494374, 0.18480528518557549, 0.1263391442064728, -0.13916314286845072, -0.12188300171068736, -0.031042143303368772, 0.07670500262507371, -0.23150871906961715, -0.07858543044754437, 0.007220717945269176, 0.08797214393104826, -0.006077139505318233, -0.08878371358982154, 0.12637832734201634, -0.04474050039425492, -0.04775571184498923, 0.037797710725239346, 0.09747543132730893, -0.04926571249961853, 0.03844190003084285, -0.14185956971985952, 0.01763484607051526, -0.1573267841179456, -0.013777725431802017, 0.08635857488427844, 0.22914071647184237, -0.18376842407243593, -0.09324657451361418, 0.18730042342628753, 0.15148900502494403, -0.05774385867906468, -0.06963514190699373, -0.17812749976292253, 0.11021400030170168, -0.008064284920692444, 0.198647141456604, 0.08340799875025239, 0.08363628507192646, 0.03167085801916463, 0.006704285740852356, 0.04826714737074716, 0.29384200115289005, 0.10269642674497195, -0.16718400056873048, 0.10555844965814945, -0.09452035226526537, -0.26812613968338284, 0.2730015761085919, -0.1748061403632164, 0.2130042857357434, -0.023366573665823256, -0.09545299889785903, 0.08638428364481245, -0.10841500014066696, -0.27750357346875326, 0.09519342758825847, -0.1152591423929802, 0.03559900101806436, 0.0441865718790463, 0.0661201397223132, 0.15825128661734716, 0.16209428650992258, -0.025666569492646625, 0.004345941357314587, -0.08652827995164054, 0.010543709354741233, -0.8269014443670001, 0.07621514131980282, -0.07977185172161885, -0.06968414357730321, -0.11956742831638881, 0.12601294401767, -0.1530700017298971, -5.885586142539978e-05, -0.08082857089383262, 0.151467142360551, -0.13669585276927268, 0.000845000147819519, 0.09616514082465853, 0.038078787204410346, 0.11584742793015071, 0.0491090001804488, -0.1943925442174077, 0.035944853510175435, -0.10789905448577233, 0.06608571424814207, 0.1323085735951151, 0.08442702423781157, -0.1920158417363252, 0.09126200234251362, -0.0775144270488194, 0.023165289844785417, 0.039163716935685704, 0.0036717477321092573, -0.0030151429985250744, 0.025439569194402014, -0.057925713913781304, -0.0397627159420933, -0.15953014365264348, 0.005024283326097897, 0.11656513916594642, -1.395527115889958, -0.12300000126872744, 0.2611001407993691, 0.13220099891935075, -0.09631214317466531, 0.03947642764874867, -0.1690611428680963, -0.013848429545760155, -0.11520714206354958, -0.07585765169434515, -0.03609142785093614, -0.020077282961990153, 0.0015049970575741359, -0.058532288031918664, 0.059557140937873294, -0.17598170999969756, 0.10558285723839488, -0.3225385674408504, -0.20537055839252258, -0.17797315988822707, -0.03718371370009014, 0.1313263703071113, -0.1873243863893939, -0.03959128473486219, 0.0869722877229963, -0.023549857416323254, 0.043109568900295665, -0.10039928768362318, 0.1367828579885619, -0.11289371337209429, -0.06547657187495913, 0.033751289759363444, 0.15632385402984386, -0.1551265703248126, -0.0025021441813026157, 0.3090942831976073, -0.10813114898545402, 0.17975028604269028, 0.10429528515253748, 0.14358228338616236, 0.08973128481635026, -4.742933171136039e-05, -0.12101971304842404, 0.10637857019901276, 0.19796042995793478, 0.1014870000737054, -0.0777434006200305, 0.0023264241005693164, -0.008549000535692488, 0.032792143523693085, -0.3350157141685486, -0.048668568155595233, -0.2135644806548953, -0.06164065735148532, -0.07022242514150483, 0.06687271395432097, -0.10545142633574349, -0.23102285819394247, 0.24357367120683193, 0.044039567766178934, 0.008404856946851526, -0.1805512460081705, -0.07524499496711153, -0.09715701233861702, -0.07610056815402848, 0.03243000406239714, -0.0897951310201149, -0.08747571227805954, -0.023010000586509705, 0.021876285118716105, -0.22255571825163706, 0.06958214193582535, -0.02046765071489582, -0.09917143040469714, 0.043067714997700283, -0.0691088584384748, 0.21849274575444205, 0.09056142504726138, -0.1393079962581396, -0.17385728284716606, 0.02382543044430869, 0.021259287106139318, -0.13414156649793899, -0.07720785694462913, -0.06338499938803059, 0.06943628591086183, 0.10723643111331123, 0.048108589103711505, 0.08055342840296882, -0.03905200053538595, -0.37188856516565594, -0.14088857067482813, 0.17818571307829448, 0.15311043097504548, -0.0008771398237773351, -0.1013285733227219, 0.21562914284212248, -0.17794670590332576, 0.0808007147695337, -0.02693527072135891, -0.18649400398135185, -0.05213868870799031, 0.06790614952998501, 0.25848767390042277, 0.10712871594088418, -0.1917052822453635, -0.17953471839427948, -0.1177544253213065, -0.268789617814556, 0.05030799976416996, 0.08809028512665204, 0.03554168247085597, 0.061335706285067966, -0.08382542963538851, 0.10038199807916369, 0.10757643090827125, 0.018311713423047746, -0.07974804498787437, -0.07660098462864491, 0.07079257071018219, 0.13892671199781553, 0.21357743548495428, 0.017369229812175035, 0.004394284848655973, 0.16270714572497777, -0.054720570732440264, -0.07084298812385116, -0.12548285296985082, 0.15931000241211482, 0.10231571538107735, -0.15099615071501052, -0.13428728668285267, -0.11018127894827298, -0.1818395650812558, -0.13030142656394414, -0.014255424163171224, 0.03817185493452208, 0.10312585745538984, 0.03800414502620697, 0.3730100031409945, -0.06406857392617635, 0.05428718416286366, -0.0852772838303021, 0.04790828802755901, 0.07460028571741921, -0.04547114031655448, 0.06144014639513833, -0.040797715208360126, -0.0013719994042600905, -0.1816085683447974, -0.02358657813497952, 0.022502431379897252, 0.002721500982131277, 0.008434283946241652, 0.12214571237564087, 0.025507144629955292, -0.013001284295959132, -0.2106030107076679, -0.11162100173532963, -0.09315970965794154], [-0.08785856231514953, 0.07465917544087043, -0.06847652916267917, -0.11043239977978472, -0.030636008715609443, -0.05403259371382159, -0.0003872318649538667, -0.09202248512490376, 0.04049736414123578, 2.083482890314347, -0.1862239485631722, -0.007875797779274147, -0.0021678832724589753, -0.05760869153813031, -0.11618086498708942, 0.012213684838718257, -0.08102958396429548, 0.9883385815632504, -0.1077102630499851, -0.009156283563808413, 0.06522776708761985, 0.016278433814846182, -0.016101092112728872, -0.1017382522286671, 0.0050735952776252615, 0.03267149994703564, -0.11562002906449945, -0.12307031067541323, 0.1005983901889743, -0.019180793925566045, -0.02405151803159734, -0.0059179414969843785, -0.08258409654042004, -0.07590873044839985, 0.11478408244816032, 0.08086289871465163, 0.027919685760689143, 0.09849191366417988, -0.05477115196314313, 0.0023865341838147187, 0.033336440139022226, 0.029799654791163078, 0.022264275802503893, 0.01799506458101442, 0.018318568529384967, 0.09638635318638203, -0.1130836879373591, -0.021338987406469077, 0.058499780801326236, -0.032866527817237215, 0.013618489733670611, -0.023261144231828686, 0.15103801920053525, 0.006355847357898145, -0.07737189438194036, 0.09248572377790068, -0.023671115522046347, -0.049675870770148026, 0.10339424617091394, -0.07186519911172926, -0.18716105338456612, -0.10277403906793797, -0.0072973818255500315, 0.13147786099540787, 0.18512453202384752, -0.14346655410387227, -0.026820654181662847, 0.13956197283255892, -0.002342453578839431, 0.05293324635036894, 0.08675719303790026, -0.013431150692741613, 0.09738262746336782, -0.020855418481939548, 0.145468644200436, 0.1478725866087385, 0.12479465649404439, 0.0032664141240152152, -0.028899405187788746, 0.21004892757313476, -0.0059607963099748505, 0.14636863649797602, -0.09117514260012556, 0.017286541860714252, 0.009144565793748543, -0.04416848862594044, 0.27656932084544283, -0.024067518150282873, 0.34289030797781134, -0.013008918134948692, -0.062207989986180455, -0.035534794618551795, -0.09889688116271754, -0.05436211980476573, 0.07323419094570233, -0.06158671883325017, 0.030620452604961355, 0.02704020424720806, 0.03599646527672539, -0.05694407443641811, -0.02692062405844194, 0.05682688280137734, 0.05357868195435888, 0.007907550785111616, 0.0773995359856132, -0.7822854166498056, 0.16939628078929475, -0.13810851507681748, -0.03950243802564974, -0.09331246505717973, 0.11630861591343214, -0.15211985919725252, 0.11997123090298595, 0.03347252806447245, 0.1278185687355093, -0.07513561096621325, 0.09932102279334858, -0.009780062478967011, 0.041854209216261234, 0.014590162525859636, 0.10481574026414671, -0.05312722687282272, 0.02297836387328602, 0.0010409498385883667, -0.01792643593020133, -0.018636987016007706, 0.00018685029165164843, -0.03253199310180404, 0.01969046739710344, -0.0308961512369884, 0.027675879958740157, -0.06647095423997254, -0.04945311652546799, 0.07503937601703345, 0.05015197473678838, -0.006686455680283945, -0.012470130682797046, -0.01519391791441956, -0.04131517545445948, 0.0035637586339804773, -1.513136950195641, -0.006520297818792028, 0.16517115542916833, -0.13140689300348027, -0.05873055529554148, 0.03433647968592374, -0.18138654834616022, 0.024432710991744454, 0.001767393679836312, -0.032329725482299725, -0.012469315064466885, 0.01743927620653365, -0.03581306737268696, -0.10008746254685763, -0.001564797039168912, -0.05088717497356639, 0.13127936286902106, -0.1272151613469563, -0.011181303131633211, -0.08724162022809724, -0.0822816095944192, -0.05032511691112902, -0.08337312950941457, -0.01793043313522798, 0.04493028329483963, -0.08074807522781477, 0.030483249046311185, -0.06004320981132018, 0.05288563056131573, -0.06811308060344812, -0.12216704039255509, -0.023084702926713066, -0.034573136345873515, -0.07971128580991078, -0.021885958885635576, 0.09834282292757889, -0.14597280937674884, 0.0746150452146508, 0.006189841577292395, -0.009519152728702268, -0.009844157964343557, -0.11373394832166063, -0.1761224831177576, 0.00940905128939178, 0.0061599557678139695, 0.06100315044986437, -0.07013935058352512, -0.01705132322889325, 0.13767678897223762, 0.07561717133314626, -0.07198318424382927, 0.04937794643479425, -0.06330219910454911, -0.05696066176342602, 0.056754331466288784, 0.0903763842794138, 0.02170963869493052, -0.13892123303250284, 0.04050671671850707, 0.008769931422697531, -0.010199553899567676, -0.059086240419010456, 0.02279373479226755, -0.11807060572696296, 0.01617728949939782, 0.028684206316373438, 0.04177511261455161, -0.00019245679691635273, 0.17627832053128528, 0.07944656759374649, -0.01761660445796175, 0.05009878644518353, 0.03944129209864784, -0.09754177258425467, 0.06575969541822937, 0.07216787233197908, 0.008756704143928113, -0.09352228026585402, -0.17040156033771062, 0.07376171686887942, -0.013034397484482946, -0.09200082344279902, -0.121345792109669, 0.0819391459478317, -0.01382970982357054, -0.0010937868764321556, -0.05012424182574693, 0.09386020285436078, -0.03628442296129022, 0.04212659664728956, -0.019032775034272188, 0.011603191642034045, 0.023106948603133393, 0.1236851813108031, 0.03427282862862371, -0.07383055649571926, 0.015862162803878654, -0.19438388056398645, -0.07907576924441634, 0.14073049346287106, -0.014476631014494578, -0.055674446596271625, 0.06348330974563125, 0.11329420328744359, 0.05552077502314303, -0.09686783830103515, -0.0903081811737974, -0.006928575193710826, -0.11906431235272337, 0.0451498072015474, -0.02970689653444129, -0.04439301009768167, -0.08067478321970918, -0.06713168847223593, 0.022372312442048743, 0.2261077437197437, -0.023716132735481132, -0.023499114246963448, -0.1260008668114834, 0.04367918847128749, 0.13529202253935305, 0.18265000091412584, 0.011283414985833538, 0.016477162710617523, 0.021540877893818793, -0.09626589082433162, 0.012623188145634895, 0.07490587651075141, 0.05384245260643798, 0.11196175972125619, -0.052397458949378015, -0.06826678544953088, -0.05291310963346749, -0.03542948924508449, -0.12313309634054029, 0.0617563781404012, -0.06252398293125569, 0.041592108274533135, 0.05612119276240166, 0.22403685439604562, 0.04936844534618226, 0.026074828900950583, -0.12492993850625951, 0.12412333654592166, 0.012804396085541797, -0.026699026124677748, 0.0833593647159334, -0.06488076661952545, 0.04369657449550121, 0.05838648153695505, -0.09939878926033506, -0.02212315410174228, 0.037784580896432336, -0.026344150937212683, 0.10681321391540051, 0.011909689898980228, -0.028275562459728808, -0.05681189123188724, -0.10643315769580973, 0.07190794512201604], [-0.09640436396494484, 0.19595789909362793, -0.0964385769780605, -0.01901107413634177, 0.011933645233511925, -0.019997257018281568, 0.04452883680501292, -0.017586418697910923, 0.1310802812579148, 2.617595159238385, -0.22889557851838968, 0.04958433423551821, -0.07072316203266382, 0.01686664538518075, -0.10610167652128204, -0.08868439335586323, -0.11812077516749982, 0.8626954834307393, -0.20128974369576863, 0.20194458006130112, 0.049007745775123755, -0.16027037335199215, -0.056059033039116093, -0.11033327195553048, -0.004870016247995438, 0.06994809739051326, 0.07386416076652465, 0.024097705950900432, 0.07771258326547761, -0.07580434458119975, -0.12460866028953704, 0.01577878358864015, -0.010801879689097404, -0.0676767889620556, 0.29200354765916636, -0.025203870909829295, 0.1274082929707102, -0.07508488394124734, 0.0003626449634471247, -0.04062326369626868, 0.05531052545073532, 0.029334546817887212, -0.035296631488768805, -0.0045269998090882455, 0.023073482507419203, -0.01662776324777834, -0.07060933632836226, -0.012913933684748987, 0.13714293540725786, -0.022727709984587084, -0.18255428741535834, -0.09996506436577728, -0.06375015112421205, -0.12012296860977527, 0.1286134186891779, 0.11845528863130077, -0.08211060119191965, -0.018070321710359667, -0.04037316143512726, -0.08139980608417142, 0.008656034336215066, -0.13944402781705703, -0.004466585700415195, 0.13690396719762393, 0.1265395054173085, -0.0936593446700323, -0.05073625870770024, 0.030675129364094427, 0.1284811293345786, 0.0671949647179234, -0.015749772469843586, -0.013534919013299288, -0.012669064825580965, -0.0566139233358685, 0.1322368364180288, 0.12951280627279513, 0.0034057507141222877, 0.01505160245353416, 0.09606322601077057, 0.07851945188257002, 0.05955546588126209, 0.001699164832731889, -0.11454682014582138, 0.059759904480268876, -0.04146921088273126, -0.2022366137994874, -0.08164431659444686, -0.11596867574318763, 0.08986373984765622, -0.02055367980633051, -0.1796688084160128, 0.09947402323896606, -0.1814533559785735, 0.04378770218951808, 0.004285484732639405, -0.2585694519502501, 0.08333531926356015, 0.005468138519884838, -0.0029975804350068492, 0.047418613467485674, 0.09843883798607896, 0.13488338911725628, 0.05554501177562821, -0.0646679662168026, 0.05712951311180668, -0.9266676479770292, -0.045684566253649174, 0.02048674096623736, -0.029024019326654174, 0.05180308733495974, 0.1375035298988223, -0.09334363837936713, -0.050440967563659914, -0.10092243009937867, 0.11381241883481702, -0.1254035491015642, 0.09763366135678464, 0.08988816008692788, 0.0850526490849593, 0.09303449484850129, 0.04936269670724869, -0.11659272384431754, 0.10163653798161014, -0.07232093787001025, 0.19033948318552105, 0.11542374807627752, 0.047523710155679334, -0.08602774167253126, 0.09842013606741544, -0.07143319296019693, 0.044205553016640364, 0.09429790860702915, -0.1755918032534781, -0.07212503392609858, 0.05782206452661945, -0.05658422560701447, -0.022349254243196018, -0.018935015960220968, -0.019073027281416625, 0.12061713083136466, -1.3480756970182541, -0.08054121392929266, 0.14612412965535412, 0.008185092299695938, -0.13987277448177338, -0.06630661500798117, -0.005556289478385401, 0.007222361652360809, -0.21303898497154156, -0.06910518043291485, -0.18863841978412482, 0.018171308441988884, -0.0991685800254345, -0.014224772251421405, -0.06857411874338024, -0.08734051707940507, -0.0002075490962353445, -0.13466028045232017, -0.10502553297837655, -0.31627290203206, -0.06368606399384237, 0.010233998974604953, -0.03198273348501853, -0.07264396251599875, 0.042671776106280666, -0.07886296772067586, 0.12273951565786716, -0.19919244127888833, 0.22116053831433097, 0.0303510645584714, -0.11999965173703048, 0.025645548838280862, 0.18534892160941155, 0.03369065022636806, -0.036263545734747764, -0.010046097359830333, -0.22574851854193595, 0.0016118456926872773, 0.015528001431976595, 0.06494078125369045, 0.11522267888029737, 0.12012998762750818, -0.08783012838853944, 0.008106812894825012, 0.04039115774174852, 0.08416933984675955, -0.06997596346322567, 0.07444980446129076, -0.03639363398918161, -0.032432614615367304, -0.027853281357355656, -0.029193780970789732, -0.07994780291412626, 0.039508746580160674, 0.060085096426548495, 0.07874719341916422, -0.05619274386234822, -0.16374812903062952, 0.08498320893775071, -0.015292444672424256, 0.16050119229382084, -0.1170042914248282, 0.0484462833020746, -0.14557663128981668, -0.04687664423498415, 0.03537255107244897, -0.11168820026796311, -0.07457111561070046, -0.01470030159238846, -0.040870322936004205, -0.24120316251872048, -0.14836651687660524, -0.12362030239385222, -0.05228887226492647, 0.09738429409692125, -0.07605806329557972, 0.03097254764889517, -0.1284743224781367, -0.06876104400162736, -0.06539648434808178, 0.0013701101134140645, -0.1271301775329536, -0.07327830457060988, -0.03976545711198161, -0.006475028762173268, 0.014512710002881865, 0.07003614048082982, -0.002422950527210149, -0.014423260795733622, 0.033013678185882106, -0.150564145736186, -0.1148392915905964, 0.1375395641812394, 0.162994428402594, 0.02414689225805623, -0.06140948187807695, -0.05480448553158391, -0.007988275389277166, -0.03793348257820452, 0.0942971437658754, 0.019517082525717634, -0.048444607854171116, 0.06196114583496725, 0.07947899953972909, 0.10125769131005771, -0.17971638743315013, -0.17481916211545467, -0.05682632116781127, -0.10968206023737308, 0.14100641847377823, 0.04916902967999058, 0.09183541158845107, -0.024169939449958263, -0.05201671068226137, 0.018160547355129834, 0.14034726213844073, 0.11572235480191247, 0.0011036432378234403, -0.06573995894136568, 0.07668030147831287, 0.16539204430075422, 0.23845611145389417, -0.024395530036981066, 0.19377306356064736, -0.05035545202272554, -0.0633372884664324, -0.030199212239935033, 0.08975803347364548, 0.0874916178084189, 0.11293966162409033, -0.1426494208074385, -0.02608933013811287, -0.2565475212515242, -0.05069654903584911, -0.1479412610191972, -0.10394138710633401, -0.05854317024650593, 0.12267396749267655, -0.0411535800705033, 0.31059923163810443, -0.04545785970385036, 0.10283190252319459, -0.03808481850090527, 0.030978596859401273, 0.018370322041934537, -0.05954738386395958, 0.10571638506747061, -0.07789806183427572, 0.033444032944258184, -0.0005770473921250912, -0.15754218684929994, -0.02156322743112762, 0.058666060483383554, -0.019988220301926166, 0.06081722406370024, 0.09457361286566142, -0.02760196696486204, -0.15980725867613668, -0.0009355087306410555, -0.08977048363416426], [-0.2076222022374471, 0.15504499493787685, -0.09029840119183064, -0.06690460157891115, -0.009665454008306066, 0.06521273193260034, -0.002002774163459738, 0.04445082433521748, 0.07940428263197342, 2.3220499952634177, -0.33352271815141044, -0.06318460013717413, 0.053814768853286905, -0.0190078866124774, -0.2541709318757057, -0.06573321466955045, -0.26032506935298444, 0.6397738652924697, -0.022200055272939303, 0.09840303625290593, 0.1820565993587176, -0.04742739647626877, 0.0964487278368324, -0.14274033258358637, -0.09192573241889476, 0.012706329673528671, -0.12189887004594008, -0.03915459911028544, 0.03487906542917093, -0.062252064049243924, -0.05671186490605275, 0.2199463207895557, -0.05798980121811231, -0.059125741478055716, 0.17601663423508096, 0.08889466362694899, -0.009170466661453247, -0.11773593251903852, -0.1457499340797464, 0.09587320114175478, -0.005302069087823232, -0.03292040017743905, -0.02479355822627743, -0.005252801130215327, -0.04848699892560641, -0.08732393272221088, -0.010838201145331065, -0.0455128638073802, 0.02564193612585465, 0.0006013851457585891, -0.31073320054759584, 0.060862930367390315, -0.06886710077524186, -0.202129132548968, 0.02387119779984156, -0.04280352527275681, 0.05453726798295975, -0.0970477048928539, -0.05231900239984195, -0.2728861381610235, -0.04284545183181763, -0.1625965966532628, -0.11585813524822394, 0.01343019853035609, 0.21042880366245906, -0.06050454759970307, -0.0008986871689558029, 0.07957105475167434, 0.11244473507006963, -0.1618839311103026, 0.015075689476604263, -0.03255798083264381, 0.14553566494335732, -0.12423852893213432, 0.17841199735800425, -0.03304876588905851, 0.08777726702392101, 0.015373661477739612, 0.20550099909305572, 0.24784680008888244, 0.07443073367079099, -0.0011858648310105007, 0.04075480060031016, -0.040562667946020765, 0.03333939909934998, -0.03527687092622121, 0.3523086026310921, -0.28564153164625167, 0.17211633442590635, -0.09835106531778971, -0.11943133572737376, -0.058185131599505745, -0.05599183455730478, -0.03724466872711976, 0.10736176365365585, 0.00845533392081658, -0.0911757342517376, -0.08297754311934114, -0.1290341120834152, -0.10990312720338503, -0.010900067786375681, 0.01933110806470116, 0.08321493528783322, 0.03223348750422398, 0.20704900287091732, -1.0273013234138488, -0.06089458664258321, -0.2212432686239481, -0.14282305582116048, 0.09965513547261556, 0.11809960206349691, -0.1060576004286607, -0.03431079934040705, -0.19066513205567995, 0.051241735368967055, 0.07479936683860917, 0.11197822102112695, -0.08224199960629146, -0.05070886400838693, 0.04085706869761149, 0.0008664647738138835, -0.04363866398731867, 0.06523666841288407, -0.0782360037167867, 0.19620701000094415, 0.09369206832100947, 0.13726446479558946, -0.055813199778397875, 0.10684853096803029, -0.09382013579209646, -0.07065043958524862, 0.006514915191413214, -0.08359223341879746, -0.12676939186640085, -0.022272199392318726, -0.06450433358550071, -0.11184130505037805, -0.04034373114506404, -0.12521253116428852, 0.007246998573342959, -1.3496729347854852, -0.009626803050438563, 0.10699433510502179, 0.11212699922422568, -0.21289793128768603, 0.029244746423015992, -0.06144914175383746, 0.08331637361552566, -0.22377333045005798, -0.08136207101245721, 0.03214873615652323, -0.13034026523431141, -0.08944720017413298, -0.11560978961642832, 0.17831400074064732, 0.09459840245544911, -0.02219066595037778, -0.24604267080624898, -0.023673393313462535, 0.01970233072837194, -0.06704933096965154, 0.032279733071724576, -0.10669820122420788, 0.039417334645986554, -0.11564333438873291, 0.0801454013834397, 0.0964469322313865, -0.18371499826510748, 0.0191889309634765, 0.07187000264724096, -0.059359402706225715, 0.039915428838382165, 0.10556680162747702, -0.10788093308607737, 0.15768039884666601, 0.08928263491640488, -0.19221693873405457, 0.13451299766699473, 0.21398482049504916, 0.06140306939681371, 0.07817700020968914, 0.04401833241184552, -0.14104273406167825, 0.002912599096695582, 0.2236230652158459, 0.12273607667787777, -0.04254619814455509, -0.14735193103551864, 0.1664147106387342, 0.04125246653954188, -0.0727169125340879, -0.03970466877023379, 0.029244064539670944, -0.14293264218916496, 0.05128259708484014, 0.06249207234941423, 0.0030414024988810223, -0.03214546615878741, 0.15894776098430158, 0.09455533189078172, 0.08624499887228013, -0.16550987089673677, 0.13238993007689714, -0.16226133164018391, 0.04618926992019017, -0.08567242740343015, -0.0018093408395846685, -0.021094735463460287, 0.10370646320904295, 0.065352401137352, -0.10575185354488591, -0.017674662669499717, 0.14550352084139984, 0.2011451318860054, 0.10654513165354729, 0.005456203098098437, -0.03999999314546585, 0.03381013659139474, -0.1806369346876939, -0.03769265962764621, -0.05463241185061633, 0.14283286792536576, -0.13230136701992404, -0.09829700011759997, 0.036119680277382334, -0.007862627444167932, -0.04369125630085667, 0.043708998585740726, -0.07992433458566665, -0.2195100004474322, -0.18515239761521418, 0.01494326926767826, 0.07924309385319551, 0.08138473418851694, 0.011671932538350423, -0.10866839947799842, 0.2716918684542179, -0.11974599963674942, 0.059049919051661466, 0.06378407223771015, -0.07292553596198559, -0.12286473289132119, 0.09837560045222442, 0.07567879824588696, 0.16260666747887928, -0.10691259900728861, 0.08770026757071415, -0.031158265471458436, -0.27035226486623287, 0.10213666558265685, 0.0891208658615748, 0.11881433477004369, -0.04607192611632248, -0.07102695275098085, -0.1682485330849886, 0.15918400237957636, -0.08384500183165074, 0.01984543646685779, -0.07579959779977799, 0.17185453325510025, -0.0669160569513527, 0.2319590617592136, -0.09791640105346838, 0.11678626785675685, 0.03533512949943542, -0.19792613461613656, -0.049825336287419, -0.000551067478954792, 0.24872748081882795, 0.26257827058434485, -0.2885787320633729, -0.12982144445801774, 0.04182651173323393, 0.03599433253208796, -0.026659666374325753, 0.023708299174904822, 0.1091615334774057, 0.03244859601060549, 0.05892430062134129, 0.04284806450208028, -0.06118052111317714, 0.051867263143261275, -0.033409534270564714, 0.1060072715083758, 0.1251782671858867, -0.00966553327937921, 0.18007866628468036, -0.04792633168399334, 0.018336432124488055, -0.15660746482511362, -0.08286286617318789, 0.016286670913298926, -0.12907501306229582, -0.09557653193672498, 0.11230746619403362, 0.04995192959904671, -0.16395806397000948, -0.06555966548621654, -0.09054660523931185, 0.03587927147746086], [-0.20328593541877102, 0.05546725416168958, -0.034063990971726646, 0.04296588532735485, -0.02382958217375827, -0.04626672450254986, -0.0013282910932774668, -0.042426222300326284, 0.0821274009834848, 2.343963860014042, -0.17571800031892762, -0.10268418281943864, 0.015027597938156263, -0.0018182240393278854, -0.17986702215071623, 0.02630639054461733, -0.08916697627656893, 0.4612189992633346, -0.02249437061368258, 0.09302710855527865, 0.045617447748731874, -0.06132502383068688, 0.07841830007700165, -0.06921516714221496, 0.1859125412166022, 0.03951190460727296, -0.07699276369678117, -0.04064963520474296, -0.00042196523621920257, -0.03773465650549231, -0.0668913857715035, 0.13413735824733874, -0.038995651544114066, -0.0016843616363725492, 0.16269307680879327, 0.015792994383516928, -0.05212407118138893, 0.0036246483947464884, -0.13752653191543437, -0.01775311136766327, 0.02665199940761872, -0.03773437899668919, 0.024747686629945583, 0.06917854256522782, -0.051943886269174226, 0.016839483281137883, -0.055881233076552114, 0.011055770437475052, 0.037397452794709365, -0.01217699943899552, -0.14209581241041858, 0.07553934164620428, -0.07083673515605027, 0.019679930148791377, -0.06453497003304301, 0.04289972198773297, -0.05745190359703446, -0.04233421277868646, 0.010521458110366887, -0.11625259668511859, -0.07064162599914647, -0.04716873007022183, -0.055101951095880335, -0.12328512350387581, 0.08871192063579893, -0.06126752255980361, -0.06323849728911912, -0.004702364161078419, 0.0654132079855424, -0.02610805669237025, 0.0020954776154649625, -0.04396988516189642, 0.10337150295101735, -0.026329693330040614, 0.019291191614329718, 0.006760329100327542, -0.019711663290350276, -0.04858108725120592, 0.058952105210416696, 0.2033877781435073, -0.05659683480898112, -0.10170124665465109, -0.038528374943567756, -0.041106645389786596, -0.0017289738321991323, 0.007071855322264328, 0.09222529551570678, -0.20467635089918584, 0.11187898438399682, -0.02310470094323739, -0.12056124157824308, 0.011299766479181005, -0.05634404017057802, -0.002922851060117994, 0.01662265511861603, -0.07025373616866622, -0.082950286180168, 0.0066041125448771405, 0.013688046986754234, -0.0892179092156471, 0.06552569855415782, 0.06460655277652376, 0.12569480536312058, 0.004958728363120614, 0.1052034296875505, -1.169830226847394, -0.08804845860433559, -0.007390189182630123, -0.09084806307717892, 0.055691545419455445, 0.02532785301181403, 0.06187767199622471, -0.0161854704095855, -0.09037869357104812, 0.03691269372674552, 0.04415223953108509, 0.0725482715147868, -0.13680540963965046, 0.07112403460415442, -0.04463739988285226, -0.005813713248988444, 0.011335369223704586, -0.007339393772190896, 0.016843158899891107, 0.08765970853719764, -0.0048023938521132015, -0.015847097840402034, -0.06812402057951292, -0.05677152326702467, -0.017370840544962057, -0.039987869844953346, -0.0035436672771609595, -0.024312923240547926, -0.14247074661634307, 0.06690082168992754, -0.031306896883967504, -0.09573118321751789, 0.044178744649526654, -0.014857699314446806, -0.02192959059600555, -1.0373633891682734, 0.028718876350042107, 0.1260118015872484, 0.05919392790355078, -0.06826705261369466, -0.07741211139137386, -0.017839398219963755, 0.02925209298899228, -0.1004417012279321, -0.043170899402973084, 0.03996018309134071, -0.056163500921873305, -0.015450681414600317, 0.04754860872363478, 0.10896311383452509, 0.05510318046435714, -0.0813641043847832, -0.12734743150846137, -0.003767386789421563, -0.04067446818925265, -0.08214965353072802, -0.02382780272549913, -0.02479047904489562, 0.06958273501292646, -0.1606283864798629, -0.03758164727304421, 0.009480135506260898, -0.10090229357895139, 0.05838813326040331, -0.029816789226001734, -0.11630388119034227, -0.046670836432800664, 0.14331202368159754, -0.0036822957033593837, 0.10445134880251021, 0.028992955955788616, -0.05020817656141053, 0.03594059144961648, 0.04299648738823009, 0.07257648485761087, 0.04692952679742321, 0.03903320734540315, -0.018550421280617065, 0.03713809474531634, 0.001672154052074176, 0.1801497835146986, -0.009624570741941063, -0.0033122123364214, 0.07234054663998692, 0.042061348508456844, 0.022131861026501647, -0.09116353621999673, -0.0421026665520818, 0.027788329069720362, 0.09793592160779306, -0.008629393397963472, -0.04664848748724545, -0.029053055193893576, 0.08167387760401547, 0.12110342692450375, 0.06255108992835241, -0.0900563498196954, -0.029798760405415063, -0.06000148455382555, -0.04898947557508522, -0.0413389806968293, -0.04104398722176791, 0.04123615523098738, 0.02363981254543964, 0.06972821636198016, -0.05914465059634365, 0.07856863890203811, 0.06376307528592985, 0.04382620592807214, 0.17793587939027553, 0.040973087267756655, -0.02583541899432682, -0.009813272525018154, -0.20399956110382586, -0.019857994804813452, -0.08131438598048861, 0.004981200909997978, -0.14262848878627063, -0.024872878475671076, 0.022219655136487073, -0.025436672429681163, -0.01783771656057495, 0.024227056698798044, 0.0072394015037684474, -0.09529934202883296, -0.06874937625214844, 0.07046595315865464, 0.044927788309468704, -0.014460175485628378, -0.07466190644632874, -0.0660145208001433, 0.059790060398858286, -0.011370985668950848, 0.02203610931525412, 0.08266904499297115, 0.00607925616869969, -0.08218626387405222, 0.07774738900290874, -0.0010269701408294888, 0.053104767982250604, -0.041944063996575624, 0.007078774297585735, -0.00422671963400268, -0.10641390049993363, 0.11848433250138028, 0.07253049042203627, 0.052141160226439116, -0.054864139213196876, -0.09019527902098882, -0.07566109765018639, 0.05300292306180511, -0.08721372957096447, -0.05697311504211809, 0.03272933159994911, 0.03873263787426805, 0.008230105725830638, 0.1600384914449283, 0.022461057915775615, 0.059817274208422505, 0.011899617887646347, -0.037683799554436626, -0.004281226905779429, 0.014252110511403192, 0.23603484813764983, 0.0003026925668410667, -0.08283263969827782, 0.010668416815967141, -0.04684309593353469, 0.004955057838671635, 0.024973641622636933, -0.029855766862800174, -0.00244984253726948, -0.042044178742987964, -0.03126656865117491, 0.08198001817648916, 0.04534610894708229, 0.00010028510511695565, 0.03980730188475293, 0.09868966638074293, -0.005410140839877066, 0.10300996260530038, -0.06864637402249138, 0.05914584319099675, -0.009408309095684294, -0.013961380551714305, -0.09175831201794714, 0.05002401103930814, -0.06162889968367995, -0.04353339206155196, 0.040361726809256745, 0.07930008160341954, -0.032159820990485755, -0.03447373230546991, 0.03963699429779761, 0.0054343314287660935], [-0.09888300016367187, 0.10712423009681515, -0.04561366808290283, 0.0010183326279123623, 0.064141563915958, 0.001179001449296872, 0.02805075088205437, 0.006701666279695928, 0.06590258551295847, 2.2840520764390626, -0.16017774568172172, -0.02234009337068225, -0.049538623192347586, -0.07996583353572835, -0.18099370792818567, -0.02212235796226499, -0.15171287569683045, 0.45692212130719173, -0.16989842556661947, 0.1787452520802617, 0.02344603941310197, -0.1405435020569712, 0.13574954230959216, -0.1157183379594547, 0.15823308498753855, 0.03503103957821926, -0.1301042273019751, -0.1008206017674335, -0.01605575263965875, -0.05380392956431024, 0.06955941681129237, 0.05046974316549798, -0.06798150854107614, -0.05793732528885206, 0.11472766227355653, 0.07497247861465439, 0.018004699260927737, 0.08233730013792713, -0.16500595832864443, -0.16951712461498877, -0.11992145989400645, 0.10429175027335684, -0.051876291865482926, 0.1139074193003277, 0.019804706797003746, 0.1985300516244024, -0.1773099567120274, 0.0309539835434407, 0.03784265134648498, -0.03668670868501067, -0.1023595822819819, 0.11940470877258728, 0.003943682512423645, -0.1252186613746744, -0.10373470761502783, 0.10250565320408593, -0.09128633607178926, 0.05590779361470292, -0.00773881544591859, -0.007043750490993261, -0.14271699239422256, 0.03089766390621662, -0.19032374676316977, 0.04127325055499872, 0.1685629159134502, -0.054885666041324534, -0.004836778816146155, -0.013666382127363855, 0.12598937385094663, -0.005133376456797123, 0.11619454280783732, 0.033470957462365426, 0.18435397114565907, -0.043151750384519495, 0.04122845937187473, -0.05461314293400695, 0.07838237448595464, -0.05018970804909865, 0.053509998988981046, 0.23537504005556306, -0.07347766845487058, -0.04545625402533915, 0.09265291721870501, 0.029281705074633162, 0.04099687607958913, 0.039011330266172685, -0.042422874830663204, -0.258350749189655, 0.20808928223171583, -0.11114808280641834, -0.14108516842437288, -0.017480183858424425, -0.20640630113848601, 0.22946699995857975, 0.056755587458610535, -0.10652763317921199, -0.07712171595388402, 0.01105548766887902, -0.07276887601862352, 0.05559167397829393, 0.017683084045226376, -0.09161933201054732, 0.06885308302783717, -0.12531137427625558, 0.24759495933540165, -0.7171241729520261, -0.0009691858987442478, -0.1400289124964426, -0.07983853248879313, 0.13315091677941382, 0.036816997143129505, -0.08450933169418325, 0.04475691825306664, -0.05715145089197904, 0.11270470653350155, 0.006676083197817206, -0.05576595989987254, 0.008295376241828004, -0.04459358208502332, -0.12400395888835192, 0.06176908127963543, -0.0654140415135771, 0.0861132077795143, 0.04137719053930292, 0.11786037993927796, -0.01294449825460712, 0.07356173733326916, 0.012142532585130539, -0.11609729959551866, -0.058864516050865255, -0.19787820488757765, 0.048620250939469166, -0.016691198601620272, -0.26820541817384463, -0.007320840901229531, -0.17379420553334057, -0.01989889519366746, 0.06839449695932369, 0.03400649937490622, -0.10238524976496895, -1.4146595932543278, 0.06535808260863026, 0.08699383449675224, 0.09613945001425843, 0.006629008402038987, -0.11676687541572998, -0.13914179328518608, 0.03168270690366626, -0.05286220988879601, 0.06597058211142819, 0.03076241568972667, -0.05434575009470185, -0.0629135010143121, -0.020461541134864092, -0.0007358454943945011, 0.03440577662937964, -0.018814376012111705, -0.09471972562217464, -0.05862987164679604, -0.06404619056653853, -0.07590891607105732, 0.04372871189843863, -0.17791510487829024, -0.05487609133706428, -0.14448469771499126, -0.023497872209797304, 0.035397542951007686, -0.10042680976524328, 0.03316891364132365, -0.05274196865987809, -0.044866955877902605, 0.03750990858922402, 0.1624981292928472, 0.05596999948223432, 0.03881129661264519, -0.07303083431906998, -0.0985967512242496, -0.0041854955767727615, 0.05875400120082001, 0.08947036030197826, 0.14816730007684478, -0.11346240186442931, -0.031985699444097314, -0.040915292338468134, 0.13626191734025875, 0.0749468751406918, 0.0410101682258149, -0.05009620489242176, 0.0036482677484552064, 0.03176029290383061, 0.10330928862094879, -0.11988645019785811, -0.04555911980181312, -0.03472510969731957, 0.3226168337278068, 0.03457583347335458, -0.09868191555142403, -0.004600874846801162, 0.07550191522265474, 0.23526979183467725, 0.12470429910657306, -0.03538554041491201, 0.02138904354069382, -0.08215207098207127, -0.025701709324494004, 0.06397879220700513, -0.14116946188732982, -0.017603456624783576, 0.02021366683766246, -0.02041987704190736, -0.22559833410196006, 0.034347146516665816, -0.004061332331427063, 0.026697289509077866, 0.0877448379372557, 0.2238571272464469, -0.09311850112862885, -0.1223523320319752, -0.16906175126011172, 0.017571167244265478, -0.02485970640555024, -0.013863409355205173, -0.0520622069016099, -0.012129479359524945, 0.08506704098545015, -0.03401208051946014, -0.003333250293508172, -0.0009269126070042452, -0.05181311237780998, 0.0075586668293302255, -0.029435572573371854, 0.07428299856837839, 0.10771554273863633, 0.0034067689751585326, -0.11413582755873601, -0.11843162433554728, 0.08969787442280601, -0.04093487343440453, -0.017089720407966524, 0.11364537861663848, 0.026806996611412615, -0.11416182606384002, 0.005123798308583598, 0.11350897362960193, 0.05392487673088908, -0.19881787317960212, -0.008657999181499084, -0.0064176290955704944, -0.1436862871487392, 0.15159259856833765, 0.1300995668473964, 0.05413895923023423, -0.11982291929113369, -0.18142599953959385, -0.06377465334177639, 0.10708334473747527, -0.09523312592258056, -0.06068341131322086, -0.06573762645227059, -0.015521265580900945, 0.12801120771716037, 0.08845758873333882, -0.05339904323530694, 0.08411931738858887, 0.10859441291540861, -0.07856750084708135, 0.029592000568906467, -0.09349712325880925, 0.37959100445732474, 0.12258207398311545, -0.1032223427707019, 0.020899321457060676, -0.14976795700689158, 0.046636874156926446, 0.019997870122703414, 0.06542037345934659, 0.14351707644891576, -0.008843667649974426, -0.06509297362451132, 0.04988612700253725, 0.01336658482129375, 0.0022254709620028734, -0.15059870520296195, 0.15766808619567504, -0.01122327372043704, -0.10666133312042803, 0.044333461206406355, 0.0357641646405682, 0.02153062354773283, -0.03729084989754483, -0.11805993555268894, 0.09742625061577807, -0.008308040191574642, -0.015329442472041896, 0.1662872948218137, 0.08608233307798703, 0.05587928506429307, -0.1587337498397877, 0.03478133212774992, 0.07327529477576415], [-0.051047038109626394, 0.08786505214212571, -0.05224388114669744, -0.09417517658542185, -0.01370116657413104, 0.13746687901370666, 0.053456291994627786, -0.2870600008789231, 0.19802541154272416, 2.4234382159569683, -0.3838278813397183, 0.06017288384849534, -0.006464295308379566, -0.06928537794224479, -0.19044976418509202, -0.002254298217046787, 0.0037737119093756467, 0.8993755890166059, -0.02486454737920533, 0.15751206294140396, 0.08448929613565698, -0.18305877201697407, -0.01854247062960092, 0.026154705487629947, 0.13811123321818955, 0.022653823444510206, -0.08018723634236, -0.11881582910085425, -0.007119559792473036, -0.13762311511399114, 0.011761017034158987, -0.026609116836505776, 0.04575035463580314, -0.11568065792979564, 0.2669546188057318, 0.04781170539996203, 0.11737686570952921, -0.038894115125431734, 0.1182252917000476, 0.11525613784461337, 0.06418854132404223, 0.027190352954408702, -0.044384116197333616, -0.04093088012407808, -0.01730466027305845, 0.2254352021332392, 0.03764713944538551, -0.11777117475867271, 0.08809305552174063, -0.013461237444597133, -0.04731040951960227, -0.23933912046691952, 0.08501376671826139, 0.07684122694327551, -0.05499362912686432, -0.08888364890042473, 0.0981583540492198, 0.07298017638351988, 0.002017695566310602, 0.05811498861979036, 0.07697088233030894, 0.01607944000074092, 0.08669235266964226, -0.014454117154373843, 0.15303788487525546, -0.2581067037604311, -0.1308974150349112, 0.3506430631832165, 0.10085900166236303, 0.1676847131251741, -0.0365540625198799, -0.10322882404879612, -0.04899128978414571, -0.12793221321943052, 0.11722817797871198, 0.19695576439228127, 0.12282737533507102, 0.12094529663376949, 0.019358825157670415, 0.07849876823670723, 0.19475435487487736, 0.19119094038272605, -0.11978658880381023, 0.014194069398560232, 0.014116414548719631, 0.07006004223983515, 0.27499747320133094, 0.14419570351567337, 0.3238082948852988, 0.07094899647156983, -0.13224788141601226, 0.1410222376751549, -0.010303939418757664, -0.18235529236057224, 0.029897355858017418, -0.0046065887984107524, 0.04549784774837248, -0.037662788239472056, 0.21412676616626627, 0.1238335887901485, -0.00438470919342602, -0.030582870110212004, 0.11421608779688969, -0.1540236639625886, -0.11592188154292457, -0.6028158896986175, 0.22184929076363058, 0.10679779145592715, 0.062424764694536436, -0.1558157054378706, 0.16747617617468624, -0.05343876307939782, -0.02952570457230596, 0.04594523613067234, 0.172121941605035, -0.19792311682420619, -0.0019008347983745968, 0.10708470259080916, -0.07555896903881255, 0.13328311771757023, -0.020781781442244265, -0.16446864824084675, 0.14244508413214454, -0.06584507363903172, 0.21813217550516129, -0.05721652770743651, 0.10533817901330836, -0.11385523051242619, 0.23405156484531128, 0.005883793949204332, -0.08510594376746346, 0.03409453163690427, -0.19026408701970735, 0.07296423131928724, -0.07878988301929306, -0.017773772932260352, 0.013259059146923177, 0.017256938249749297, 0.002435468465966337, 0.08837494100717937, -1.4490988298374063, -0.08457540950792677, 0.18076966061969013, 0.0925386613508796, -0.20999088160255375, 0.1465838861596935, -0.21234811902703607, 0.03128982346285792, -0.1343022957444191, -0.09884314962512102, -0.0692478815531906, 0.10556464258800535, -0.09963147153201349, -0.05379997646121089, 0.06629931817159933, -0.16048941043589046, 0.2265041163739036, -0.19523845718118965, -0.06415046706302639, -0.2346367628505344, -0.07814770411042606, 0.017795595422606256, -0.11809511592282969, -0.11985741150291528, 0.19543576547328165, -0.19127282423569875, 0.07209141179919243, -0.036439472261597126, 0.16965629423365874, -0.030776295920505244, -0.09778988043613293, 0.10311194869470508, 0.1622992343721254, -0.049857767408385, -0.008345354184070054, 0.13343582389985814, -0.10752829449141726, 0.12200947133276392, -0.15105059217004216, 0.1299234113710768, 0.0985711799824939, -0.23820472853806088, -0.15733523776426034, 0.16866029426455498, 0.12481494094519054, 0.10664189363117604, 0.010728622581261922, -0.008380475289681378, 0.16434617680223548, -0.141411940293277, -0.32451164897750406, 0.01041394121506635, -0.1803657065200455, -0.026388329563333708, -0.11368405895636362, 0.08104341126540128, -0.0037062369725283455, -0.23542688710286336, 0.20202851229730776, -0.002846914097009336, -0.06066341018852066, -0.014167984646251974, 0.06149364788742626, -0.1678975845741875, 0.017663885127095616, 0.0190937537152101, -0.004965970902155866, -0.04215099892633803, 0.24023200442795367, -0.07984470378826647, -0.25295917887021513, 0.14071841012029088, 0.024448321349850363, 0.03024638772887342, -0.02352611830129343, -0.0018261178013156442, 0.1930276489652255, -0.14292688251418226, -0.2748041166102185, 0.06406441067948061, -0.06450773597530582, -0.13917876686900854, -0.034807803259943336, 0.11545000028084307, 0.002063596374629175, 0.1830448696444578, -0.07386358536999016, 0.011018203529495034, -0.10371352907489328, -0.0425208824522355, -0.22926352562054114, -0.11175966044025057, 0.19640723440577001, 0.16967053021139958, 0.12355608310933937, -0.1459531516781734, 0.06904470723341494, -0.1719361748546362, 0.020064647145131054, 0.060343835312832036, -0.24020600143600912, -0.008654251242713892, 0.0013372677734450383, 0.1708658837220248, 0.04797182451276218, -0.04002182169214768, -0.325725373264183, -0.1619565291878055, -0.05190831198363893, -0.08653352847870659, 0.08819848900277387, 0.0933122243047418, -0.11276341136544943, -0.024229117066544646, 0.2119230492697919, 0.18379358815796235, 0.007925241856890567, -0.14662510992082603, -0.1692031671614934, 0.06441079400589361, 0.007585358586819733, 0.12243653198375422, -0.009420492220669985, -0.12985586821485093, 0.048001529758467394, -0.013790411217247738, -0.16869005007559762, -0.11480952799320221, -0.40683000578599815, 0.11107423394808874, -0.2516408846439684, -0.16185470544459188, -0.11237500335418564, -0.0834329571465359, -0.15550941228866577, -0.06034694480545381, -0.000978586866575129, 0.07390605329590685, -0.03938205660704304, 0.26382235525285497, 0.03393811732530594, 0.04887369866756832, -0.1958254692966447, 0.062334881931105084, 0.0733661897453096, 0.09740023731308825, 0.20822329775375478, 0.10034064554116305, -0.15120700083892136, 0.038604887229773927, 0.145665882703136, -0.016804925362949315, 0.12280567135552273, 0.23492664931451573, 0.016774473383146173, 0.00015405894202344557, 0.14208735350300283, -0.14573605599648812, -0.1248370170018033, -0.15214082291897604], [-0.1634045479298493, 0.16030735010281205, -0.08225762685760855, -0.13698795655509458, -0.023923817666945978, 0.05284382165409625, 0.020475739135872573, -0.26428695464928753, 0.03421028660377488, 2.418090495467186, -0.2809711721492931, -0.017705384595319628, -0.006432141800178215, -0.08310317510622553, -0.30275687715038657, -0.060160579066723584, -0.060079150134697556, 0.8463473841547966, -0.08195105018094181, 0.025095623065135443, 0.07180814956082031, -0.040512950043193996, -0.02234026783844456, -0.12747980041895063, 0.09869528781273403, -0.030574994077323937, -0.08964508190983907, -0.08133517443202436, 0.19924953254521824, -0.17587232803925873, -0.06659113719215384, 0.00242784833535552, -0.010427175427321345, -0.012924555802601389, 0.0888214754872024, 0.04098735060542822, 0.014731515885796399, 0.01962143029086292, -0.052491723001003264, 0.02351387537200935, 0.08161531107034534, 0.029493879404617472, -0.06391675730119459, 0.017561626620590687, -0.025858458591392262, 0.07459496043156832, -0.08910386280622333, -0.014058749191462994, 0.07672157534398139, 0.0243147780187428, -0.0919971841503866, -0.06678587566129864, 0.1086532277346123, 0.1766248915460892, -0.06174108550185338, 0.033206197619438174, -0.03842692167963833, -0.10328561530041043, 0.004727050312794745, -0.075637474283576, -0.07788268036674709, -0.14050689889118076, -0.05576204815879464, 0.1872794204275124, 0.248556701594498, -0.11359757379977964, 0.019837543705943973, 0.10207934861537069, 0.09162630352075211, 0.12769085227046162, -0.06247180220670998, -0.0487171424436383, 0.08016705295303836, 0.027848224295303224, 0.115139744192129, 0.16934017174062319, 0.12554142356384546, -0.04859610081184655, -0.0003715299084433354, 0.16405285082291812, 0.036795155980507845, 0.09906637547537685, -0.0298630888806656, -0.1011036017909646, -0.07597130233189091, 0.00930817606858909, 0.22493437826633453, 0.06147729910444468, 0.20925314461346717, 0.02350899266457418, -0.03360844803974032, 0.05842438191175461, -0.0984154517063871, -0.04583442592993379, 0.07701660573948174, -0.17582963665481657, 0.10461434973403812, 0.0224172230460681, 0.08903212232980877, 0.03396899265935645, -0.030559725500643252, 0.0480304516851902, 0.060301105491817, -0.0576309755910188, 0.0810912465909496, -0.7040805020369589, 0.13428482324816288, -0.03316705235629343, 0.017673950409516692, 0.02133262673887657, 0.08678463189862669, -0.171337600518018, 0.029373225953895597, 0.0865750820201356, 0.15721946906996892, -0.03505260682431981, 0.06431695971405134, -0.0613803748972714, 0.00850517237558961, -0.018360923742875457, 0.09845616881502792, -0.040624058130197226, 0.0053543758811429145, -0.20323127475567163, 0.050047824339708315, -0.11069453721866011, -0.0014044500421732664, -0.021277704398380594, 0.03625811948440969, -0.05130585910519585, 0.008642299682833254, -0.02600939697586, -0.1482341004535556, -0.006980025488883257, 0.09887387313647196, -0.05250350456335582, -0.005358402372803539, 0.007520599733106792, 0.013044548931065946, 0.09082395201548935, -1.3587272584438324, 0.0387567494995892, 0.22221492384560407, 0.0016509101958945393, -0.0874662505928427, 0.05135387545451522, -0.23227890147827565, -0.007284930639434606, -0.007950357557274402, -0.07341764343582327, -0.12245838810922578, 0.012367779959458858, -0.018457149853929877, -0.04916106028831564, -0.02470603697001934, 0.025919276266358794, -0.006586293765576556, -0.07523302236804738, 0.07113445117138326, -0.15621340326033534, -0.11912752408534288, 0.0541776480153203, -0.0003609379287809134, -0.052898274082690475, 0.0408963671856327, -0.14155246480368078, -0.05636735625739675, -0.11958187494892628, 0.0954120504669845, -0.047888323478400704, -0.11813317416235805, -0.07279487466439605, -0.07751492599199991, -0.07360713742673397, -0.10044380520703271, 0.04445126176578924, -0.21187880306970328, 0.16831582509912552, 0.007942655368242412, -0.02875267546623945, -0.029065900156274437, -0.16523939831386086, -0.23253672234714032, 0.1096939492970705, 0.036585923936218026, 0.11220324479509144, 0.015786278038285674, 0.09021887211129069, 0.15497043041978031, -0.03462420995492721, -0.06177074846345931, 0.041687611484667285, -0.053508821921423075, -0.003716559486929327, -0.012387550342828036, 0.0894292210927233, 0.06884510219097137, -0.21790332617238165, 0.0445244743488729, 0.02316342239500955, 0.035972625389695166, -0.04291202677413821, -0.05496764816343784, -0.07560571331996471, -0.04077840225363616, 0.07223417871282437, 0.04614531452243682, 0.06552335692103953, 0.15290982471778988, 0.03405814230209216, -0.04646763682249002, 0.02287167333997786, 0.03282009763061069, 0.04439454176463187, 0.06298355096951128, -0.10123210716992617, 0.006200476281810552, -0.1394935223972425, -0.18094594832509756, -0.04878072468563914, -0.051900283666327596, -0.03841115003451705, -0.16693365033715962, 0.14272682657465338, -0.004148925933986902, -0.043720416049472986, -0.015286300820298493, -0.008765759959351272, -0.08584350077435374, -0.016707685304572804, -0.12201962451217696, 0.02313652532175183, 0.1669001993490383, 0.04268134832382202, -0.012683797693898668, -0.04621728550700936, 0.06807855074293911, -0.11853122138418257, 0.01273136800955399, 0.1056701467372477, -0.07419472485780716, -0.059776666428660974, 0.03210160352755338, 0.036974798212759195, 0.024580623977817594, -0.009231701027601957, -0.01872163456864655, -0.05951942657120526, -0.12078548890422099, 0.0670247098460095, -0.054693083418533205, 0.05800642000394873, -0.05814705021912232, -0.06732910042046569, 0.0619391752872616, 0.19324972592294215, -0.0012595286854775623, -0.02538092378526926, -0.10291622574441135, 0.0009363985853269696, 0.06434927444206551, 0.14340379215427673, -0.022658261621836574, -0.0944265601086954, 0.09497039876878262, -0.07760934573598206, -0.10225540027022362, 0.04192154908087105, 0.04469179594889283, 0.052314478473272176, -0.10887987921014428, -0.02405442427843809, -0.0040559493470937015, -0.14471612400375305, -0.09620480015873908, 0.1721000277902931, -0.024074718309566378, 0.02858884814195335, 0.01373957647010684, 0.21973339612595738, -0.06030576909543015, 0.012119236233411356, -0.04117972573731095, 0.08015405839541927, -0.07983600405350444, -0.03583145315060392, 0.13217761045671067, -0.0768536465940997, -0.03674097335897386, 0.004071255784947425, -0.08023268654942513, -0.0366767521481961, 0.1170339606818743, 0.02000499744899571, 0.10367672299034894, -0.03593118843855336, 0.025213883782271296, -0.049850579677149655, -0.037675558490445835, 0.015301776363048702], [-0.13058706314768642, 0.14821668970398605, -0.11791287362575531, -0.03360887477174401, 0.059472463763086125, 0.042095125652849674, 0.04555981024168432, -0.0330051863566041, -0.012548174650873989, 2.4550325125455856, -0.2092825682775583, -0.022796734469011426, 0.08084216888528317, -0.009342789999209344, -0.25925537617877126, 0.007296937983483076, -0.17423916110419668, 0.5141014321707189, -0.21515750233083963, 0.03651306463871151, 0.04449537594337016, 0.01950281480094418, 0.20598540687933564, -0.10304014872963307, 0.025315500563010573, -0.02706412656698376, -0.16306318854913116, -0.08925387426279485, 0.05906043585855514, -0.1416281247511506, 0.0018044990138150752, 0.11474059001193382, -0.09698800323531032, -0.13959265565790702, 0.17035788123030216, 0.04774493491277099, -0.016818250878714025, -0.08932074857875705, -0.13010150333866477, -0.0324460631236434, -0.05954119325906504, 0.14443212433252484, -0.04777081240899861, -0.11176545501803048, 0.07283775031100959, 0.040280560322571546, -0.05388574535027146, -0.07173594064079225, 0.03071957456995733, 0.05869143572635949, -0.31096724793314934, 0.09701962466351688, 0.03771443630103022, -0.07396319054532796, 0.10782874713186175, 0.07413798602647148, -0.15092056628782302, -0.0516814982984215, -0.00970394181786105, -0.07535493525210768, -0.16388393289525993, -0.01375834859936731, -0.14853568328544497, 0.02950212312862277, 0.003713564365170896, -0.15237506292760372, -0.014315681939478964, 0.12553298700368032, 0.20357778354082257, 0.04474831186234951, -0.11876966671843547, 0.06221110037586186, 0.19809551691287197, -0.036041562678292394, 0.2227136839646846, -0.03603999689221382, -0.02585381391691044, -0.03870175196789205, 0.019244343333411962, 0.22180968686006963, 0.03499668708536774, 0.03962574910838157, 0.0450856878887862, -0.05136767975636758, 0.038147064158692956, -0.17947362130507827, 0.03760726735345088, -0.3682355001801625, 0.22583612333983183, -0.07110781141091138, -0.15545525145716965, 0.01998493866994977, -0.09649656235706061, 0.06084637506864965, 0.10309881274588406, -0.12777749943779781, 0.059395124146249145, -0.08543712494429201, -0.03319702611770481, -0.10935459629399702, -0.07766399648971856, 0.020202325336867943, 0.01555031826137565, -0.18341999308904633, 0.18355550162959844, -1.1331312507390976, -0.0632951888255775, -0.24927805789047852, -0.13010703815962188, 0.1624005027115345, -0.00870046453201212, -0.12548112333752215, 0.0065523742232471704, -0.1653483995469287, 0.10576474922709167, 0.07320237475505564, 0.03049818833824247, -0.008380811894312501, -0.06603743706364185, -0.09730562451295555, 0.0069275654386729, 0.06513502453708497, 0.0057111632922897115, -0.05386218661442399, 0.10816711877123453, 0.042503125965595245, 0.207651874050498, -0.09951435458788183, -0.005160437664017081, 0.004517186665907502, -0.042135874391533434, -0.04962343908846378, -0.09020112286088988, -0.011917570693185553, 0.06638631178066134, 0.007517562247812748, -0.07736910090898164, -0.009015438728965819, 0.029374748468399048, -0.018904938886407763, -1.4986571375047788, 0.0727150000166148, 0.20365938022223418, 0.03683868597727269, 0.07874131388962269, -0.05620573621126823, -0.07106143655255437, 0.10854242605273612, -0.21902937529375777, -0.044393060030415654, -0.015276625053957105, -0.007079937146045268, -0.005443373927846551, 0.0027021997011615895, 0.06512837542686611, 0.00017308024689555168, 0.10400544106960297, -0.13511381988064386, -0.04531692451564595, -0.03948768973350525, 0.007654564687982202, 0.13762287644203752, -0.16104031732538715, 0.1939999660316971, -0.021347250556573272, -0.02790300315245986, 0.08667837333632633, -0.20041299751028419, 0.045452502090483904, -0.046804610115941614, -0.028763603782863356, 0.02468281297478825, 0.015426562982611358, 0.0013804196496494114, 0.1607195270480588, 0.07948240033874754, -0.16586260959957144, 0.07093581382650882, 0.2149431249126792, -0.020499433274380863, 0.012036374304443598, 0.04861739810439758, -0.09820118779316545, -0.051075311144813895, 0.1478954330086708, 0.04237849859055132, -0.037012887303717434, -0.08085312834009528, 0.14029881125316024, 0.1542342499596998, -0.015129456522117835, -0.04390374897047877, -0.00304617706569843, -0.3203062489628792, 0.1770038092508912, 0.12828162787263864, -0.03063100017607212, -0.12982662685681134, 0.0579919625306502, 0.030187124270014465, 0.18728037207620218, 0.006563751958310604, 0.07573881419375539, -0.1781546869315207, 0.18923188047483563, -0.02959819571697153, -0.07448293722700328, -0.13200856430921704, 0.09969000853016041, -0.02687941276235506, -0.1630328722530976, -0.02851256256690249, 0.04937661509029567, 0.017196998465806246, 0.20233231270685792, 0.10406932065961882, -0.07350381556898355, -0.04857634596373828, -0.19385199970565736, -0.0056095009204000235, -0.03779825195670128, 0.12356068845838308, -0.0248908670982928, -0.03459493740228936, 0.09271624771645293, 0.06497531244531274, 0.0857040612027049, 0.06021462450735271, -0.04617883826722391, -0.09452506224624813, -0.11337827556417324, 0.04391574952751398, 0.13378577533876523, -0.008845123462378979, 0.047165613097604364, -0.099750563967973, 0.07906593580264598, -0.14005581196397543, 0.061401189770549536, 0.15489025204442441, -0.22742225788533688, -0.008322197594679892, 0.007144289214920718, 0.1301037473604083, -0.011486193630844355, -0.03893537155818194, -0.04066143953241408, -0.05106462462572381, -0.28021637396886945, 0.12740843673236668, 0.07171487296000123, -0.01647481182590127, -0.06271074968390167, -0.07813052483834326, -0.11767512653023005, 0.20067956019192934, -0.06338987417984754, -0.01590752528863959, -0.08000856172293425, 0.17283225094433874, -0.04812905064318329, 0.09742787340655923, -0.01351037563290447, 0.23878706200048327, 0.17592399648856372, -0.0531238813937307, 0.0012173124123364687, -0.01283706520916894, 0.19874406687449664, 0.3363762507215142, 0.01233950222376734, -0.08823083073366433, -0.17536787781864405, -0.06877259636530653, -0.07069812528789043, 0.2106491862796247, 0.19189925014507025, 0.06569143841625191, 0.06133531406521797, 0.2072901928331703, -0.11082306352909654, -0.05958737520268187, -0.03498900181148201, 0.1458993775304407, -0.06110472421278246, -0.09616043628193438, 0.16714187758043408, -0.026809750706888735, 0.03506312402896583, -0.003242625272832811, -0.045804873341694474, 0.11988343833945692, -0.006942756939679384, -0.11794959696999285, 0.1846991260536015, 0.05674212030135095, -0.1200603733304888, 0.040856683161109686, -0.0644823359180009, 0.14565062266774476]]\n"
          ],
          "name": "stdout"
        },
        {
          "output_type": "execute_result",
          "data": {
            "text/plain": [
              "382"
            ]
          },
          "metadata": {
            "tags": []
          },
          "execution_count": 79
        }
      ]
    },
    {
      "cell_type": "markdown",
      "metadata": {
        "id": "DZSgV6G5tBir",
        "colab_type": "text"
      },
      "source": [
        "# Finding the score to beat\n",
        "\n",
        "As is seen below, the score to beat to demonstrate our model is better than chance is 0.6173913043478261."
      ]
    },
    {
      "cell_type": "code",
      "metadata": {
        "id": "CeJgDGg4eIP0",
        "colab_type": "code",
        "outputId": "f057ad42-6ba9-4024-aaf7-918f5622b592",
        "colab": {
          "base_uri": "https://localhost:8080/",
          "height": 35
        }
      },
      "source": [
        "# Split data into test and training sets\n",
        "X_train = text_vectors[:267]\n",
        "Y_train = vote[:267]\n",
        "\n",
        "X_test = text_vectors[267:]\n",
        "Y_test = vote[267:] \n",
        "\n",
        "# Score to beat with ANN model\n",
        "Y_test.count(1)/len(Y_test)"
      ],
      "execution_count": 80,
      "outputs": [
        {
          "output_type": "execute_result",
          "data": {
            "text/plain": [
              "0.6173913043478261"
            ]
          },
          "metadata": {
            "tags": []
          },
          "execution_count": 80
        }
      ]
    },
    {
      "cell_type": "code",
      "metadata": {
        "id": "I3HnGFx5V3AB",
        "colab_type": "code",
        "outputId": "8497c285-3bea-4a2a-e87f-920f793f3ddd",
        "colab": {
          "base_uri": "https://localhost:8080/",
          "height": 35
        }
      },
      "source": [
        "Y_test[:20]"
      ],
      "execution_count": 82,
      "outputs": [
        {
          "output_type": "execute_result",
          "data": {
            "text/plain": [
              "[1, 1, 1, 1, 1, 1, 0, 1, 0, 1, 0, 1, 0, 0, 1, 1, 1, 1, 1, 0]"
            ]
          },
          "metadata": {
            "tags": []
          },
          "execution_count": 82
        }
      ]
    },
    {
      "cell_type": "markdown",
      "metadata": {
        "id": "pn4YINbtVJdn",
        "colab_type": "text"
      },
      "source": [
        "# Grid Searches"
      ]
    },
    {
      "cell_type": "code",
      "metadata": {
        "id": "32jqj6RorOxm",
        "colab_type": "code",
        "outputId": "94f76206-f631-4a16-8671-d330da6f0a65",
        "colab": {
          "base_uri": "https://localhost:8080/",
          "height": 1000
        }
      },
      "source": [
        "# Do grid search for best nodes and hidden layer amounts\n",
        "up.grid_search([[64,1], [32, 1], [32,16,1], [16, 8, 1], [64, 32, 1], [64, 32, 16, 1], [128, 64, 32, 1], [128,1]], [10,15,20,30, 40, 50,75, 100], X_train, Y_train)"
      ],
      "execution_count": 69,
      "outputs": [
        {
          "output_type": "stream",
          "text": [
            "Fitting 3 folds for each of 64 candidates, totalling 192 fits\n",
            "[CV] batch_size=1, epochs=10, input_dim=300, lyrs=(64, 1) ............\n"
          ],
          "name": "stdout"
        },
        {
          "output_type": "stream",
          "text": [
            "[Parallel(n_jobs=1)]: Using backend SequentialBackend with 1 concurrent workers.\n"
          ],
          "name": "stderr"
        },
        {
          "output_type": "stream",
          "text": [
            "[CV]  batch_size=1, epochs=10, input_dim=300, lyrs=(64, 1), total=   1.6s\n",
            "[CV] batch_size=1, epochs=10, input_dim=300, lyrs=(64, 1) ............\n"
          ],
          "name": "stdout"
        },
        {
          "output_type": "stream",
          "text": [
            "[Parallel(n_jobs=1)]: Done   1 out of   1 | elapsed:    1.6s remaining:    0.0s\n"
          ],
          "name": "stderr"
        },
        {
          "output_type": "stream",
          "text": [
            "[CV]  batch_size=1, epochs=10, input_dim=300, lyrs=(64, 1), total=   1.6s\n",
            "[CV] batch_size=1, epochs=10, input_dim=300, lyrs=(64, 1) ............\n",
            "[CV]  batch_size=1, epochs=10, input_dim=300, lyrs=(64, 1), total=   1.5s\n",
            "[CV] batch_size=1, epochs=10, input_dim=300, lyrs=(32, 1) ............\n",
            "[CV]  batch_size=1, epochs=10, input_dim=300, lyrs=(32, 1), total=   1.6s\n",
            "[CV] batch_size=1, epochs=10, input_dim=300, lyrs=(32, 1) ............\n",
            "[CV]  batch_size=1, epochs=10, input_dim=300, lyrs=(32, 1), total=   1.5s\n",
            "[CV] batch_size=1, epochs=10, input_dim=300, lyrs=(32, 1) ............\n",
            "[CV]  batch_size=1, epochs=10, input_dim=300, lyrs=(32, 1), total=   1.5s\n",
            "[CV] batch_size=1, epochs=10, input_dim=300, lyrs=(32, 16, 1) ........\n",
            "[CV]  batch_size=1, epochs=10, input_dim=300, lyrs=(32, 16, 1), total=   1.6s\n",
            "[CV] batch_size=1, epochs=10, input_dim=300, lyrs=(32, 16, 1) ........\n",
            "[CV]  batch_size=1, epochs=10, input_dim=300, lyrs=(32, 16, 1), total=   1.6s\n",
            "[CV] batch_size=1, epochs=10, input_dim=300, lyrs=(32, 16, 1) ........\n",
            "[CV]  batch_size=1, epochs=10, input_dim=300, lyrs=(32, 16, 1), total=   1.5s\n",
            "[CV] batch_size=1, epochs=10, input_dim=300, lyrs=(16, 8, 1) .........\n",
            "[CV]  batch_size=1, epochs=10, input_dim=300, lyrs=(16, 8, 1), total=   1.5s\n",
            "[CV] batch_size=1, epochs=10, input_dim=300, lyrs=(16, 8, 1) .........\n",
            "[CV]  batch_size=1, epochs=10, input_dim=300, lyrs=(16, 8, 1), total=   1.6s\n",
            "[CV] batch_size=1, epochs=10, input_dim=300, lyrs=(16, 8, 1) .........\n",
            "[CV]  batch_size=1, epochs=10, input_dim=300, lyrs=(16, 8, 1), total=   1.5s\n",
            "[CV] batch_size=1, epochs=10, input_dim=300, lyrs=(64, 32, 1) ........\n",
            "[CV]  batch_size=1, epochs=10, input_dim=300, lyrs=(64, 32, 1), total=   1.6s\n",
            "[CV] batch_size=1, epochs=10, input_dim=300, lyrs=(64, 32, 1) ........\n",
            "[CV]  batch_size=1, epochs=10, input_dim=300, lyrs=(64, 32, 1), total=   1.6s\n",
            "[CV] batch_size=1, epochs=10, input_dim=300, lyrs=(64, 32, 1) ........\n",
            "[CV]  batch_size=1, epochs=10, input_dim=300, lyrs=(64, 32, 1), total=   1.6s\n",
            "[CV] batch_size=1, epochs=10, input_dim=300, lyrs=(64, 32, 16, 1) ....\n",
            "[CV]  batch_size=1, epochs=10, input_dim=300, lyrs=(64, 32, 16, 1), total=   1.7s\n",
            "[CV] batch_size=1, epochs=10, input_dim=300, lyrs=(64, 32, 16, 1) ....\n",
            "[CV]  batch_size=1, epochs=10, input_dim=300, lyrs=(64, 32, 16, 1), total=   2.0s\n",
            "[CV] batch_size=1, epochs=10, input_dim=300, lyrs=(64, 32, 16, 1) ....\n",
            "[CV]  batch_size=1, epochs=10, input_dim=300, lyrs=(64, 32, 16, 1), total=   1.7s\n",
            "[CV] batch_size=1, epochs=10, input_dim=300, lyrs=(128, 64, 32, 1) ...\n",
            "[CV]  batch_size=1, epochs=10, input_dim=300, lyrs=(128, 64, 32, 1), total=   1.7s\n",
            "[CV] batch_size=1, epochs=10, input_dim=300, lyrs=(128, 64, 32, 1) ...\n",
            "[CV]  batch_size=1, epochs=10, input_dim=300, lyrs=(128, 64, 32, 1), total=   1.7s\n",
            "[CV] batch_size=1, epochs=10, input_dim=300, lyrs=(128, 64, 32, 1) ...\n",
            "[CV]  batch_size=1, epochs=10, input_dim=300, lyrs=(128, 64, 32, 1), total=   1.7s\n",
            "[CV] batch_size=1, epochs=10, input_dim=300, lyrs=(128, 1) ...........\n",
            "[CV]  batch_size=1, epochs=10, input_dim=300, lyrs=(128, 1), total=   1.6s\n",
            "[CV] batch_size=1, epochs=10, input_dim=300, lyrs=(128, 1) ...........\n",
            "[CV]  batch_size=1, epochs=10, input_dim=300, lyrs=(128, 1), total=   1.5s\n",
            "[CV] batch_size=1, epochs=10, input_dim=300, lyrs=(128, 1) ...........\n",
            "[CV]  batch_size=1, epochs=10, input_dim=300, lyrs=(128, 1), total=   1.6s\n",
            "[CV] batch_size=1, epochs=15, input_dim=300, lyrs=(64, 1) ............\n",
            "[CV]  batch_size=1, epochs=15, input_dim=300, lyrs=(64, 1), total=   2.1s\n",
            "[CV] batch_size=1, epochs=15, input_dim=300, lyrs=(64, 1) ............\n",
            "[CV]  batch_size=1, epochs=15, input_dim=300, lyrs=(64, 1), total=   2.1s\n",
            "[CV] batch_size=1, epochs=15, input_dim=300, lyrs=(64, 1) ............\n",
            "[CV]  batch_size=1, epochs=15, input_dim=300, lyrs=(64, 1), total=   2.0s\n",
            "[CV] batch_size=1, epochs=15, input_dim=300, lyrs=(32, 1) ............\n",
            "[CV]  batch_size=1, epochs=15, input_dim=300, lyrs=(32, 1), total=   2.0s\n",
            "[CV] batch_size=1, epochs=15, input_dim=300, lyrs=(32, 1) ............\n",
            "[CV]  batch_size=1, epochs=15, input_dim=300, lyrs=(32, 1), total=   2.1s\n",
            "[CV] batch_size=1, epochs=15, input_dim=300, lyrs=(32, 1) ............\n",
            "[CV]  batch_size=1, epochs=15, input_dim=300, lyrs=(32, 1), total=   2.0s\n",
            "[CV] batch_size=1, epochs=15, input_dim=300, lyrs=(32, 16, 1) ........\n",
            "[CV]  batch_size=1, epochs=15, input_dim=300, lyrs=(32, 16, 1), total=   2.1s\n",
            "[CV] batch_size=1, epochs=15, input_dim=300, lyrs=(32, 16, 1) ........\n",
            "[CV]  batch_size=1, epochs=15, input_dim=300, lyrs=(32, 16, 1), total=   2.1s\n",
            "[CV] batch_size=1, epochs=15, input_dim=300, lyrs=(32, 16, 1) ........\n",
            "[CV]  batch_size=1, epochs=15, input_dim=300, lyrs=(32, 16, 1), total=   2.1s\n",
            "[CV] batch_size=1, epochs=15, input_dim=300, lyrs=(16, 8, 1) .........\n",
            "[CV]  batch_size=1, epochs=15, input_dim=300, lyrs=(16, 8, 1), total=   2.5s\n",
            "[CV] batch_size=1, epochs=15, input_dim=300, lyrs=(16, 8, 1) .........\n",
            "[CV]  batch_size=1, epochs=15, input_dim=300, lyrs=(16, 8, 1), total=   2.1s\n",
            "[CV] batch_size=1, epochs=15, input_dim=300, lyrs=(16, 8, 1) .........\n",
            "[CV]  batch_size=1, epochs=15, input_dim=300, lyrs=(16, 8, 1), total=   2.1s\n",
            "[CV] batch_size=1, epochs=15, input_dim=300, lyrs=(64, 32, 1) ........\n",
            "[CV]  batch_size=1, epochs=15, input_dim=300, lyrs=(64, 32, 1), total=   2.2s\n",
            "[CV] batch_size=1, epochs=15, input_dim=300, lyrs=(64, 32, 1) ........\n",
            "[CV]  batch_size=1, epochs=15, input_dim=300, lyrs=(64, 32, 1), total=   2.3s\n",
            "[CV] batch_size=1, epochs=15, input_dim=300, lyrs=(64, 32, 1) ........\n",
            "[CV]  batch_size=1, epochs=15, input_dim=300, lyrs=(64, 32, 1), total=   2.4s\n",
            "[CV] batch_size=1, epochs=15, input_dim=300, lyrs=(64, 32, 16, 1) ....\n",
            "[CV]  batch_size=1, epochs=15, input_dim=300, lyrs=(64, 32, 16, 1), total=   2.4s\n",
            "[CV] batch_size=1, epochs=15, input_dim=300, lyrs=(64, 32, 16, 1) ....\n",
            "[CV]  batch_size=1, epochs=15, input_dim=300, lyrs=(64, 32, 16, 1), total=   2.2s\n",
            "[CV] batch_size=1, epochs=15, input_dim=300, lyrs=(64, 32, 16, 1) ....\n",
            "[CV]  batch_size=1, epochs=15, input_dim=300, lyrs=(64, 32, 16, 1), total=   2.3s\n",
            "[CV] batch_size=1, epochs=15, input_dim=300, lyrs=(128, 64, 32, 1) ...\n",
            "[CV]  batch_size=1, epochs=15, input_dim=300, lyrs=(128, 64, 32, 1), total=   2.4s\n",
            "[CV] batch_size=1, epochs=15, input_dim=300, lyrs=(128, 64, 32, 1) ...\n",
            "[CV]  batch_size=1, epochs=15, input_dim=300, lyrs=(128, 64, 32, 1), total=   2.3s\n",
            "[CV] batch_size=1, epochs=15, input_dim=300, lyrs=(128, 64, 32, 1) ...\n",
            "[CV]  batch_size=1, epochs=15, input_dim=300, lyrs=(128, 64, 32, 1), total=   2.3s\n",
            "[CV] batch_size=1, epochs=15, input_dim=300, lyrs=(128, 1) ...........\n",
            "[CV]  batch_size=1, epochs=15, input_dim=300, lyrs=(128, 1), total=   2.1s\n",
            "[CV] batch_size=1, epochs=15, input_dim=300, lyrs=(128, 1) ...........\n",
            "[CV]  batch_size=1, epochs=15, input_dim=300, lyrs=(128, 1), total=   2.1s\n",
            "[CV] batch_size=1, epochs=15, input_dim=300, lyrs=(128, 1) ...........\n",
            "[CV]  batch_size=1, epochs=15, input_dim=300, lyrs=(128, 1), total=   2.1s\n",
            "[CV] batch_size=1, epochs=20, input_dim=300, lyrs=(64, 1) ............\n",
            "[CV]  batch_size=1, epochs=20, input_dim=300, lyrs=(64, 1), total=   2.6s\n",
            "[CV] batch_size=1, epochs=20, input_dim=300, lyrs=(64, 1) ............\n",
            "[CV]  batch_size=1, epochs=20, input_dim=300, lyrs=(64, 1), total=   2.9s\n",
            "[CV] batch_size=1, epochs=20, input_dim=300, lyrs=(64, 1) ............\n",
            "[CV]  batch_size=1, epochs=20, input_dim=300, lyrs=(64, 1), total=   2.6s\n",
            "[CV] batch_size=1, epochs=20, input_dim=300, lyrs=(32, 1) ............\n",
            "[CV]  batch_size=1, epochs=20, input_dim=300, lyrs=(32, 1), total=   2.6s\n",
            "[CV] batch_size=1, epochs=20, input_dim=300, lyrs=(32, 1) ............\n",
            "[CV]  batch_size=1, epochs=20, input_dim=300, lyrs=(32, 1), total=   2.9s\n",
            "[CV] batch_size=1, epochs=20, input_dim=300, lyrs=(32, 1) ............\n",
            "[CV]  batch_size=1, epochs=20, input_dim=300, lyrs=(32, 1), total=   2.9s\n",
            "[CV] batch_size=1, epochs=20, input_dim=300, lyrs=(32, 16, 1) ........\n",
            "[CV]  batch_size=1, epochs=20, input_dim=300, lyrs=(32, 16, 1), total=   3.0s\n",
            "[CV] batch_size=1, epochs=20, input_dim=300, lyrs=(32, 16, 1) ........\n",
            "[CV]  batch_size=1, epochs=20, input_dim=300, lyrs=(32, 16, 1), total=   2.9s\n",
            "[CV] batch_size=1, epochs=20, input_dim=300, lyrs=(32, 16, 1) ........\n",
            "[CV]  batch_size=1, epochs=20, input_dim=300, lyrs=(32, 16, 1), total=   2.7s\n",
            "[CV] batch_size=1, epochs=20, input_dim=300, lyrs=(16, 8, 1) .........\n",
            "[CV]  batch_size=1, epochs=20, input_dim=300, lyrs=(16, 8, 1), total=   2.6s\n",
            "[CV] batch_size=1, epochs=20, input_dim=300, lyrs=(16, 8, 1) .........\n",
            "[CV]  batch_size=1, epochs=20, input_dim=300, lyrs=(16, 8, 1), total=   2.7s\n",
            "[CV] batch_size=1, epochs=20, input_dim=300, lyrs=(16, 8, 1) .........\n",
            "[CV]  batch_size=1, epochs=20, input_dim=300, lyrs=(16, 8, 1), total=   2.7s\n",
            "[CV] batch_size=1, epochs=20, input_dim=300, lyrs=(64, 32, 1) ........\n",
            "[CV]  batch_size=1, epochs=20, input_dim=300, lyrs=(64, 32, 1), total=   2.7s\n",
            "[CV] batch_size=1, epochs=20, input_dim=300, lyrs=(64, 32, 1) ........\n",
            "[CV]  batch_size=1, epochs=20, input_dim=300, lyrs=(64, 32, 1), total=   2.7s\n",
            "[CV] batch_size=1, epochs=20, input_dim=300, lyrs=(64, 32, 1) ........\n",
            "[CV]  batch_size=1, epochs=20, input_dim=300, lyrs=(64, 32, 1), total=   2.7s\n",
            "[CV] batch_size=1, epochs=20, input_dim=300, lyrs=(64, 32, 16, 1) ....\n",
            "[CV]  batch_size=1, epochs=20, input_dim=300, lyrs=(64, 32, 16, 1), total=   2.9s\n",
            "[CV] batch_size=1, epochs=20, input_dim=300, lyrs=(64, 32, 16, 1) ....\n",
            "[CV]  batch_size=1, epochs=20, input_dim=300, lyrs=(64, 32, 16, 1), total=   2.8s\n",
            "[CV] batch_size=1, epochs=20, input_dim=300, lyrs=(64, 32, 16, 1) ....\n",
            "[CV]  batch_size=1, epochs=20, input_dim=300, lyrs=(64, 32, 16, 1), total=   2.8s\n",
            "[CV] batch_size=1, epochs=20, input_dim=300, lyrs=(128, 64, 32, 1) ...\n",
            "[CV]  batch_size=1, epochs=20, input_dim=300, lyrs=(128, 64, 32, 1), total=   3.3s\n",
            "[CV] batch_size=1, epochs=20, input_dim=300, lyrs=(128, 64, 32, 1) ...\n",
            "[CV]  batch_size=1, epochs=20, input_dim=300, lyrs=(128, 64, 32, 1), total=   2.9s\n",
            "[CV] batch_size=1, epochs=20, input_dim=300, lyrs=(128, 64, 32, 1) ...\n",
            "[CV]  batch_size=1, epochs=20, input_dim=300, lyrs=(128, 64, 32, 1), total=   2.9s\n",
            "[CV] batch_size=1, epochs=20, input_dim=300, lyrs=(128, 1) ...........\n",
            "[CV]  batch_size=1, epochs=20, input_dim=300, lyrs=(128, 1), total=   2.7s\n",
            "[CV] batch_size=1, epochs=20, input_dim=300, lyrs=(128, 1) ...........\n",
            "[CV]  batch_size=1, epochs=20, input_dim=300, lyrs=(128, 1), total=   2.7s\n",
            "[CV] batch_size=1, epochs=20, input_dim=300, lyrs=(128, 1) ...........\n",
            "[CV]  batch_size=1, epochs=20, input_dim=300, lyrs=(128, 1), total=   2.7s\n",
            "[CV] batch_size=1, epochs=30, input_dim=300, lyrs=(64, 1) ............\n",
            "[CV]  batch_size=1, epochs=30, input_dim=300, lyrs=(64, 1), total=   3.7s\n",
            "[CV] batch_size=1, epochs=30, input_dim=300, lyrs=(64, 1) ............\n",
            "[CV]  batch_size=1, epochs=30, input_dim=300, lyrs=(64, 1), total=   3.7s\n",
            "[CV] batch_size=1, epochs=30, input_dim=300, lyrs=(64, 1) ............\n",
            "[CV]  batch_size=1, epochs=30, input_dim=300, lyrs=(64, 1), total=   3.7s\n",
            "[CV] batch_size=1, epochs=30, input_dim=300, lyrs=(32, 1) ............\n",
            "[CV]  batch_size=1, epochs=30, input_dim=300, lyrs=(32, 1), total=   3.7s\n",
            "[CV] batch_size=1, epochs=30, input_dim=300, lyrs=(32, 1) ............\n",
            "[CV]  batch_size=1, epochs=30, input_dim=300, lyrs=(32, 1), total=   3.7s\n",
            "[CV] batch_size=1, epochs=30, input_dim=300, lyrs=(32, 1) ............\n",
            "[CV]  batch_size=1, epochs=30, input_dim=300, lyrs=(32, 1), total=   3.6s\n",
            "[CV] batch_size=1, epochs=30, input_dim=300, lyrs=(32, 16, 1) ........\n",
            "[CV]  batch_size=1, epochs=30, input_dim=300, lyrs=(32, 16, 1), total=   3.8s\n",
            "[CV] batch_size=1, epochs=30, input_dim=300, lyrs=(32, 16, 1) ........\n",
            "[CV]  batch_size=1, epochs=30, input_dim=300, lyrs=(32, 16, 1), total=   3.8s\n",
            "[CV] batch_size=1, epochs=30, input_dim=300, lyrs=(32, 16, 1) ........\n",
            "[CV]  batch_size=1, epochs=30, input_dim=300, lyrs=(32, 16, 1), total=   3.8s\n",
            "[CV] batch_size=1, epochs=30, input_dim=300, lyrs=(16, 8, 1) .........\n",
            "[CV]  batch_size=1, epochs=30, input_dim=300, lyrs=(16, 8, 1), total=   3.8s\n",
            "[CV] batch_size=1, epochs=30, input_dim=300, lyrs=(16, 8, 1) .........\n",
            "[CV]  batch_size=1, epochs=30, input_dim=300, lyrs=(16, 8, 1), total=   3.7s\n",
            "[CV] batch_size=1, epochs=30, input_dim=300, lyrs=(16, 8, 1) .........\n",
            "[CV]  batch_size=1, epochs=30, input_dim=300, lyrs=(16, 8, 1), total=   3.7s\n",
            "[CV] batch_size=1, epochs=30, input_dim=300, lyrs=(64, 32, 1) ........\n",
            "[CV]  batch_size=1, epochs=30, input_dim=300, lyrs=(64, 32, 1), total=   3.8s\n",
            "[CV] batch_size=1, epochs=30, input_dim=300, lyrs=(64, 32, 1) ........\n",
            "[CV]  batch_size=1, epochs=30, input_dim=300, lyrs=(64, 32, 1), total=   3.9s\n",
            "[CV] batch_size=1, epochs=30, input_dim=300, lyrs=(64, 32, 1) ........\n",
            "[CV]  batch_size=1, epochs=30, input_dim=300, lyrs=(64, 32, 1), total=   4.3s\n",
            "[CV] batch_size=1, epochs=30, input_dim=300, lyrs=(64, 32, 16, 1) ....\n",
            "[CV]  batch_size=1, epochs=30, input_dim=300, lyrs=(64, 32, 16, 1), total=   4.1s\n",
            "[CV] batch_size=1, epochs=30, input_dim=300, lyrs=(64, 32, 16, 1) ....\n",
            "[CV]  batch_size=1, epochs=30, input_dim=300, lyrs=(64, 32, 16, 1), total=   4.0s\n",
            "[CV] batch_size=1, epochs=30, input_dim=300, lyrs=(64, 32, 16, 1) ....\n",
            "[CV]  batch_size=1, epochs=30, input_dim=300, lyrs=(64, 32, 16, 1), total=   4.1s\n",
            "[CV] batch_size=1, epochs=30, input_dim=300, lyrs=(128, 64, 32, 1) ...\n",
            "[CV]  batch_size=1, epochs=30, input_dim=300, lyrs=(128, 64, 32, 1), total=   4.1s\n",
            "[CV] batch_size=1, epochs=30, input_dim=300, lyrs=(128, 64, 32, 1) ...\n",
            "[CV]  batch_size=1, epochs=30, input_dim=300, lyrs=(128, 64, 32, 1), total=   4.2s\n",
            "[CV] batch_size=1, epochs=30, input_dim=300, lyrs=(128, 64, 32, 1) ...\n",
            "[CV]  batch_size=1, epochs=30, input_dim=300, lyrs=(128, 64, 32, 1), total=   4.1s\n",
            "[CV] batch_size=1, epochs=30, input_dim=300, lyrs=(128, 1) ...........\n",
            "[CV]  batch_size=1, epochs=30, input_dim=300, lyrs=(128, 1), total=   3.7s\n",
            "[CV] batch_size=1, epochs=30, input_dim=300, lyrs=(128, 1) ...........\n",
            "[CV]  batch_size=1, epochs=30, input_dim=300, lyrs=(128, 1), total=   3.8s\n",
            "[CV] batch_size=1, epochs=30, input_dim=300, lyrs=(128, 1) ...........\n",
            "[CV]  batch_size=1, epochs=30, input_dim=300, lyrs=(128, 1), total=   3.8s\n",
            "[CV] batch_size=1, epochs=40, input_dim=300, lyrs=(64, 1) ............\n",
            "[CV]  batch_size=1, epochs=40, input_dim=300, lyrs=(64, 1), total=   5.0s\n",
            "[CV] batch_size=1, epochs=40, input_dim=300, lyrs=(64, 1) ............\n",
            "[CV]  batch_size=1, epochs=40, input_dim=300, lyrs=(64, 1), total=   7.4s\n",
            "[CV] batch_size=1, epochs=40, input_dim=300, lyrs=(64, 1) ............\n",
            "[CV]  batch_size=1, epochs=40, input_dim=300, lyrs=(64, 1), total=   4.8s\n",
            "[CV] batch_size=1, epochs=40, input_dim=300, lyrs=(32, 1) ............\n",
            "[CV]  batch_size=1, epochs=40, input_dim=300, lyrs=(32, 1), total=   4.7s\n",
            "[CV] batch_size=1, epochs=40, input_dim=300, lyrs=(32, 1) ............\n",
            "[CV]  batch_size=1, epochs=40, input_dim=300, lyrs=(32, 1), total=   4.7s\n",
            "[CV] batch_size=1, epochs=40, input_dim=300, lyrs=(32, 1) ............\n",
            "[CV]  batch_size=1, epochs=40, input_dim=300, lyrs=(32, 1), total=   4.7s\n",
            "[CV] batch_size=1, epochs=40, input_dim=300, lyrs=(32, 16, 1) ........\n",
            "[CV]  batch_size=1, epochs=40, input_dim=300, lyrs=(32, 16, 1), total=   4.9s\n",
            "[CV] batch_size=1, epochs=40, input_dim=300, lyrs=(32, 16, 1) ........\n",
            "[CV]  batch_size=1, epochs=40, input_dim=300, lyrs=(32, 16, 1), total=   4.8s\n",
            "[CV] batch_size=1, epochs=40, input_dim=300, lyrs=(32, 16, 1) ........\n",
            "[CV]  batch_size=1, epochs=40, input_dim=300, lyrs=(32, 16, 1), total=   5.4s\n",
            "[CV] batch_size=1, epochs=40, input_dim=300, lyrs=(16, 8, 1) .........\n",
            "[CV]  batch_size=1, epochs=40, input_dim=300, lyrs=(16, 8, 1), total=   4.8s\n",
            "[CV] batch_size=1, epochs=40, input_dim=300, lyrs=(16, 8, 1) .........\n",
            "[CV]  batch_size=1, epochs=40, input_dim=300, lyrs=(16, 8, 1), total=   4.8s\n",
            "[CV] batch_size=1, epochs=40, input_dim=300, lyrs=(16, 8, 1) .........\n",
            "[CV]  batch_size=1, epochs=40, input_dim=300, lyrs=(16, 8, 1), total=   4.9s\n",
            "[CV] batch_size=1, epochs=40, input_dim=300, lyrs=(64, 32, 1) ........\n",
            "[CV]  batch_size=1, epochs=40, input_dim=300, lyrs=(64, 32, 1), total=   4.9s\n",
            "[CV] batch_size=1, epochs=40, input_dim=300, lyrs=(64, 32, 1) ........\n",
            "[CV]  batch_size=1, epochs=40, input_dim=300, lyrs=(64, 32, 1), total=   5.1s\n",
            "[CV] batch_size=1, epochs=40, input_dim=300, lyrs=(64, 32, 1) ........\n",
            "[CV]  batch_size=1, epochs=40, input_dim=300, lyrs=(64, 32, 1), total=   4.9s\n",
            "[CV] batch_size=1, epochs=40, input_dim=300, lyrs=(64, 32, 16, 1) ....\n",
            "[CV]  batch_size=1, epochs=40, input_dim=300, lyrs=(64, 32, 16, 1), total=   5.2s\n",
            "[CV] batch_size=1, epochs=40, input_dim=300, lyrs=(64, 32, 16, 1) ....\n",
            "[CV]  batch_size=1, epochs=40, input_dim=300, lyrs=(64, 32, 16, 1), total=   5.1s\n",
            "[CV] batch_size=1, epochs=40, input_dim=300, lyrs=(64, 32, 16, 1) ....\n",
            "[CV]  batch_size=1, epochs=40, input_dim=300, lyrs=(64, 32, 16, 1), total=   5.3s\n",
            "[CV] batch_size=1, epochs=40, input_dim=300, lyrs=(128, 64, 32, 1) ...\n",
            "[CV]  batch_size=1, epochs=40, input_dim=300, lyrs=(128, 64, 32, 1), total=   5.3s\n",
            "[CV] batch_size=1, epochs=40, input_dim=300, lyrs=(128, 64, 32, 1) ...\n",
            "[CV]  batch_size=1, epochs=40, input_dim=300, lyrs=(128, 64, 32, 1), total=   5.3s\n",
            "[CV] batch_size=1, epochs=40, input_dim=300, lyrs=(128, 64, 32, 1) ...\n",
            "[CV]  batch_size=1, epochs=40, input_dim=300, lyrs=(128, 64, 32, 1), total=   5.3s\n",
            "[CV] batch_size=1, epochs=40, input_dim=300, lyrs=(128, 1) ...........\n",
            "[CV]  batch_size=1, epochs=40, input_dim=300, lyrs=(128, 1), total=   5.0s\n",
            "[CV] batch_size=1, epochs=40, input_dim=300, lyrs=(128, 1) ...........\n",
            "[CV]  batch_size=1, epochs=40, input_dim=300, lyrs=(128, 1), total=   4.9s\n",
            "[CV] batch_size=1, epochs=40, input_dim=300, lyrs=(128, 1) ...........\n",
            "[CV]  batch_size=1, epochs=40, input_dim=300, lyrs=(128, 1), total=   4.9s\n",
            "[CV] batch_size=1, epochs=50, input_dim=300, lyrs=(64, 1) ............\n",
            "[CV]  batch_size=1, epochs=50, input_dim=300, lyrs=(64, 1), total=   6.5s\n",
            "[CV] batch_size=1, epochs=50, input_dim=300, lyrs=(64, 1) ............\n",
            "[CV]  batch_size=1, epochs=50, input_dim=300, lyrs=(64, 1), total=   5.8s\n",
            "[CV] batch_size=1, epochs=50, input_dim=300, lyrs=(64, 1) ............\n",
            "[CV]  batch_size=1, epochs=50, input_dim=300, lyrs=(64, 1), total=   6.2s\n",
            "[CV] batch_size=1, epochs=50, input_dim=300, lyrs=(32, 1) ............\n",
            "[CV]  batch_size=1, epochs=50, input_dim=300, lyrs=(32, 1), total=   5.8s\n",
            "[CV] batch_size=1, epochs=50, input_dim=300, lyrs=(32, 1) ............\n",
            "[CV]  batch_size=1, epochs=50, input_dim=300, lyrs=(32, 1), total=   5.9s\n",
            "[CV] batch_size=1, epochs=50, input_dim=300, lyrs=(32, 1) ............\n",
            "[CV]  batch_size=1, epochs=50, input_dim=300, lyrs=(32, 1), total=   5.8s\n",
            "[CV] batch_size=1, epochs=50, input_dim=300, lyrs=(32, 16, 1) ........\n",
            "[CV]  batch_size=1, epochs=50, input_dim=300, lyrs=(32, 16, 1), total=   6.3s\n",
            "[CV] batch_size=1, epochs=50, input_dim=300, lyrs=(32, 16, 1) ........\n",
            "[CV]  batch_size=1, epochs=50, input_dim=300, lyrs=(32, 16, 1), total=   6.7s\n",
            "[CV] batch_size=1, epochs=50, input_dim=300, lyrs=(32, 16, 1) ........\n",
            "[CV]  batch_size=1, epochs=50, input_dim=300, lyrs=(32, 16, 1), total=   6.1s\n",
            "[CV] batch_size=1, epochs=50, input_dim=300, lyrs=(16, 8, 1) .........\n",
            "[CV]  batch_size=1, epochs=50, input_dim=300, lyrs=(16, 8, 1), total=   6.0s\n",
            "[CV] batch_size=1, epochs=50, input_dim=300, lyrs=(16, 8, 1) .........\n",
            "[CV]  batch_size=1, epochs=50, input_dim=300, lyrs=(16, 8, 1), total=   6.0s\n",
            "[CV] batch_size=1, epochs=50, input_dim=300, lyrs=(16, 8, 1) .........\n",
            "[CV]  batch_size=1, epochs=50, input_dim=300, lyrs=(16, 8, 1), total=   6.0s\n",
            "[CV] batch_size=1, epochs=50, input_dim=300, lyrs=(64, 32, 1) ........\n",
            "[CV]  batch_size=1, epochs=50, input_dim=300, lyrs=(64, 32, 1), total=   6.1s\n",
            "[CV] batch_size=1, epochs=50, input_dim=300, lyrs=(64, 32, 1) ........\n",
            "[CV]  batch_size=1, epochs=50, input_dim=300, lyrs=(64, 32, 1), total=   6.1s\n",
            "[CV] batch_size=1, epochs=50, input_dim=300, lyrs=(64, 32, 1) ........\n",
            "[CV]  batch_size=1, epochs=50, input_dim=300, lyrs=(64, 32, 1), total=   6.3s\n",
            "[CV] batch_size=1, epochs=50, input_dim=300, lyrs=(64, 32, 16, 1) ....\n",
            "[CV]  batch_size=1, epochs=50, input_dim=300, lyrs=(64, 32, 16, 1), total=   6.2s\n",
            "[CV] batch_size=1, epochs=50, input_dim=300, lyrs=(64, 32, 16, 1) ....\n",
            "[CV]  batch_size=1, epochs=50, input_dim=300, lyrs=(64, 32, 16, 1), total=   6.5s\n",
            "[CV] batch_size=1, epochs=50, input_dim=300, lyrs=(64, 32, 16, 1) ....\n",
            "[CV]  batch_size=1, epochs=50, input_dim=300, lyrs=(64, 32, 16, 1), total=   6.2s\n",
            "[CV] batch_size=1, epochs=50, input_dim=300, lyrs=(128, 64, 32, 1) ...\n",
            "[CV]  batch_size=1, epochs=50, input_dim=300, lyrs=(128, 64, 32, 1), total=   6.6s\n",
            "[CV] batch_size=1, epochs=50, input_dim=300, lyrs=(128, 64, 32, 1) ...\n",
            "[CV]  batch_size=1, epochs=50, input_dim=300, lyrs=(128, 64, 32, 1), total=   6.4s\n",
            "[CV] batch_size=1, epochs=50, input_dim=300, lyrs=(128, 64, 32, 1) ...\n",
            "[CV]  batch_size=1, epochs=50, input_dim=300, lyrs=(128, 64, 32, 1), total=   6.3s\n",
            "[CV] batch_size=1, epochs=50, input_dim=300, lyrs=(128, 1) ...........\n",
            "[CV]  batch_size=1, epochs=50, input_dim=300, lyrs=(128, 1), total=   6.4s\n",
            "[CV] batch_size=1, epochs=50, input_dim=300, lyrs=(128, 1) ...........\n",
            "[CV]  batch_size=1, epochs=50, input_dim=300, lyrs=(128, 1), total=   6.0s\n",
            "[CV] batch_size=1, epochs=50, input_dim=300, lyrs=(128, 1) ...........\n",
            "[CV]  batch_size=1, epochs=50, input_dim=300, lyrs=(128, 1), total=   6.3s\n",
            "[CV] batch_size=1, epochs=75, input_dim=300, lyrs=(64, 1) ............\n",
            "[CV]  batch_size=1, epochs=75, input_dim=300, lyrs=(64, 1), total=   8.8s\n",
            "[CV] batch_size=1, epochs=75, input_dim=300, lyrs=(64, 1) ............\n",
            "[CV]  batch_size=1, epochs=75, input_dim=300, lyrs=(64, 1), total=   8.5s\n",
            "[CV] batch_size=1, epochs=75, input_dim=300, lyrs=(64, 1) ............\n",
            "[CV]  batch_size=1, epochs=75, input_dim=300, lyrs=(64, 1), total=   8.5s\n",
            "[CV] batch_size=1, epochs=75, input_dim=300, lyrs=(32, 1) ............\n",
            "[CV]  batch_size=1, epochs=75, input_dim=300, lyrs=(32, 1), total=   8.6s\n",
            "[CV] batch_size=1, epochs=75, input_dim=300, lyrs=(32, 1) ............\n",
            "[CV]  batch_size=1, epochs=75, input_dim=300, lyrs=(32, 1), total=   8.5s\n",
            "[CV] batch_size=1, epochs=75, input_dim=300, lyrs=(32, 1) ............\n",
            "[CV]  batch_size=1, epochs=75, input_dim=300, lyrs=(32, 1), total=   8.5s\n",
            "[CV] batch_size=1, epochs=75, input_dim=300, lyrs=(32, 16, 1) ........\n",
            "[CV]  batch_size=1, epochs=75, input_dim=300, lyrs=(32, 16, 1), total=   8.6s\n",
            "[CV] batch_size=1, epochs=75, input_dim=300, lyrs=(32, 16, 1) ........\n",
            "[CV]  batch_size=1, epochs=75, input_dim=300, lyrs=(32, 16, 1), total=   8.7s\n",
            "[CV] batch_size=1, epochs=75, input_dim=300, lyrs=(32, 16, 1) ........\n",
            "[CV]  batch_size=1, epochs=75, input_dim=300, lyrs=(32, 16, 1), total=   8.8s\n",
            "[CV] batch_size=1, epochs=75, input_dim=300, lyrs=(16, 8, 1) .........\n",
            "[CV]  batch_size=1, epochs=75, input_dim=300, lyrs=(16, 8, 1), total=   8.7s\n",
            "[CV] batch_size=1, epochs=75, input_dim=300, lyrs=(16, 8, 1) .........\n",
            "[CV]  batch_size=1, epochs=75, input_dim=300, lyrs=(16, 8, 1), total=   8.7s\n",
            "[CV] batch_size=1, epochs=75, input_dim=300, lyrs=(16, 8, 1) .........\n",
            "[CV]  batch_size=1, epochs=75, input_dim=300, lyrs=(16, 8, 1), total=   8.9s\n",
            "[CV] batch_size=1, epochs=75, input_dim=300, lyrs=(64, 32, 1) ........\n",
            "[CV]  batch_size=1, epochs=75, input_dim=300, lyrs=(64, 32, 1), total=   8.9s\n",
            "[CV] batch_size=1, epochs=75, input_dim=300, lyrs=(64, 32, 1) ........\n",
            "[CV]  batch_size=1, epochs=75, input_dim=300, lyrs=(64, 32, 1), total=   8.8s\n",
            "[CV] batch_size=1, epochs=75, input_dim=300, lyrs=(64, 32, 1) ........\n",
            "[CV]  batch_size=1, epochs=75, input_dim=300, lyrs=(64, 32, 1), total=   8.8s\n",
            "[CV] batch_size=1, epochs=75, input_dim=300, lyrs=(64, 32, 16, 1) ....\n",
            "[CV]  batch_size=1, epochs=75, input_dim=300, lyrs=(64, 32, 16, 1), total=   9.1s\n",
            "[CV] batch_size=1, epochs=75, input_dim=300, lyrs=(64, 32, 16, 1) ....\n",
            "[CV]  batch_size=1, epochs=75, input_dim=300, lyrs=(64, 32, 16, 1), total=   9.3s\n",
            "[CV] batch_size=1, epochs=75, input_dim=300, lyrs=(64, 32, 16, 1) ....\n",
            "[CV]  batch_size=1, epochs=75, input_dim=300, lyrs=(64, 32, 16, 1), total=   9.2s\n",
            "[CV] batch_size=1, epochs=75, input_dim=300, lyrs=(128, 64, 32, 1) ...\n",
            "[CV]  batch_size=1, epochs=75, input_dim=300, lyrs=(128, 64, 32, 1), total=  10.6s\n",
            "[CV] batch_size=1, epochs=75, input_dim=300, lyrs=(128, 64, 32, 1) ...\n",
            "[CV]  batch_size=1, epochs=75, input_dim=300, lyrs=(128, 64, 32, 1), total=   9.7s\n",
            "[CV] batch_size=1, epochs=75, input_dim=300, lyrs=(128, 64, 32, 1) ...\n",
            "[CV]  batch_size=1, epochs=75, input_dim=300, lyrs=(128, 64, 32, 1), total=   9.7s\n",
            "[CV] batch_size=1, epochs=75, input_dim=300, lyrs=(128, 1) ...........\n",
            "[CV]  batch_size=1, epochs=75, input_dim=300, lyrs=(128, 1), total=   8.8s\n",
            "[CV] batch_size=1, epochs=75, input_dim=300, lyrs=(128, 1) ...........\n",
            "[CV]  batch_size=1, epochs=75, input_dim=300, lyrs=(128, 1), total=   9.3s\n",
            "[CV] batch_size=1, epochs=75, input_dim=300, lyrs=(128, 1) ...........\n",
            "[CV]  batch_size=1, epochs=75, input_dim=300, lyrs=(128, 1), total=   9.7s\n",
            "[CV] batch_size=1, epochs=100, input_dim=300, lyrs=(64, 1) ...........\n",
            "[CV]  batch_size=1, epochs=100, input_dim=300, lyrs=(64, 1), total=  11.2s\n",
            "[CV] batch_size=1, epochs=100, input_dim=300, lyrs=(64, 1) ...........\n",
            "[CV]  batch_size=1, epochs=100, input_dim=300, lyrs=(64, 1), total=  11.4s\n",
            "[CV] batch_size=1, epochs=100, input_dim=300, lyrs=(64, 1) ...........\n",
            "[CV]  batch_size=1, epochs=100, input_dim=300, lyrs=(64, 1), total=  11.4s\n",
            "[CV] batch_size=1, epochs=100, input_dim=300, lyrs=(32, 1) ...........\n",
            "[CV]  batch_size=1, epochs=100, input_dim=300, lyrs=(32, 1), total=  11.2s\n",
            "[CV] batch_size=1, epochs=100, input_dim=300, lyrs=(32, 1) ...........\n",
            "[CV]  batch_size=1, epochs=100, input_dim=300, lyrs=(32, 1), total=  11.2s\n",
            "[CV] batch_size=1, epochs=100, input_dim=300, lyrs=(32, 1) ...........\n",
            "[CV]  batch_size=1, epochs=100, input_dim=300, lyrs=(32, 1), total=  11.2s\n",
            "[CV] batch_size=1, epochs=100, input_dim=300, lyrs=(32, 16, 1) .......\n",
            "[CV]  batch_size=1, epochs=100, input_dim=300, lyrs=(32, 16, 1), total=  11.4s\n",
            "[CV] batch_size=1, epochs=100, input_dim=300, lyrs=(32, 16, 1) .......\n",
            "[CV]  batch_size=1, epochs=100, input_dim=300, lyrs=(32, 16, 1), total=  11.5s\n",
            "[CV] batch_size=1, epochs=100, input_dim=300, lyrs=(32, 16, 1) .......\n",
            "[CV]  batch_size=1, epochs=100, input_dim=300, lyrs=(32, 16, 1), total=  11.5s\n",
            "[CV] batch_size=1, epochs=100, input_dim=300, lyrs=(16, 8, 1) ........\n",
            "[CV]  batch_size=1, epochs=100, input_dim=300, lyrs=(16, 8, 1), total=  11.5s\n",
            "[CV] batch_size=1, epochs=100, input_dim=300, lyrs=(16, 8, 1) ........\n",
            "[CV]  batch_size=1, epochs=100, input_dim=300, lyrs=(16, 8, 1), total=  11.2s\n",
            "[CV] batch_size=1, epochs=100, input_dim=300, lyrs=(16, 8, 1) ........\n",
            "[CV]  batch_size=1, epochs=100, input_dim=300, lyrs=(16, 8, 1), total=  14.3s\n",
            "[CV] batch_size=1, epochs=100, input_dim=300, lyrs=(64, 32, 1) .......\n",
            "[CV]  batch_size=1, epochs=100, input_dim=300, lyrs=(64, 32, 1), total=  12.1s\n",
            "[CV] batch_size=1, epochs=100, input_dim=300, lyrs=(64, 32, 1) .......\n",
            "[CV]  batch_size=1, epochs=100, input_dim=300, lyrs=(64, 32, 1), total=  11.5s\n",
            "[CV] batch_size=1, epochs=100, input_dim=300, lyrs=(64, 32, 1) .......\n",
            "[CV]  batch_size=1, epochs=100, input_dim=300, lyrs=(64, 32, 1), total=  12.2s\n",
            "[CV] batch_size=1, epochs=100, input_dim=300, lyrs=(64, 32, 16, 1) ...\n",
            "[CV]  batch_size=1, epochs=100, input_dim=300, lyrs=(64, 32, 16, 1), total=  12.1s\n",
            "[CV] batch_size=1, epochs=100, input_dim=300, lyrs=(64, 32, 16, 1) ...\n",
            "[CV]  batch_size=1, epochs=100, input_dim=300, lyrs=(64, 32, 16, 1), total=  12.2s\n",
            "[CV] batch_size=1, epochs=100, input_dim=300, lyrs=(64, 32, 16, 1) ...\n",
            "[CV]  batch_size=1, epochs=100, input_dim=300, lyrs=(64, 32, 16, 1), total=  11.9s\n",
            "[CV] batch_size=1, epochs=100, input_dim=300, lyrs=(128, 64, 32, 1) ..\n",
            "[CV]  batch_size=1, epochs=100, input_dim=300, lyrs=(128, 64, 32, 1), total=  12.3s\n",
            "[CV] batch_size=1, epochs=100, input_dim=300, lyrs=(128, 64, 32, 1) ..\n",
            "[CV]  batch_size=1, epochs=100, input_dim=300, lyrs=(128, 64, 32, 1), total=  12.4s\n",
            "[CV] batch_size=1, epochs=100, input_dim=300, lyrs=(128, 64, 32, 1) ..\n",
            "[CV]  batch_size=1, epochs=100, input_dim=300, lyrs=(128, 64, 32, 1), total=  12.6s\n",
            "[CV] batch_size=1, epochs=100, input_dim=300, lyrs=(128, 1) ..........\n",
            "[CV]  batch_size=1, epochs=100, input_dim=300, lyrs=(128, 1), total=  12.3s\n",
            "[CV] batch_size=1, epochs=100, input_dim=300, lyrs=(128, 1) ..........\n",
            "[CV]  batch_size=1, epochs=100, input_dim=300, lyrs=(128, 1), total=  11.6s\n",
            "[CV] batch_size=1, epochs=100, input_dim=300, lyrs=(128, 1) ..........\n",
            "[CV]  batch_size=1, epochs=100, input_dim=300, lyrs=(128, 1), total=  11.6s\n"
          ],
          "name": "stdout"
        },
        {
          "output_type": "stream",
          "text": [
            "[Parallel(n_jobs=1)]: Done 192 out of 192 | elapsed: 17.0min finished\n"
          ],
          "name": "stderr"
        },
        {
          "output_type": "stream",
          "text": [
            "Best: 0.700375 using {'batch_size': 1, 'epochs': 75, 'input_dim': 300, 'lyrs': (128, 1)}\n",
            "0.625468 (0.055299) with: {'batch_size': 1, 'epochs': 10, 'input_dim': 300, 'lyrs': (64, 1)}\n",
            "0.625468 (0.055299) with: {'batch_size': 1, 'epochs': 10, 'input_dim': 300, 'lyrs': (32, 1)}\n",
            "0.625468 (0.055299) with: {'batch_size': 1, 'epochs': 10, 'input_dim': 300, 'lyrs': (32, 16, 1)}\n",
            "0.625468 (0.055299) with: {'batch_size': 1, 'epochs': 10, 'input_dim': 300, 'lyrs': (16, 8, 1)}\n",
            "0.625468 (0.055299) with: {'batch_size': 1, 'epochs': 10, 'input_dim': 300, 'lyrs': (64, 32, 1)}\n",
            "0.625468 (0.055299) with: {'batch_size': 1, 'epochs': 10, 'input_dim': 300, 'lyrs': (64, 32, 16, 1)}\n",
            "0.625468 (0.055299) with: {'batch_size': 1, 'epochs': 10, 'input_dim': 300, 'lyrs': (128, 64, 32, 1)}\n",
            "0.625468 (0.055299) with: {'batch_size': 1, 'epochs': 10, 'input_dim': 300, 'lyrs': (128, 1)}\n",
            "0.576779 (0.037077) with: {'batch_size': 1, 'epochs': 15, 'input_dim': 300, 'lyrs': (64, 1)}\n",
            "0.629213 (0.060159) with: {'batch_size': 1, 'epochs': 15, 'input_dim': 300, 'lyrs': (32, 1)}\n",
            "0.625468 (0.055299) with: {'batch_size': 1, 'epochs': 15, 'input_dim': 300, 'lyrs': (32, 16, 1)}\n",
            "0.625468 (0.055299) with: {'batch_size': 1, 'epochs': 15, 'input_dim': 300, 'lyrs': (16, 8, 1)}\n",
            "0.625468 (0.055299) with: {'batch_size': 1, 'epochs': 15, 'input_dim': 300, 'lyrs': (64, 32, 1)}\n",
            "0.625468 (0.055299) with: {'batch_size': 1, 'epochs': 15, 'input_dim': 300, 'lyrs': (64, 32, 16, 1)}\n",
            "0.625468 (0.055299) with: {'batch_size': 1, 'epochs': 15, 'input_dim': 300, 'lyrs': (128, 64, 32, 1)}\n",
            "0.475655 (0.127231) with: {'batch_size': 1, 'epochs': 15, 'input_dim': 300, 'lyrs': (128, 1)}\n",
            "0.614232 (0.041368) with: {'batch_size': 1, 'epochs': 20, 'input_dim': 300, 'lyrs': (64, 1)}\n",
            "0.625468 (0.055299) with: {'batch_size': 1, 'epochs': 20, 'input_dim': 300, 'lyrs': (32, 1)}\n",
            "0.625468 (0.055299) with: {'batch_size': 1, 'epochs': 20, 'input_dim': 300, 'lyrs': (32, 16, 1)}\n",
            "0.625468 (0.055299) with: {'batch_size': 1, 'epochs': 20, 'input_dim': 300, 'lyrs': (16, 8, 1)}\n",
            "0.625468 (0.055299) with: {'batch_size': 1, 'epochs': 20, 'input_dim': 300, 'lyrs': (64, 32, 1)}\n",
            "0.625468 (0.055299) with: {'batch_size': 1, 'epochs': 20, 'input_dim': 300, 'lyrs': (64, 32, 16, 1)}\n",
            "0.625468 (0.055299) with: {'batch_size': 1, 'epochs': 20, 'input_dim': 300, 'lyrs': (128, 64, 32, 1)}\n",
            "0.531835 (0.103115) with: {'batch_size': 1, 'epochs': 20, 'input_dim': 300, 'lyrs': (128, 1)}\n",
            "0.636704 (0.070069) with: {'batch_size': 1, 'epochs': 30, 'input_dim': 300, 'lyrs': (64, 1)}\n",
            "0.621723 (0.050527) with: {'batch_size': 1, 'epochs': 30, 'input_dim': 300, 'lyrs': (32, 1)}\n",
            "0.625468 (0.055299) with: {'batch_size': 1, 'epochs': 30, 'input_dim': 300, 'lyrs': (32, 16, 1)}\n",
            "0.625468 (0.055299) with: {'batch_size': 1, 'epochs': 30, 'input_dim': 300, 'lyrs': (16, 8, 1)}\n",
            "0.625468 (0.055299) with: {'batch_size': 1, 'epochs': 30, 'input_dim': 300, 'lyrs': (64, 32, 1)}\n",
            "0.625468 (0.055299) with: {'batch_size': 1, 'epochs': 30, 'input_dim': 300, 'lyrs': (64, 32, 16, 1)}\n",
            "0.625468 (0.055299) with: {'batch_size': 1, 'epochs': 30, 'input_dim': 300, 'lyrs': (128, 64, 32, 1)}\n",
            "0.614232 (0.037077) with: {'batch_size': 1, 'epochs': 30, 'input_dim': 300, 'lyrs': (128, 1)}\n",
            "0.644195 (0.028027) with: {'batch_size': 1, 'epochs': 40, 'input_dim': 300, 'lyrs': (64, 1)}\n",
            "0.662921 (0.055804) with: {'batch_size': 1, 'epochs': 40, 'input_dim': 300, 'lyrs': (32, 1)}\n",
            "0.625468 (0.055299) with: {'batch_size': 1, 'epochs': 40, 'input_dim': 300, 'lyrs': (32, 16, 1)}\n",
            "0.625468 (0.055299) with: {'batch_size': 1, 'epochs': 40, 'input_dim': 300, 'lyrs': (16, 8, 1)}\n",
            "0.625468 (0.055299) with: {'batch_size': 1, 'epochs': 40, 'input_dim': 300, 'lyrs': (64, 32, 1)}\n",
            "0.625468 (0.055299) with: {'batch_size': 1, 'epochs': 40, 'input_dim': 300, 'lyrs': (64, 32, 16, 1)}\n",
            "0.625468 (0.055299) with: {'batch_size': 1, 'epochs': 40, 'input_dim': 300, 'lyrs': (128, 64, 32, 1)}\n",
            "0.632959 (0.014014) with: {'batch_size': 1, 'epochs': 40, 'input_dim': 300, 'lyrs': (128, 1)}\n",
            "0.677903 (0.050527) with: {'batch_size': 1, 'epochs': 50, 'input_dim': 300, 'lyrs': (64, 1)}\n",
            "0.674157 (0.039989) with: {'batch_size': 1, 'epochs': 50, 'input_dim': 300, 'lyrs': (32, 1)}\n",
            "0.625468 (0.055299) with: {'batch_size': 1, 'epochs': 50, 'input_dim': 300, 'lyrs': (32, 16, 1)}\n",
            "0.625468 (0.055299) with: {'batch_size': 1, 'epochs': 50, 'input_dim': 300, 'lyrs': (16, 8, 1)}\n",
            "0.625468 (0.055299) with: {'batch_size': 1, 'epochs': 50, 'input_dim': 300, 'lyrs': (64, 32, 1)}\n",
            "0.625468 (0.055299) with: {'batch_size': 1, 'epochs': 50, 'input_dim': 300, 'lyrs': (64, 32, 16, 1)}\n",
            "0.625468 (0.055299) with: {'batch_size': 1, 'epochs': 50, 'input_dim': 300, 'lyrs': (128, 64, 32, 1)}\n",
            "0.651685 (0.036696) with: {'batch_size': 1, 'epochs': 50, 'input_dim': 300, 'lyrs': (128, 1)}\n",
            "0.692884 (0.026483) with: {'batch_size': 1, 'epochs': 75, 'input_dim': 300, 'lyrs': (64, 1)}\n",
            "0.689139 (0.023088) with: {'batch_size': 1, 'epochs': 75, 'input_dim': 300, 'lyrs': (32, 1)}\n",
            "0.625468 (0.055299) with: {'batch_size': 1, 'epochs': 75, 'input_dim': 300, 'lyrs': (32, 16, 1)}\n",
            "0.614232 (0.041368) with: {'batch_size': 1, 'epochs': 75, 'input_dim': 300, 'lyrs': (16, 8, 1)}\n",
            "0.621723 (0.050527) with: {'batch_size': 1, 'epochs': 75, 'input_dim': 300, 'lyrs': (64, 32, 1)}\n",
            "0.625468 (0.055299) with: {'batch_size': 1, 'epochs': 75, 'input_dim': 300, 'lyrs': (64, 32, 16, 1)}\n",
            "0.625468 (0.055299) with: {'batch_size': 1, 'epochs': 75, 'input_dim': 300, 'lyrs': (128, 64, 32, 1)}\n",
            "0.700375 (0.032218) with: {'batch_size': 1, 'epochs': 75, 'input_dim': 300, 'lyrs': (128, 1)}\n",
            "0.681648 (0.043355) with: {'batch_size': 1, 'epochs': 100, 'input_dim': 300, 'lyrs': (64, 1)}\n",
            "0.685393 (0.036696) with: {'batch_size': 1, 'epochs': 100, 'input_dim': 300, 'lyrs': (32, 1)}\n",
            "0.621723 (0.034733) with: {'batch_size': 1, 'epochs': 100, 'input_dim': 300, 'lyrs': (32, 16, 1)}\n",
            "0.621723 (0.043355) with: {'batch_size': 1, 'epochs': 100, 'input_dim': 300, 'lyrs': (16, 8, 1)}\n",
            "0.629213 (0.047670) with: {'batch_size': 1, 'epochs': 100, 'input_dim': 300, 'lyrs': (64, 32, 1)}\n",
            "0.625468 (0.055299) with: {'batch_size': 1, 'epochs': 100, 'input_dim': 300, 'lyrs': (64, 32, 16, 1)}\n",
            "0.625468 (0.055299) with: {'batch_size': 1, 'epochs': 100, 'input_dim': 300, 'lyrs': (128, 64, 32, 1)}\n",
            "0.685393 (0.051079) with: {'batch_size': 1, 'epochs': 100, 'input_dim': 300, 'lyrs': (128, 1)}\n"
          ],
          "name": "stdout"
        }
      ]
    },
    {
      "cell_type": "markdown",
      "metadata": {
        "id": "ZOqjWndashSK",
        "colab_type": "text"
      },
      "source": [
        "# Running the model\n",
        "\n",
        "The best model from the grid search resulted in a score of 0.700375 using {'batch_size': 1, 'epochs': 75, 'input_dim': 300, 'lyrs': (128, 1)}. This is the model I am going to use."
      ]
    },
    {
      "cell_type": "code",
      "metadata": {
        "id": "TBXOk_a-VX3_",
        "colab_type": "code",
        "outputId": "1a8a5c16-b6e3-4a5c-a180-09620be0f55b",
        "colab": {
          "base_uri": "https://localhost:8080/",
          "height": 513
        }
      },
      "source": [
        "# Choosing the best model\n",
        "m = up.ann_build_model(300, [128,1]) \n",
        "\n",
        "# The best epochs\n",
        "training = up.ann_train(m, X_train, Y_train, 75) "
      ],
      "execution_count": 83,
      "outputs": [
        {
          "output_type": "display_data",
          "data": {
            "image/png": "[encoded data removed]",
            "text/plain": [
              "<Figure size 720x576 with 1 Axes>"
            ]
          },
          "metadata": {
            "tags": [],
            "needs_background": "light"
          }
        }
      ]
    },
    {
      "cell_type": "code",
      "metadata": {
        "id": "BNYVKMreFc2R",
        "colab_type": "code",
        "colab": {
          "base_uri": "https://localhost:8080/",
          "height": 191
        },
        "outputId": "119b895c-d395-41a1-f520-d6e9571af602"
      },
      "source": [
        "# Looking at what the accuracy scores are looking like\n",
        "training.history['binary_accuracy'][-10:]"
      ],
      "execution_count": 84,
      "outputs": [
        {
          "output_type": "execute_result",
          "data": {
            "text/plain": [
              "[0.7977527976036072,\n",
              " 0.7940074801445007,\n",
              " 0.7827715277671814,\n",
              " 0.8164793848991394,\n",
              " 0.812734067440033,\n",
              " 0.8239700198173523,\n",
              " 0.8014981150627136,\n",
              " 0.8052434325218201,\n",
              " 0.8202247023582458,\n",
              " 0.8089887499809265]"
            ]
          },
          "metadata": {
            "tags": []
          },
          "execution_count": 84
        }
      ]
    },
    {
      "cell_type": "markdown",
      "metadata": {
        "id": "KaI1So3jtTAY",
        "colab_type": "text"
      },
      "source": [
        "# Predictions"
      ]
    },
    {
      "cell_type": "code",
      "metadata": {
        "id": "TSRrIwVdyp2U",
        "colab_type": "code",
        "colab": {
          "base_uri": "https://localhost:8080/",
          "height": 35
        },
        "outputId": "50d1948d-12fb-436c-c793-3ea432ceac5b"
      },
      "source": [
        "# Predictions at 75 total epochs\n",
        "raw_predictions = m.predict(X_test)\n",
        "predictions = [int(round(x[0])) for x in raw_predictions]\n",
        "cases = list(zip(predictions, Y_test))\n",
        "\n",
        "(cases.count((0,0)) + cases.count((1,1)))/len(X_test)"
      ],
      "execution_count": 85,
      "outputs": [
        {
          "output_type": "execute_result",
          "data": {
            "text/plain": [
              "0.7043478260869566"
            ]
          },
          "metadata": {
            "tags": []
          },
          "execution_count": 85
        }
      ]
    },
    {
      "cell_type": "markdown",
      "metadata": {
        "id": "aKD93TfDtdDd",
        "colab_type": "text"
      },
      "source": [
        "The score to beat was 0.6173913043478261, so we beat it by almost .8! Seems like this model is doing okay at predicting voter preference."
      ]
    },
    {
      "cell_type": "markdown",
      "metadata": {
        "id": "ecHKVKwAtntL",
        "colab_type": "text"
      },
      "source": [
        "# Conclusions\n",
        "\n",
        "This model did better than the score we needed to beat, getting a predictive accuracy score of 0.7043478260869566 by using GloVe vectors of the words people wrote about their political out-group to predict who they voted for in the 2016 U.S. Presidential Election. This could be helpful when developing a profile of people's political leaning based on language use.\n",
        "\n",
        "However, one caveat is that the algorithm could be biased in only picking up certain trigger words, namely if the participants actually wrote about whether the target was conservative or liberal and then predicting the participant voted opposite. Though some participants never mentioned it and instead described stereotypically liberal or conservative things (e.g., watching CNN versus Fox News), there could have been enough explicit descriptions for the algorithm to pick-up on. It might be helpful to look at a wider source of text information people write in order to predict their political identity, such as overall tweets or descriptions of a variety of targets, not just their political out-group."
      ]
    }
  ]
}