{
  "nbformat": 4,
  "nbformat_minor": 0,
  "metadata": {
    "colab": {
      "name": "CIS_Final.ipynb",
      "provenance": [],
      "authorship_tag": "ABX9TyNSaUhmYAc/sYPhSr0HoXC4",
      "include_colab_link": true
    },
    "kernelspec": {
      "name": "python3",
      "display_name": "Python 3"
    }
  },
  "cells": [
    {
      "cell_type": "markdown",
      "metadata": {
        "id": "view-in-github",
        "colab_type": "text"
      },
      "source": [
        "<a href=\"https://colab.research.google.com/github/kdenning/Political-ANN/blob/master/CIS_Final.ipynb\" target=\"_parent\"><img src=\"https://colab.research.google.com/assets/colab-badge.svg\" alt=\"Open In Colab\"/></a>"
      ]
    },
    {
      "cell_type": "code",
      "metadata": {
        "id": "4_0ycfDAhsSS",
        "colab_type": "code",
        "outputId": "77a2634f-b305-4f91-d679-2492ece2d15f",
        "colab": {
          "base_uri": "https://localhost:8080/",
          "height": 410
        }
      },
      "source": [
        "# importing the data\n",
        "import pandas as pd\n",
        "url = 'https://docs.google.com/spreadsheets/d/e/2PACX-1vTl96SRjmGCo6hCFRYJzuP_v17kqx08ZC9fubES5aUOCVZjsHWXXxwPix2pvpF5WzOYyHb1SCbaEBDF/pub?output=csv'\n",
        "pt_table = pd.read_csv(url, error_bad_lines=False, encoding='utf-8', delimiter=\",\")\n",
        "pd.set_option('display.max_columns', None)\n",
        "pt_table.head()"
      ],
      "execution_count": 1,
      "outputs": [
        {
          "output_type": "execute_result",
          "data": {
            "text/html": [
              "<div>\n",
              "<style scoped>\n",
              "    .dataframe tbody tr th:only-of-type {\n",
              "        vertical-align: middle;\n",
              "    }\n",
              "\n",
              "    .dataframe tbody tr th {\n",
              "        vertical-align: top;\n",
              "    }\n",
              "\n",
              "    .dataframe thead th {\n",
              "        text-align: right;\n",
              "    }\n",
              "</style>\n",
              "<table border=\"1\" class=\"dataframe\">\n",
              "  <thead>\n",
              "    <tr style=\"text-align: right;\">\n",
              "      <th></th>\n",
              "      <th>subid</th>\n",
              "      <th>PoliOrient_1</th>\n",
              "      <th>VotePref</th>\n",
              "      <th>Day_Clin_In_PT</th>\n",
              "      <th>Day_Clin_In_C</th>\n",
              "      <th>Day_Clin_Out_PT</th>\n",
              "      <th>Day_Clin_Out_C</th>\n",
              "      <th>Day_Trump_Out_PT</th>\n",
              "      <th>Day_Trump_Out_C</th>\n",
              "      <th>Day_Trump_In_PT</th>\n",
              "      <th>Day_Trump_In_C</th>\n",
              "    </tr>\n",
              "  </thead>\n",
              "  <tbody>\n",
              "    <tr>\n",
              "      <th>0</th>\n",
              "      <td>1</td>\n",
              "      <td>2</td>\n",
              "      <td>1</td>\n",
              "      <td>NaN</td>\n",
              "      <td>NaN</td>\n",
              "      <td>NaN</td>\n",
              "      <td>Jen gets up and feeds her 5 kids. She goes to ...</td>\n",
              "      <td>NaN</td>\n",
              "      <td>NaN</td>\n",
              "      <td>NaN</td>\n",
              "      <td>NaN</td>\n",
              "    </tr>\n",
              "    <tr>\n",
              "      <th>1</th>\n",
              "      <td>4</td>\n",
              "      <td>5</td>\n",
              "      <td>2</td>\n",
              "      <td>NaN</td>\n",
              "      <td>NaN</td>\n",
              "      <td>NaN</td>\n",
              "      <td>NaN</td>\n",
              "      <td>NaN</td>\n",
              "      <td>I BELIEVE A TYPICAL DAY FOR JEN IS FILLED WITH...</td>\n",
              "      <td>NaN</td>\n",
              "      <td>NaN</td>\n",
              "    </tr>\n",
              "    <tr>\n",
              "      <th>2</th>\n",
              "      <td>5</td>\n",
              "      <td>4</td>\n",
              "      <td>2</td>\n",
              "      <td>NaN</td>\n",
              "      <td>NaN</td>\n",
              "      <td>NaN</td>\n",
              "      <td>NaN</td>\n",
              "      <td>NaN</td>\n",
              "      <td>NaN</td>\n",
              "      <td>NaN</td>\n",
              "      <td>She wakes up early, gets ready for work, makes...</td>\n",
              "    </tr>\n",
              "    <tr>\n",
              "      <th>3</th>\n",
              "      <td>6</td>\n",
              "      <td>1</td>\n",
              "      <td>1</td>\n",
              "      <td>NaN</td>\n",
              "      <td>Jen is a graudate student in Social work and t...</td>\n",
              "      <td>NaN</td>\n",
              "      <td>NaN</td>\n",
              "      <td>NaN</td>\n",
              "      <td>NaN</td>\n",
              "      <td>NaN</td>\n",
              "      <td>NaN</td>\n",
              "    </tr>\n",
              "    <tr>\n",
              "      <th>4</th>\n",
              "      <td>7</td>\n",
              "      <td>3</td>\n",
              "      <td>1</td>\n",
              "      <td>A feminist goes about her day, ranting about h...</td>\n",
              "      <td>NaN</td>\n",
              "      <td>NaN</td>\n",
              "      <td>NaN</td>\n",
              "      <td>NaN</td>\n",
              "      <td>NaN</td>\n",
              "      <td>NaN</td>\n",
              "      <td>NaN</td>\n",
              "    </tr>\n",
              "  </tbody>\n",
              "</table>\n",
              "</div>"
            ],
            "text/plain": [
              "   subid  PoliOrient_1  VotePref  \\\n",
              "0      1             2         1   \n",
              "1      4             5         2   \n",
              "2      5             4         2   \n",
              "3      6             1         1   \n",
              "4      7             3         1   \n",
              "\n",
              "                                      Day_Clin_In_PT  \\\n",
              "0                                                NaN   \n",
              "1                                                NaN   \n",
              "2                                                NaN   \n",
              "3                                                NaN   \n",
              "4  A feminist goes about her day, ranting about h...   \n",
              "\n",
              "                                       Day_Clin_In_C Day_Clin_Out_PT  \\\n",
              "0                                                NaN             NaN   \n",
              "1                                                NaN             NaN   \n",
              "2                                                NaN             NaN   \n",
              "3  Jen is a graudate student in Social work and t...             NaN   \n",
              "4                                                NaN             NaN   \n",
              "\n",
              "                                      Day_Clin_Out_C Day_Trump_Out_PT  \\\n",
              "0  Jen gets up and feeds her 5 kids. She goes to ...              NaN   \n",
              "1                                                NaN              NaN   \n",
              "2                                                NaN              NaN   \n",
              "3                                                NaN              NaN   \n",
              "4                                                NaN              NaN   \n",
              "\n",
              "                                     Day_Trump_Out_C Day_Trump_In_PT  \\\n",
              "0                                                NaN             NaN   \n",
              "1  I BELIEVE A TYPICAL DAY FOR JEN IS FILLED WITH...             NaN   \n",
              "2                                                NaN             NaN   \n",
              "3                                                NaN             NaN   \n",
              "4                                                NaN             NaN   \n",
              "\n",
              "                                      Day_Trump_In_C  \n",
              "0                                                NaN  \n",
              "1                                                NaN  \n",
              "2  She wakes up early, gets ready for work, makes...  \n",
              "3                                                NaN  \n",
              "4                                                NaN  "
            ]
          },
          "metadata": {
            "tags": []
          },
          "execution_count": 1
        }
      ]
    },
    {
      "cell_type": "code",
      "metadata": {
        "id": "eApK1XCYYkJ8",
        "colab_type": "code",
        "colab": {
          "base_uri": "https://localhost:8080/",
          "height": 260
        },
        "outputId": "e9c60539-8386-4aea-9680-0aa006639ab4"
      },
      "source": [
        "# getting data in long format\n",
        "table_long = pd.melt(pt_table, id_vars=['subid', 'VotePref'], value_vars=['Day_Clin_In_PT', 'Day_Clin_In_C', 'Day_Clin_Out_PT', 'Day_Clin_Out_C', 'Day_Trump_Out_PT', 'Day_Trump_Out_C', 'Day_Trump_In_PT', \"Day_Trump_In_C\" ])\n",
        "# removing NaN's\n",
        "long_nonan = table_long.dropna()\n",
        "# checking the data looks right and is the right number of rows; should be 773\n",
        "print(long_nonan.head())\n",
        "print(len(long_nonan))"
      ],
      "execution_count": 9,
      "outputs": [
        {
          "output_type": "stream",
          "text": [
            "    subid  VotePref        variable  \\\n",
            "4       7         1  Day_Clin_In_PT   \n",
            "8      11         1  Day_Clin_In_PT   \n",
            "18     21         1  Day_Clin_In_PT   \n",
            "20     23         1  Day_Clin_In_PT   \n",
            "27     30         1  Day_Clin_In_PT   \n",
            "\n",
            "                                                value  \n",
            "4   A feminist goes about her day, ranting about h...  \n",
            "8   I am a gym teacher. My typical week begins wit...  \n",
            "18  I think Jen is a very intelligent hard working...  \n",
            "20  I wake up in the morning, take a shower then e...  \n",
            "27                   She wants equality for everyone.  \n",
            "773\n"
          ],
          "name": "stdout"
        }
      ]
    },
    {
      "cell_type": "code",
      "metadata": {
        "id": "ReAndGoBcc14",
        "colab_type": "code",
        "colab": {
          "base_uri": "https://localhost:8080/",
          "height": 713
        },
        "outputId": "beddd779-375b-48e2-c74e-c3441c564401"
      },
      "source": [
        "# Getting puddles and spacey loaded\n",
        "puddles = 'uo-puddles' \n",
        "clone_url = f'https://github.com/{puddles}/uo_puddles.git'\n",
        "!git clone $clone_url \n",
        "import uo_puddles.uo_puddles as up\n",
        "\n",
        "import spacy\n",
        "!python -m spacy download en_core_web_md\n",
        "import en_core_web_md\n",
        "nlp = en_core_web_md.load()  "
      ],
      "execution_count": 10,
      "outputs": [
        {
          "output_type": "stream",
          "text": [
            "Cloning into 'uo_puddles'...\n",
            "remote: Enumerating objects: 258, done.\u001b[K\n",
            "remote: Counting objects: 100% (258/258), done.\u001b[K\n",
            "remote: Compressing objects: 100% (222/222), done.\u001b[K\n",
            "remote: Total 258 (delta 154), reused 64 (delta 33), pack-reused 0\u001b[K\n",
            "Receiving objects: 100% (258/258), 66.97 KiB | 7.44 MiB/s, done.\n",
            "Resolving deltas: 100% (154/154), done.\n",
            "Collecting en_core_web_md==2.2.5\n",
            "\u001b[?25l  Downloading https://github.com/explosion/spacy-models/releases/download/en_core_web_md-2.2.5/en_core_web_md-2.2.5.tar.gz (96.4MB)\n",
            "\u001b[K     |████████████████████████████████| 96.4MB 1.3MB/s \n",
            "\u001b[?25hRequirement already satisfied: spacy>=2.2.2 in /usr/local/lib/python3.6/dist-packages (from en_core_web_md==2.2.5) (2.2.4)\n",
            "Requirement already satisfied: srsly<1.1.0,>=1.0.2 in /usr/local/lib/python3.6/dist-packages (from spacy>=2.2.2->en_core_web_md==2.2.5) (1.0.2)\n",
            "Requirement already satisfied: thinc==7.4.0 in /usr/local/lib/python3.6/dist-packages (from spacy>=2.2.2->en_core_web_md==2.2.5) (7.4.0)\n",
            "Requirement already satisfied: preshed<3.1.0,>=3.0.2 in /usr/local/lib/python3.6/dist-packages (from spacy>=2.2.2->en_core_web_md==2.2.5) (3.0.2)\n",
            "Requirement already satisfied: setuptools in /usr/local/lib/python3.6/dist-packages (from spacy>=2.2.2->en_core_web_md==2.2.5) (47.1.1)\n",
            "Requirement already satisfied: catalogue<1.1.0,>=0.0.7 in /usr/local/lib/python3.6/dist-packages (from spacy>=2.2.2->en_core_web_md==2.2.5) (1.0.0)\n",
            "Requirement already satisfied: requests<3.0.0,>=2.13.0 in /usr/local/lib/python3.6/dist-packages (from spacy>=2.2.2->en_core_web_md==2.2.5) (2.23.0)\n",
            "Requirement already satisfied: murmurhash<1.1.0,>=0.28.0 in /usr/local/lib/python3.6/dist-packages (from spacy>=2.2.2->en_core_web_md==2.2.5) (1.0.2)\n",
            "Requirement already satisfied: wasabi<1.1.0,>=0.4.0 in /usr/local/lib/python3.6/dist-packages (from spacy>=2.2.2->en_core_web_md==2.2.5) (0.6.0)\n",
            "Requirement already satisfied: blis<0.5.0,>=0.4.0 in /usr/local/lib/python3.6/dist-packages (from spacy>=2.2.2->en_core_web_md==2.2.5) (0.4.1)\n",
            "Requirement already satisfied: numpy>=1.15.0 in /usr/local/lib/python3.6/dist-packages (from spacy>=2.2.2->en_core_web_md==2.2.5) (1.18.4)\n",
            "Requirement already satisfied: cymem<2.1.0,>=2.0.2 in /usr/local/lib/python3.6/dist-packages (from spacy>=2.2.2->en_core_web_md==2.2.5) (2.0.3)\n",
            "Requirement already satisfied: plac<1.2.0,>=0.9.6 in /usr/local/lib/python3.6/dist-packages (from spacy>=2.2.2->en_core_web_md==2.2.5) (1.1.3)\n",
            "Requirement already satisfied: tqdm<5.0.0,>=4.38.0 in /usr/local/lib/python3.6/dist-packages (from spacy>=2.2.2->en_core_web_md==2.2.5) (4.41.1)\n",
            "Requirement already satisfied: importlib-metadata>=0.20; python_version < \"3.8\" in /usr/local/lib/python3.6/dist-packages (from catalogue<1.1.0,>=0.0.7->spacy>=2.2.2->en_core_web_md==2.2.5) (1.6.0)\n",
            "Requirement already satisfied: urllib3!=1.25.0,!=1.25.1,<1.26,>=1.21.1 in /usr/local/lib/python3.6/dist-packages (from requests<3.0.0,>=2.13.0->spacy>=2.2.2->en_core_web_md==2.2.5) (1.24.3)\n",
            "Requirement already satisfied: certifi>=2017.4.17 in /usr/local/lib/python3.6/dist-packages (from requests<3.0.0,>=2.13.0->spacy>=2.2.2->en_core_web_md==2.2.5) (2020.4.5.1)\n",
            "Requirement already satisfied: chardet<4,>=3.0.2 in /usr/local/lib/python3.6/dist-packages (from requests<3.0.0,>=2.13.0->spacy>=2.2.2->en_core_web_md==2.2.5) (3.0.4)\n",
            "Requirement already satisfied: idna<3,>=2.5 in /usr/local/lib/python3.6/dist-packages (from requests<3.0.0,>=2.13.0->spacy>=2.2.2->en_core_web_md==2.2.5) (2.9)\n",
            "Requirement already satisfied: zipp>=0.5 in /usr/local/lib/python3.6/dist-packages (from importlib-metadata>=0.20; python_version < \"3.8\"->catalogue<1.1.0,>=0.0.7->spacy>=2.2.2->en_core_web_md==2.2.5) (3.1.0)\n",
            "Building wheels for collected packages: en-core-web-md\n",
            "  Building wheel for en-core-web-md (setup.py) ... \u001b[?25l\u001b[?25hdone\n",
            "  Created wheel for en-core-web-md: filename=en_core_web_md-2.2.5-cp36-none-any.whl size=98051305 sha256=2dabbeb3ce295119690833afceee1e9fc44879f9ff89d21f4e02c585a909d1d8\n",
            "  Stored in directory: /tmp/pip-ephem-wheel-cache-ji0gfnnh/wheels/df/94/ad/f5cf59224cea6b5686ac4fd1ad19c8a07bc026e13c36502d81\n",
            "Successfully built en-core-web-md\n",
            "Installing collected packages: en-core-web-md\n",
            "Successfully installed en-core-web-md-2.2.5\n",
            "\u001b[38;5;2m✔ Download and installation successful\u001b[0m\n",
            "You can now load the model via spacy.load('en_core_web_md')\n"
          ],
          "name": "stdout"
        }
      ]
    },
    {
      "cell_type": "code",
      "metadata": {
        "id": "6s6eoGEFdy6x",
        "colab_type": "code",
        "colab": {}
      },
      "source": [
        "# Shuffle table to prep for data split\n",
        "import numpy as np\n",
        "rsgen = np.random.RandomState(1234)\n",
        "\n",
        "shuffled_table = long_nonan.sample(frac=1, random_state=rsgen).reset_index(drop=True)\n",
        "shuffled_table.head()\n",
        "\n",
        "# Pulling out strings\n",
        "text = shuffled_table['value'].tolist()\n",
        "vote = shuffled_table['VotePref'].tolist() # 1 = voted for Clinton, 2 = voted for Trump"
      ],
      "execution_count": 0,
      "outputs": []
    },
    {
      "cell_type": "code",
      "metadata": {
        "id": "3pTucTLpfRM1",
        "colab_type": "code",
        "colab": {}
      },
      "source": [
        "# Getting Glove vectors for words in shuffled lists\n"
      ],
      "execution_count": 0,
      "outputs": []
    },
    {
      "cell_type": "code",
      "metadata": {
        "id": "CeJgDGg4eIP0",
        "colab_type": "code",
        "colab": {}
      },
      "source": [
        "# Split data into test and training sets"
      ],
      "execution_count": 0,
      "outputs": []
    }
  ]
}